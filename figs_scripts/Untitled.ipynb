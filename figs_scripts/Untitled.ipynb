{
 "cells": [
  {
   "cell_type": "code",
   "execution_count": 1,
   "metadata": {
    "collapsed": true
   },
   "outputs": [],
   "source": [
    "%matplotlib inline\n",
    "from __future__ import division\n",
    "import pandas as pd\n",
    "import numpy as np\n",
    "import matplotlib as mpl\n",
    "import matplotlib.pyplot as plt\n",
    "import pystan\n",
    "import pickle\n",
    "import phasekickstan as p\n",
    "import h5py\n",
    "import phasekick\n",
    "import pmefm\n",
    "from glob import glob\n",
    "import lockin\n",
    "import os\n",
    "from scipy.optimize import curve_fit, root\n",
    "from scipy import optimize\n",
    "from tqdm import tqdm\n",
    "idx = pd.IndexSlice\n",
    "from collections import OrderedDict"
   ]
  },
  {
   "cell_type": "code",
   "execution_count": 137,
   "metadata": {
    "collapsed": false
   },
   "outputs": [],
   "source": [
    "df = pd.read_csv('../results/pk-efm/151217-205912-p3sun-phasekick.csv')"
   ]
  },
  {
   "cell_type": "code",
   "execution_count": 138,
   "metadata": {
    "collapsed": true
   },
   "outputs": [],
   "source": [
    "fh = h5py.File('../results/pk-efm-pystan/test11151217-205912-p3sun-phasekick_exp_sq_nc.h5', 'r')"
   ]
  },
  {
   "cell_type": "code",
   "execution_count": 139,
   "metadata": {
    "collapsed": false
   },
   "outputs": [],
   "source": [
    "tau_m = np.mean(fh['params/tau'][:])\n",
    "phi = p.fh_exp2dphi(fh)\n",
    "df_fit = p.fh_exp2df(fh)\n",
    "df_fit_50 = np.mean(df_fit, axis=0)\n",
    "phi_50 = np.mean(phi, axis=0)\n",
    "phi_5 = np.percentile(phi, 5, axis=0)\n",
    "phi_95 = np.percentile(phi, 95, axis=0)"
   ]
  },
  {
   "cell_type": "code",
   "execution_count": 140,
   "metadata": {
    "collapsed": true
   },
   "outputs": [],
   "source": [
    "df_d = df[df.expt == 'data']"
   ]
  },
  {
   "cell_type": "code",
   "execution_count": 145,
   "metadata": {
    "collapsed": false
   },
   "outputs": [],
   "source": [
    "fig, ax = plt.subplots(figsize=(3,3))\n",
    "ax.plot(df_fit_50)\n",
    "tau = fh['params/tau'][:]\n",
    "df_inf = fh['params/df_inf'][:]\n",
    "tp = fh['data/t'][:]\n",
    "line_fits = np.zeros((tau.size, tp.size))\n",
    "for i in xrange(tau.size):\n",
    "    line_fits[i] = -tau[i] * df_inf[i] + df_inf[i]*tp\n",
    "\n",
    "line_50 = np.mean(line_fits, axis=0)\n",
    "line_5 = np.percentile(line_fits, 5, axis=0)\n",
    "line_95 = np.percentile(line_fits, 95, axis=0)\n",
    "tp = fh['data/t'][:]\n",
    "fig, ax = plt.subplots(figsize=(3,3))\n",
    "for i in np.random.randint(0, tau.size, 100):\n",
    "    ax.plot(tp, -tau[i] * df_inf[i] + df_inf[i]*tp, color='0.5', alpha=0.2)"
   ]
  },
  {
   "cell_type": "code",
   "execution_count": 148,
   "metadata": {
    "collapsed": false
   },
   "outputs": [
    {
     "data": {
      "image/png": "[encoded data removed]",
      "text/plain": [
       "<matplotlib.figure.Figure at 0x11bb11790>"
      ]
     },
     "execution_count": 148,
     "metadata": {},
     "output_type": "execute_result"
    }
   ],
   "source": [
    "fig, ax = plt.subplots(figsize=(3,3))\n",
    "ax.plot(line_50)\n",
    "fig"
   ]
  },
  {
   "cell_type": "code",
   "execution_count": 255,
   "metadata": {
    "collapsed": true
   },
   "outputs": [],
   "source": [
    "mpl.markers?"
   ]
  },
  {
   "cell_type": "code",
   "execution_count": 282,
   "metadata": {
    "collapsed": false
   },
   "outputs": [],
   "source": [
    "mpl.rc('font', size=9)\n",
    "\n",
    "with mpl.rc_context({'text.usetex': True}):\n",
    "    fig = plt.figure(figsize=(1., 1.))\n",
    "    plt.axhline(color='0.5', zorder=0)\n",
    "    plt.scatter(df_d.tp[1:-1:2]*1e3, df_d['dphi_corrected [cyc]'][1:-1:2]*1e3, s=6, color='b',linewidths=0.5)\n",
    "    plt.scatter(df_d.tp.values[-1]*1e3,\n",
    "                            df_d['dphi_corrected [cyc]'].values[-1]*1e3,\n",
    "                            marker='*', s=9, color='b', linewidths=0.5)\n",
    "#     line, = plt.plot(df_d.tp*1e3, phi_50, 'g-', zorder=0)\n",
    "#     plt.fill_between(df_d.tp*1e3, phi_5, phi_95, color=line.get_color(), alpha=0.3, zorder=0)\n",
    "    plt.plot(tp[14:], line_50[14:], 'g-', zorder=0, alpha=0.5)\n",
    "#     plt.fill_between(tp[12:], line_5[12:], line_95[12:], color='g', alpha=0.3,  linewidth=0)\n",
    "    plt.yticks(np.arange(-100, 1, 50))\n",
    "    plt.xlim(0, 10.7)\n",
    "    plt.ylim(-120, 30)\n",
    "    plt.xticks([0, 5, 10])\n",
    "    plt.ylabel('$\\\\Delta \\\\phi \\\\: \\\\: [\\\\mathrm{mcyc.}]$')\n",
    "    plt.xlabel('$t_{\\\\mathrm{p}} \\\\: \\\\: [\\\\mathrm{ms}]$')"
   ]
  },
  {
   "cell_type": "code",
   "execution_count": 283,
   "metadata": {
    "collapsed": false,
    "scrolled": true
   },
   "outputs": [
    {
     "data": {
      "image/png": "[encoded data removed]",
      "text/plain": [
       "<matplotlib.figure.Figure at 0x123c7a6d0>"
      ]
     },
     "execution_count": 283,
     "metadata": {},
     "output_type": "execute_result"
    }
   ],
   "source": [
    "fig"
   ]
  },
  {
   "cell_type": "code",
   "execution_count": 284,
   "metadata": {
    "collapsed": false
   },
   "outputs": [],
   "source": [
    "fig.savefig('/Users/ryandwyer/Dropbox/_JAM_MS__Dwyer201511__Phasekick__figs/raw-figures/single-delta-phase.pdf',\n",
    "           bbox_inches='tight', transparent=True)"
   ]
  },
  {
   "cell_type": "code",
   "execution_count": 111,
   "metadata": {
    "collapsed": false
   },
   "outputs": [
    {
     "data": {
      "text/plain": [
       "[<matplotlib.lines.Line2D at 0x1195e9a50>]"
      ]
     },
     "execution_count": 111,
     "metadata": {},
     "output_type": "execute_result"
    }
   ],
   "source": [
    "fig, ax = plt.subplots()\n",
    "plt.plot(df_d.tp*1e3, df_d['dphi_corrected [cyc]']/df_d.tp, '.')\n"
   ]
  },
  {
   "cell_type": "code",
   "execution_count": 112,
   "metadata": {
    "collapsed": false
   },
   "outputs": [],
   "source": [
    "dphi_avg = (df_d['dphi_corrected [cyc]'].values[0::4] + df_d['dphi_corrected [cyc]'].values[1::4] +\n",
    "df_d['dphi_corrected [cyc]'].values[2::4] + df_d['dphi_corrected [cyc]'].values[3::4])/4"
   ]
  },
  {
   "cell_type": "code",
   "execution_count": 113,
   "metadata": {
    "collapsed": false
   },
   "outputs": [],
   "source": [
    "tp_avg = 250*(df_d.tp.values[0::4] + df_d.tp.values[1::4] + df_d.tp.values[2::4] + df_d.tp.values[3::4]) "
   ]
  },
  {
   "cell_type": "code",
   "execution_count": 114,
   "metadata": {
    "collapsed": false
   },
   "outputs": [
    {
     "data": {
      "text/plain": [
       "[<matplotlib.lines.Line2D at 0x118732ed0>]"
      ]
     },
     "execution_count": 114,
     "metadata": {},
     "output_type": "execute_result"
    }
   ],
   "source": [
    "plt.plot(df_d.tp*1e3)"
   ]
  },
  {
   "cell_type": "code",
   "execution_count": 120,
   "metadata": {
    "collapsed": false
   },
   "outputs": [
    {
     "data": {
      "image/png": "[encoded data removed]",
      "text/plain": [
       "<matplotlib.figure.Figure at 0x119fcd450>"
      ]
     },
     "execution_count": 120,
     "metadata": {},
     "output_type": "execute_result"
    }
   ],
   "source": [
    "fig = plt.figure()\n",
    "plt.plot(tp_avg, dphi_avg/tp_avg*1000, 'b.')\n",
    "plt.plot(df_d.tp.values*1e3, df_d['dphi_corrected [cyc]'].values/df_d.tp.values, 'g.')\n",
    "plt.ylim(-40, 10)\n",
    "fig"
   ]
  },
  {
   "cell_type": "code",
   "execution_count": 118,
   "metadata": {
    "collapsed": false
   },
   "outputs": [
    {
     "data": {
      "image/png": "[encoded data removed]",
      "text/plain": [
       "<matplotlib.figure.Figure at 0x117d89090>"
      ]
     },
     "execution_count": 118,
     "metadata": {},
     "output_type": "execute_result"
    }
   ],
   "source": [
    "fig = plt.figure()\n",
    "fig"
   ]
  },
  {
   "cell_type": "code",
   "execution_count": null,
   "metadata": {
    "collapsed": true
   },
   "outputs": [],
   "source": []
  }
 ],
 "metadata": {
  "kernelspec": {
   "display_name": "Python 2",
   "language": "python",
   "name": "python2"
  },
  "language_info": {
   "codemirror_mode": {
    "name": "ipython",
    "version": 2
   },
   "file_extension": ".py",
   "mimetype": "text/x-python",
   "name": "python",
   "nbconvert_exporter": "python",
   "pygments_lexer": "ipython2",
   "version": "2.7.11"
  }
 },
 "nbformat": 4,
 "nbformat_minor": 0
}
