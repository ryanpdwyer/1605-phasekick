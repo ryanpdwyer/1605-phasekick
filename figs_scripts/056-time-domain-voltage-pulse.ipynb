{
 "cells": [
  {
   "cell_type": "code",
   "execution_count": 1,
   "metadata": {
    "collapsed": true
   },
   "outputs": [],
   "source": [
    "%matplotlib inline\n",
    "from __future__ import division, print_function\n",
    "import matplotlib as mpl\n",
    "mpl.style.use('classic')\n",
    "import matplotlib.pyplot as plt\n",
    "import numpy as np\n",
    "import h5py\n",
    "from scipy import signal, linalg\n",
    "from ipywidgets import interact"
   ]
  },
  {
   "cell_type": "code",
   "execution_count": 2,
   "metadata": {
    "collapsed": true
   },
   "outputs": [],
   "source": [
    "import sklearn\n",
    "from scipy import linalg, signal, optimize\n",
    "import lockin\n",
    "import phasekick2 as pk2\n",
    "import phasekick as pk\n",
    "import tqdm\n",
    "import sigutils\n",
    "import munch\n",
    "%reload_ext timedomainfit\n",
    "from timedomainfit import *\n",
    "import timedomainfit as td\n",
    "import pystan\n",
    "\n",
    "def svdsqrtm(x, eps=1e-15):\n",
    "    \"\"\"Return the matrix square root of x calculating using the svd.\n",
    "    \n",
    "    Set singular values < eps to 0.\n",
    "    This prevents numerical errors from making sqrtm(x) complex\n",
    "    (small eigenvalues of x accidently negative).\"\"\"\n",
    "    u, s, v = linalg.svd(x)\n",
    "    s_pos = np.zeros_like(s)\n",
    "    for i in xrange(s.size):\n",
    "        if s[i] > eps:\n",
    "            s_pos[i] = s[i]\n",
    "\n",
    "    return np.dot(u, np.dot(np.diag(np.sqrt(s_pos)), v.T))\n",
    "\n",
    "\n",
    "def unscented(x, P, scale=1.0, eps=1e-15):\n",
    "    u\"\"\"\"For a vector x of length N with covariance matrix P,\n",
    "    form 2N sigma points used for taking the unscented transform.\n",
    "\n",
    "                                      __\n",
    "    Defaults to taking points at x ± √NP.\"\"\"\n",
    "    x = x.ravel() # Force shape\n",
    "    N = x.size\n",
    "    Psqrt = scale * svdsqrtm(N * P, eps)\n",
    "    x_sigma = []\n",
    "\n",
    "    for i in xrange(N):\n",
    "        x_sigma.append(x + Psqrt[:, i])\n",
    "\n",
    "    for i in xrange(N):\n",
    "        x_sigma.append(x - Psqrt[:, i])\n",
    "\n",
    "    return x_sigma\n",
    "\n",
    "def dc_plus_ac2(t_, tau, t0, dx, X0, Y0, tau_df):\n",
    "    t = t_ - t0\n",
    "    omega = 0.06185 * 2 * np.pi\n",
    "    omega0 = 0.062 * 2 * np.pi\n",
    "    omega_tau2 = (omega * tau)**2\n",
    "    phi = pk.phase_step(t, tau_df, 1.0)\n",
    "    x_light = (dx * (1 - omega_tau2 / (1 + omega_tau2) * np.exp(-t/tau)) - \n",
    "              dx / (1 + omega_tau2) * (np.cos(omega * t) + omega * tau * np.sin(omega*t))\n",
    "              ) - np.where(t>2*tau, dx/530.0*t, 0)\n",
    "    x_df = X0 * phi * np.cos(t*omega) + Y0 * phi * np.sin(t*omega)\n",
    "    return np.where(t > 0, x_light + 1e-3*x_df, 0)\n",
    "\n",
    "\n",
    "def dc_plus_ac3(t_, tau, t0, dx, tau_df, df):\n",
    "    t = t_ - t0\n",
    "    omega = 0.062 * 2 * np.pi\n",
    "    omega_tau2 = (omega * tau)**2\n",
    "    phi = pk.phase_step(t, tau_df, df) * 2*np.pi\n",
    "    x_light = (dx * (1 - omega_tau2 / (1 + omega_tau2) * np.exp(-t/tau)) - \n",
    "              dx / (1 + omega_tau2) * (np.cos(omega * t) + omega * tau * np.sin(omega*t))\n",
    "              )\n",
    "    X0=-11.22\n",
    "    Y0=-44.25\n",
    "    x_df = X0 * phi * np.cos(t_*omega) + Y0 * phi * np.sin(t_*omega)\n",
    "    return np.where(t > 0, x_light + 1e-3*x_df, 0)\n",
    "\n",
    "def plot_stuff(tau, t0, x_dc, X0, Y0, tau_df):\n",
    "    plt.plot(bi_all.t_us[m], bi_all.resid[m])\n",
    "    plt.plot(bi_all.t_us[m], dc_plus_ac2(bi_all.t_us[m], tau, t0, x_dc, X0, Y0, tau_df))\n",
    "    \n",
    "def align_labels(axes_list,lim, axis='y'):\n",
    "    for ax in axes_list:\n",
    "        t = ax.yaxis.label.get_transform()\n",
    "        x,y = ax.yaxis.label.get_position()\n",
    "        ax.yaxis.set_label_coords(lim,y,t)\n"
   ]
  },
  {
   "cell_type": "code",
   "execution_count": 3,
   "metadata": {
    "collapsed": true
   },
   "outputs": [],
   "source": [
    "mpl.rc('font', size='9')"
   ]
  },
  {
   "cell_type": "code",
   "execution_count": 4,
   "metadata": {},
   "outputs": [
    {
     "name": "stdout",
     "output_type": "stream",
     "text": [
      "Response:\n",
      "f   mag       dB\n",
      "    0.000 1.000    0.000\n",
      " 2000.000 0.982   -0.161\n",
      " 4000.000 0.921   -0.715\n",
      "15000.000 0.098  -20.164\n",
      "30000.000 0.000 -101.125\n",
      "33000.000 0.000 -110.366\n",
      "66000.000 0.000 -141.187\n",
      "500000.000 0.000 -196.320\n"
     ]
    }
   ],
   "source": [
    "fh = h5py.File(\"../data/tr-efm/151218-003450-100sun-784.h5\", \"r\")\n",
    "params =   {'fp': 4000,\n",
    "             'fc': 15000,\n",
    "             't_phase': -0.052,\n",
    "             'ti': -54e-3,\n",
    "             'tf': 6e-3,\n",
    "             'Ndec': 1}\n",
    "fir = lockin.lock2(66000, params['fp'], params['fc'], fs=1e6)"
   ]
  },
  {
   "cell_type": "code",
   "execution_count": 5,
   "metadata": {},
   "outputs": [
    {
     "name": "stderr",
     "output_type": "stream",
     "text": [
      "                                                  \r"
     ]
    },
    {
     "name": "stdout",
     "output_type": "stream",
     "text": [
      "Response:\n",
      "f   mag       dB\n",
      "    0.000 1.000   -0.000\n",
      " 3099.931 0.983   -0.152\n",
      " 6199.861 0.927   -0.660\n",
      "24799.444 0.096  -20.369\n",
      "30999.305 0.011  -38.830\n",
      "49598.888 0.000 -101.957\n",
      "61998.610 0.000 -110.975\n",
      "500000.000 0.000 -179.337\n"
     ]
    }
   ],
   "source": [
    "bi = td.signal_average_gr_parab(fh['data'], -1.5e-3, 0, invert=False, align_voltage=True)"
   ]
  },
  {
   "cell_type": "code",
   "execution_count": 6,
   "metadata": {
    "collapsed": true
   },
   "outputs": [],
   "source": [
    "bidamped = fit_damped_sine_eliminate_harmonics(bi.t_ms, bi.x, p0=np.array([0, 0, 62.0, 0.0, 0.0]))"
   ]
  },
  {
   "cell_type": "code",
   "execution_count": 7,
   "metadata": {},
   "outputs": [
    {
     "name": "stderr",
     "output_type": "stream",
     "text": [
      "                                                  \r"
     ]
    },
    {
     "name": "stdout",
     "output_type": "stream",
     "text": [
      "Response:\n",
      "f   mag       dB\n",
      "    0.000 1.000   -0.000\n",
      " 3096.811 0.983   -0.152\n",
      " 6193.623 0.927   -0.661\n",
      "24774.492 0.096  -20.354\n",
      "30968.115 0.011  -38.789\n",
      "49548.983 0.000 -101.976\n",
      "61936.229 0.000 -111.030\n",
      "500000.000 0.000 -179.312\n"
     ]
    }
   ],
   "source": [
    "bi_all = td.signal_average_gr_parab(fh['data'], -1.5e-3, 1.4e-3, invert=False, align_voltage=True)"
   ]
  },
  {
   "cell_type": "code",
   "execution_count": 8,
   "metadata": {
    "collapsed": true
   },
   "outputs": [],
   "source": [
    "remove_harmonics(bi_all, bidamped)"
   ]
  },
  {
   "cell_type": "code",
   "execution_count": 9,
   "metadata": {
    "collapsed": true
   },
   "outputs": [],
   "source": [
    "m = pk.masklh(bi_all.t_ms, -10e-3, 30e-3)"
   ]
  },
  {
   "cell_type": "code",
   "execution_count": 10,
   "metadata": {},
   "outputs": [
    {
     "data": {
      "text/plain": [
       "[<matplotlib.lines.Line2D at 0x1140695d0>]"
      ]
     },
     "execution_count": 10,
     "metadata": {},
     "output_type": "execute_result"
    },
    {
     "data": {
      "image/png": "[encoded data removed]",
      "text/plain": [
       "<matplotlib.figure.Figure at 0x11436be50>"
      ]
     },
     "metadata": {},
     "output_type": "display_data"
    }
   ],
   "source": [
    "plt.plot(bi_all.t_us[m], bi_all.resid[m])\n",
    "plt.plot(bi_all.t_us[m], dc_plus_ac3(bi_all.t_us[m], 1.0, 1.7, 1.55, 0.1, 0.07*6.28))"
   ]
  },
  {
   "cell_type": "code",
   "execution_count": 11,
   "metadata": {
    "collapsed": true
   },
   "outputs": [],
   "source": [
    "# popt, pcov = optimize.curve_fit(dc_plus_ac2, bi_all.t_us[m], bi_all.resid[m], sigma=bi_all.x_err[m],\n",
    "#                                 p0=np.array([0.05, 2.4, 1.55, -16, -36, 0.07]),\n",
    "#                                method='dogbox')"
   ]
  },
  {
   "cell_type": "code",
   "execution_count": 12,
   "metadata": {
    "collapsed": true
   },
   "outputs": [],
   "source": [
    "# fit = dc_plus_ac2(bi_all.t_us[m], *popt)"
   ]
  },
  {
   "cell_type": "code",
   "execution_count": 13,
   "metadata": {
    "collapsed": true
   },
   "outputs": [],
   "source": [
    "def dc_plus_ac2_exp(t_, tau_log, t0, dx, X0, Y0):\n",
    "    t = t_ - t0\n",
    "    omega = 0.06185 * 2 * np.pi\n",
    "    omega0 = 0.062 * 2 * np.pi\n",
    "    tau = np.exp(tau_log)\n",
    "    omega_tau2 = (omega * tau)**2\n",
    "    phi = pk.phase_step(t, 1e-4, 1.0)\n",
    "    x_light = (dx * (1 - omega_tau2 / (1 + omega_tau2) * np.exp(-t/tau)) - \n",
    "              dx / (1 + omega_tau2) * (np.cos(omega * t) + omega * tau * np.sin(omega*t))\n",
    "              ) - np.where(t>2*tau, dx/530.0*t, 0)\n",
    "    x_df = X0 * phi * np.cos(t*omega) + Y0 * phi * np.sin(t*omega)\n",
    "    return np.where(t > 0, x_light + 1e-3*x_df, 0)"
   ]
  },
  {
   "cell_type": "code",
   "execution_count": 14,
   "metadata": {
    "collapsed": true
   },
   "outputs": [],
   "source": [
    "# pcov.diagonal()**0.5"
   ]
  },
  {
   "cell_type": "code",
   "execution_count": 15,
   "metadata": {},
   "outputs": [
    {
     "name": "stderr",
     "output_type": "stream",
     "text": [
      "/Users/ryandwyer/Documents/Programming/mypython/pmefm/phasekick.py:147: RuntimeWarning: overflow encountered in exp\n",
      "  return df*t + df*tau*(np.exp(-t/tau)-1)\n",
      "/Users/ryandwyer/anaconda/lib/python2.7/site-packages/ipykernel/__main__.py:11: RuntimeWarning: invalid value encountered in add\n"
     ]
    }
   ],
   "source": [
    "popt, pcov = optimize.curve_fit(dc_plus_ac2_exp, bi_all.t_us[m], bi_all.resid[m],\n",
    "                                p0=np.array([-1,   1.85957573e+00,   1.59650452e+00,\n",
    "        -6.01417104e+00,  -3.67138821e+01])\n",
    "                               )"
   ]
  },
  {
   "cell_type": "code",
   "execution_count": 16,
   "metadata": {
    "collapsed": true
   },
   "outputs": [],
   "source": [
    "pts = unscented(popt, pcov, scale=0.00035, eps=100)"
   ]
  },
  {
   "cell_type": "code",
   "execution_count": 17,
   "metadata": {
    "collapsed": true
   },
   "outputs": [],
   "source": [
    "# popt, pcov = optimize.curve_fit(dc_plus_ac2, bi_all.t_us[m], bi_all.resid[m],\n",
    "#                                 p0=np.array([  3.68420573e-01,   1.85957573e+00,   1.59650452e+00,\n",
    "#         -6.01417104e+00,  -3.6b7138821e+01,   2.68239469e-06])\n",
    "#                                )"
   ]
  },
  {
   "cell_type": "code",
   "execution_count": 18,
   "metadata": {},
   "outputs": [
    {
     "name": "stderr",
     "output_type": "stream",
     "text": [
      "/Users/ryandwyer/anaconda/lib/python2.7/site-packages/ipykernel/__main__.py:8: RuntimeWarning: overflow encountered in exp\n",
      "/Users/ryandwyer/anaconda/lib/python2.7/site-packages/ipykernel/__main__.py:11: RuntimeWarning: invalid value encountered in add\n",
      "/Users/ryandwyer/anaconda/lib/python2.7/site-packages/ipykernel/__main__.py:12: RuntimeWarning: invalid value encountered in add\n"
     ]
    },
    {
     "data": {
      "image/png": "[encoded data removed]",
      "text/plain": [
       "<matplotlib.figure.Figure at 0x114610350>"
      ]
     },
     "metadata": {},
     "output_type": "display_data"
    }
   ],
   "source": [
    "mpl.rc('font', size=8)\n",
    "mpl.rc('axes', edgecolor='0')\n",
    "fig = plt.figure(figsize=(2.6, 4.05))\n",
    "gs = mpl.gridspec.GridSpec(21, 1)\n",
    "axes = []\n",
    "iend = [3, 6, 11, 16]\n",
    "axes.append(fig.add_subplot(gs[:iend[0]]))\n",
    "for i,i_next in zip(iend[:-1], iend[1:]):\n",
    "    axes.append(fig.add_subplot(gs[i:i_next], sharex=axes[0]))\n",
    "\n",
    "axes.append(fig.add_subplot(gs[iend[-1]:]))\n",
    "fig.subplots_adjust(wspace=0.0, hspace=0)\n",
    "\n",
    "tpts = np.array([-50, 0, 0, 150])\n",
    "Vpts = np.array([0, 0, 1, 1])\n",
    "\n",
    "axes[0].plot(tpts, Vpts, 'k')\n",
    "axes[0].set_ylim(-0.2, 1.2)\n",
    "axes[0].set_yticks([0, 1])\n",
    "axes[0].set_yticklabels(['$0$', ''])\n",
    "axes[0].set_xticklabels([''])\n",
    "\n",
    "axes[0].set_xlim(-8, 30)\n",
    "\n",
    "axes[0].set_ylabel(\"$V_\\\\mathrm{t}$\")\n",
    "\n",
    "pts_color = u'#1f77b4'\n",
    "light_color = u'#ff7f0e'\n",
    "dark_color = u'#9467bd'\n",
    "\n",
    "t_exp_pos = np.r_[np.linspace(0,15, 101), 200]\n",
    "t_exp = np.r_[[-50, 0], t_exp_pos]\n",
    "x_exp = np.r_[0, 0, np.exp(-t_exp_pos/1.0)]\n",
    "\n",
    "axes[1].plot(t_exp, x_exp, 'g')\n",
    "axes[1].set_ylim(-0.2, 1.2)\n",
    "axes[1].set_ylabel(\"$G$\")\n",
    "\n",
    "for ax in [axes[i] for i in [0, 1, 3, 4]]:\n",
    "    ax.axhline(color='0.8', linewidth=0.7, zorder=0)\n",
    "\n",
    "# axes[2].plot()\n",
    "# axes[2].set_ylabel(\"$H$\")\n",
    "\n",
    "ax_x = axes[2]\n",
    "\n",
    "ax_x.plot(bi_all.t_us, bi_all.x, linewidth=0.5, color='0.5')\n",
    "ax_x.plot(bi_all.t_us, bi_all.x, '.', color='0.2', markeredgewidth=0)\n",
    "ax_x.plot(bi_all.t_us, bi_all.x - bi_all.resid, '-', color=pts_color, linewidth=1, alpha=1, zorder=4)\n",
    "ax_x.set_ylim(-52, 52)\n",
    "ax_x.set_yticks([-40, 0, 40])\n",
    "# ax_x.set_yticklabels([u'−40', '', '40'])\n",
    "ax_x.set_ylabel('$x$ [nm]')\n",
    "\n",
    "\n",
    "ax_r = axes[3]\n",
    "\n",
    "# ax_r.plot(bi_all.t_us, bi_all.resid, '-', color='0.6',linewidth=0.7)\n",
    "ax_r.plot(bi_all.t_us, bi_all.resid, '.', color=pts_color, zorder=1)\n",
    "\n",
    "# popt = np.array([0.8, 1.9, 1.55, -28,  -5, 1e-5])\n",
    "\n",
    "# ax_r.plot(bi_all.t_us[m], dc_plus_ac2_exp(bi_all.t_us[m], *popt))\n",
    "ax_r.plot(bi_all.t_us[m], dc_plus_ac2_exp(bi_all.t_us[m], *pts[5]), color=dark_color, linewidth=1.25, alpha=1, zorder=2)\n",
    "ax_r.plot(bi_all.t_us[m], dc_plus_ac2_exp(bi_all.t_us[m], *pts[0]), color=light_color, alpha=1, linewidth=0.75, zorder=3)\n",
    "ax_r.set_ylim(-1, 3.9)\n",
    "ax_r.set_yticks([0, 2])\n",
    "# ax_r.set_yticklabels([u'−3', '', '3'])\n",
    "ax_r.set_ylabel('$\\\\Delta x_\\\\mathrm{V}$ [nm]')\n",
    "\n",
    "markeredgewidth=0\n",
    "# axes[-1].plot(bi_all.t_us[m],\n",
    "#               1*(bi_all.resid[m] - dc_plus_ac2_exp(bi_all.t_us[m], *popt)),\n",
    "#               '.', markeredgewidth=markeredgewidth)\n",
    "axes[-1].plot(bi_all.t_us[m],\n",
    "              1*(bi_all.resid[m] - dc_plus_ac2_exp(bi_all.t_us[m], *pts[0])),\n",
    "              's', markersize=2.5, markeredgewidth=markeredgewidth, color=dark_color, alpha=1)\n",
    "axes[-1].plot(bi_all.t_us[m],\n",
    "              1*(bi_all.resid[m] - dc_plus_ac2_exp(bi_all.t_us[m], *pts[5])),\n",
    "              '.',  markeredgewidth=markeredgewidth, color=light_color, alpha=0.8)\n",
    "axes[-1].set_xlim(*axes[0].get_xlim())\n",
    "axes[-1].set_ylim(-0.7, 0.7)\n",
    "axes[-1].set_xlabel(u\"Time $t$ [µs]\")\n",
    "axes[-1].set_ylabel('$r$ [nm]')\n",
    "axes[-1].set_yticks([-0.4, 0, 0.4])\n",
    "\n",
    "for ax in axes[:2]:\n",
    "    ax.set_frame_on(False)\n",
    "    ax.set_axis_off()\n",
    "\n",
    "for ax in axes[-2:]:\n",
    "    ax.set_xticks([0, 15, 30])"
   ]
  },
  {
   "cell_type": "code",
   "execution_count": 19,
   "metadata": {
    "collapsed": true
   },
   "outputs": [],
   "source": [
    "align_labels(axes, 19)"
   ]
  },
  {
   "cell_type": "code",
   "execution_count": 20,
   "metadata": {},
   "outputs": [
    {
     "data": {
      "text/plain": [
       "0.059409682232404407"
      ]
     },
     "execution_count": 20,
     "metadata": {},
     "output_type": "execute_result"
    }
   ],
   "source": [
    "np.exp(popt[0])"
   ]
  },
  {
   "cell_type": "code",
   "execution_count": 21,
   "metadata": {},
   "outputs": [
    {
     "data": {
      "text/plain": [
       "0.34769574779581874"
      ]
     },
     "execution_count": 21,
     "metadata": {},
     "output_type": "execute_result"
    }
   ],
   "source": [
    "np.exp(pts[0][0])"
   ]
  },
  {
   "cell_type": "code",
   "execution_count": 22,
   "metadata": {},
   "outputs": [
    {
     "data": {
      "text/plain": [
       "0.010151146125111489"
      ]
     },
     "execution_count": 22,
     "metadata": {},
     "output_type": "execute_result"
    }
   ],
   "source": [
    "np.exp(pts[5][0])"
   ]
  },
  {
   "cell_type": "code",
   "execution_count": 23,
   "metadata": {
    "collapsed": true
   },
   "outputs": [],
   "source": [
    "fig.savefig('../figs/05-HL-raw-time-domain.pdf', bbox_inches='tight', pad_inches=0.25, transparent=True)"
   ]
  }
 ],
 "metadata": {
  "anaconda-cloud": {},
  "kernelspec": {
   "display_name": "Python [default]",
   "language": "python",
   "name": "python2"
  },
  "language_info": {
   "codemirror_mode": {
    "name": "ipython",
    "version": 2
   },
   "file_extension": ".py",
   "mimetype": "text/x-python",
   "name": "python",
   "nbconvert_exporter": "python",
   "pygments_lexer": "ipython2",
   "version": "2.7.12"
  }
 },
 "nbformat": 4,
 "nbformat_minor": 1
}
