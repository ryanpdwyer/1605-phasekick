{
 "cells": [
  {
   "cell_type": "code",
   "execution_count": 166,
   "metadata": {
    "collapsed": false
   },
   "outputs": [],
   "source": [
    "%matplotlib inline\n",
    "from __future__ import division\n",
    "import h5py\n",
    "import numpy as np\n",
    "import lockin\n",
    "import sigutils\n",
    "from scipy import signal, linalg\n",
    "from scipy import optimize\n",
    "from scipy.optimize import curve_fit\n",
    "import matplotlib as mpl\n",
    "mpl.style.use('classic')\n",
    "import matplotlib.pyplot as plt\n",
    "from matplotlib import gridspec\n",
    "import phasekick\n",
    "import glob\n",
    "import collections\n",
    "from tqdm import tqdm\n",
    "import pandas as pd\n",
    "idx = pd.IndexSlice\n",
    "\n",
    "def svdsqrtm(x, eps=1e-15):\n",
    "    \"\"\"Return the matrix square root of x calculating using the svd.\n",
    "    \n",
    "    Set singular values < eps to 0.\n",
    "    This prevents numerical errors from making sqrtm(x) complex\n",
    "    (small eigenvalues of x accidently negative).\"\"\"\n",
    "    u, s, v = linalg.svd(x)\n",
    "    s_pos = np.zeros_like(s)\n",
    "    for i in xrange(s.size):\n",
    "        if s[i] > eps:\n",
    "            s_pos[i] = s[i]\n",
    "\n",
    "    return np.dot(u, np.dot(np.diag(np.sqrt(s_pos)), v.T))\n",
    "\n",
    "\n",
    "def unscented(x, P, scale=1.0, eps=1e-15):\n",
    "    u\"\"\"\"For a vector x of length N with covariance matrix P,\n",
    "    form 2N sigma points used for taking the unscented transform.\n",
    "\n",
    "                                      __\n",
    "    Defaults to taking points at x ± √NP.\"\"\"\n",
    "    x = x.ravel() # Force shape\n",
    "    N = x.size\n",
    "    Psqrt = scale * svdsqrtm(N * P, eps)\n",
    "    x_sigma = []\n",
    "\n",
    "    for i in xrange(N):\n",
    "        x_sigma.append(x + Psqrt[:, i])\n",
    "\n",
    "    for i in xrange(N):\n",
    "        x_sigma.append(x - Psqrt[:, i])\n",
    "\n",
    "    return x_sigma\n",
    "\n",
    "def gr2locks(top_gr):\n",
    "    locks = []\n",
    "    for gr in tqdm(top_gr.values()):\n",
    "        half_periods = gr[\"half periods [s]\"][:]\n",
    "        N2even = gr.attrs['Calc BNC565 CantClk.N2 (even)']\n",
    "        t1 = gr.attrs['Abrupt BNC565 CantClk.t1 [s]']\n",
    "        t2 = np.sum(gr[\"half periods [s]\"][:N2even+1])\n",
    "        t0 = -(t1 + t2)\n",
    "        x = gr['cantilever-nm'][:]\n",
    "        dt = gr['dt [s]'].value\n",
    "        t = np.arange(x.size)*dt + t0\n",
    "        lock = lockin.LockIn(t, x, 1/dt)\n",
    "        lock.lock2(fp=5000, fc=15000, print_response=False)\n",
    "        lock.phase(ti=3e-3, tf=7e-3)\n",
    "        locks.append(lock)\n",
    "    \n",
    "    return locks\n",
    "\n",
    "\n",
    "def left_right_fit(x, y, xLi, xLf, xRi, xRf, x0):\n",
    "    mL = phasekick.masklh(x, xLi, xLf)\n",
    "    mR = phasekick.masklh(x, xRi, xRf)\n",
    "    mbL = np.polyfit(x[mL], y[mL], 1)\n",
    "    mbR = np.polyfit(x[mR], y[mR], 1)\n",
    "    diff = np.polyval(mbR, x0) - np.polyval(mbL, x0)\n",
    "    return mbL, mbR, diff\n",
    "\n",
    "def measure_dA_dphi(li, tp, tLi, tLf, tRi, tRf):\n",
    "    _, __, dA = left_right_fit(li.t, li.A, tLi, tLf, tp+tRi, tp+tRf, tp/2)\n",
    "    _, __, dphi = left_right_fit(li.t, np.unwrap(li.phi), tLi, tLf, tp+tRi, tp+tRf, tp/2)\n",
    "    return dA, dphi\n",
    "\n",
    "\n",
    "\n",
    "def avg_psd(lias):\n",
    "    psd = []\n",
    "    for lia in lias:\n",
    "        freq, psd_ = signal.periodogram(lia.x, fs=1e6)\n",
    "        psd.append(psd_)\n",
    "    psd = np.array(psd)\n",
    "    return freq, np.mean(psd, axis=0)\n",
    "\n",
    "class LIAvg(object):\n",
    "    def __init__(self, lis):\n",
    "        self.lis = lis\n",
    "    \n",
    "    def __getattr__(self, attr):\n",
    "        if isinstance(getattr(self.lis[0], attr), collections.Iterable):\n",
    "            return np.mean(np.array([getattr(li, attr)[li.m0] for li in self.lis]), axis=0)\n",
    "        else:\n",
    "            return np.mean([getattr(li, attr) for li in self.lis])\n",
    "\n",
    "def cumsum_zero(x, i):\n",
    "    cumsum = np.cumsum(x)\n",
    "    return cumsum - cumsum[i] \n",
    "        \n",
    "def delay_dA_dphi(top_gr, tp, tLi, tLf, tRi, tRf):\n",
    "    dAs=[]\n",
    "    dPhis=[]\n",
    "    delays =[]\n",
    "    for ds_name, gr in tqdm(top_gr.items()):\n",
    "        half_periods = gr[\"half periods [s]\"][:]\n",
    "        N2even = gr.attrs['Calc BNC565 CantClk.N2 (even)']\n",
    "        t1 = gr.attrs['Abrupt BNC565 CantClk.t1 [s]']\n",
    "        t2 = np.sum(gr[\"half periods [s]\"][:N2even+1])\n",
    "        t0 = -(t1 + t2)\n",
    "        x = gr['cantilever-nm'][:]\n",
    "        dt = gr['dt [s]'].value\n",
    "        t = np.arange(x.size)*dt + t0\n",
    "        li = lockin.LockIn(t, x, 1/dt)\n",
    "        li.lock2(fp=5000, fc=15000, print_response=False)\n",
    "        li.phase(ti=3e-3, tf=7e-3)\n",
    "        dA, dphi = measure_dA_dphi(li, tp, tLi, tLf, tRi, tRf)\n",
    "        dAs.append(dA)\n",
    "        dPhis.append(dphi)\n",
    "        delays.append(gr.attrs['Abrupt BNC565 CantClk.D tip [s]'])\n",
    "    \n",
    "    return delays, dAs, dPhis\n",
    "\n",
    "def gr2lock_both(fh, ds, f1, f2, t1=-1e-3, t2=4e-3, iir=None):\n",
    "    lis = []\n",
    "    for gr in ['data', 'control']:\n",
    "        li = phasekick.gr2lock(fh[gr][ds], f1, f2)\n",
    "        if iir is not None:\n",
    "            li.lock_butter(**iir)\n",
    "            li.phase(ti=0.003)\n",
    "        li.m0 = phasekick.masklh(li.t, t1, t2)\n",
    "        lis.append(li)\n",
    "    \n",
    "    return LIAvg(lis)\n",
    "\n",
    "def align_labels(axes_list,lim, axis='y'):\n",
    "    for ax in axes_list:\n",
    "        t = ax.yaxis.label.get_transform()\n",
    "        x,y = ax.yaxis.label.get_position()\n",
    "        ax.yaxis.set_label_coords(lim,y,t)"
   ]
  },
  {
   "cell_type": "code",
   "execution_count": 115,
   "metadata": {
    "collapsed": true
   },
   "outputs": [],
   "source": [
    "size = 9\n",
    "rcParams = {'figure.figsize': (2.0, 2.5), 'font.size': size,\n",
    "#             'lines.markersize': ,\n",
    "            'lines.linewidth': 1,\n",
    "            'xtick.labelsize': size, 'ytick.labelsize': size,}"
   ]
  },
  {
   "cell_type": "code",
   "execution_count": 3,
   "metadata": {
    "collapsed": false
   },
   "outputs": [
    {
     "name": "stderr",
     "output_type": "stream",
     "text": [
      "100%|██████████| 64/64 [00:02<00:00, 25.14it/s]\n",
      "100%|██████████| 64/64 [00:02<00:00, 26.85it/s]\n",
      "100%|██████████| 64/64 [00:02<00:00, 27.64it/s]\n",
      "100%|██████████| 64/64 [00:02<00:00, 26.79it/s]\n",
      "100%|██████████| 64/64 [00:02<00:00, 26.65it/s]\n"
     ]
    }
   ],
   "source": [
    "fh = h5py.File('../data/subcycle-pk-efm/151209-192456-400ns-pulse-10V.h5', 'r')\n",
    "delays, dA, dPhis = delay_dA_dphi(fh['data'], 1.6e-3, -1e-3, -1e-4, 1e-4, 1e-3)\n",
    "\n",
    "tps = [800, 400, 200, 100, 50]\n",
    "# Set up DataFrame now that delay times are known\n",
    "delay_int = np.int64(np.round(np.array(delays)*1e9))\n",
    "df = pd.DataFrame(index=pd.MultiIndex.from_product(\n",
    "        ([800, 400, 200, 100, 50], delay_int), names=['pulsewidth', 'delay']))\n",
    "df.sort_index(inplace=True)\n",
    "\n",
    "df.loc[idx[400, :], 'dA'] = dA\n",
    "df.loc[idx[400, :], 'dPhi'] = dPhis\n",
    "\n",
    "fh100 = h5py.File('../data/subcycle-pk-efm/151209-192746-100ns-pulse-10V.h5', 'r')\n",
    "delays, dAs, dPhis = delay_dA_dphi(fh100['data'], 1.6e-3, -1e-3, -1e-4, 1e-4, 1e-3)\n",
    "df.loc[idx[100, :], 'dA'] = dAs\n",
    "df.loc[idx[100, :], 'dPhi'] = dPhis\n",
    "\n",
    "fh50 = h5py.File('../data/subcycle-pk-efm/151209-193134-050ns-pulse-10V.h5', 'r')\n",
    "delays, dAs, dPhis = delay_dA_dphi(fh50['data'], 1.6e-3, -1e-3, -1e-4, 1e-4, 1e-3)\n",
    "df.loc[idx[50, :], 'dA'] = dAs\n",
    "df.loc[idx[50, :], 'dPhi'] = dPhis\n",
    "\n",
    "fh800 = h5py.File('../data/subcycle-pk-efm/151209-192327-800ns-pulse-10V.h5', 'r')\n",
    "delays, dAs, dPhis = delay_dA_dphi(fh800['data'], 1.6e-3, -1e-3, -1e-4, 1e-4, 1e-3)\n",
    "df.loc[idx[800, :], 'dA'] = dAs\n",
    "df.loc[idx[800, :], 'dPhi'] = dPhis\n",
    "\n",
    "fh200 = h5py.File('../data/subcycle-pk-efm/151209-192620-200ns-pulse-10V.h5', 'r')\n",
    "delays, dAs, dPhis = delay_dA_dphi(fh200['data'], 1.6e-3, -1e-3, -1e-4, 1e-4, 1e-3)\n",
    "df.loc[idx[200, :], 'dA'] = dAs\n",
    "df.loc[idx[200, :], 'dPhi'] = dPhis\n"
   ]
  },
  {
   "cell_type": "code",
   "execution_count": 4,
   "metadata": {
    "collapsed": false
   },
   "outputs": [
    {
     "name": "stderr",
     "output_type": "stream",
     "text": [
      "  5%|▍         | 3/64 [00:00<00:02, 26.01it/s]"
     ]
    },
    {
     "name": "stdout",
     "output_type": "stream",
     "text": [
      "Response:\n",
      "f   mag       dB\n",
      "    0.000 1.000   -0.000\n",
      " 2500.000 0.978   -0.189\n",
      " 5000.000 0.897   -0.942\n",
      "15000.000 0.113  -18.951\n",
      "30000.000 0.000  -97.678\n",
      "31000.000 0.000 -101.316\n",
      "62000.000 0.000 -126.825\n",
      "500000.000 0.000 -191.988\n"
     ]
    },
    {
     "name": "stderr",
     "output_type": "stream",
     "text": [
      "100%|██████████| 64/64 [00:02<00:00, 24.93it/s]\n"
     ]
    }
   ],
   "source": [
    "locks = []\n",
    "fir = lockin.lock2(62000, 5000, 15000, 1e6)\n",
    "for gr in tqdm(fh800['data'].values()):\n",
    "    half_periods = gr[\"half periods [s]\"][:]\n",
    "    N2even = gr.attrs['Calc BNC565 CantClk.N2 (even)']\n",
    "    t1 = gr.attrs['Abrupt BNC565 CantClk.t1 [s]']\n",
    "    t2 = np.sum(gr[\"half periods [s]\"][:N2even+1])\n",
    "    t0 = -(t1 + t2)\n",
    "    x = gr['cantilever-nm'][:]\n",
    "    dt = gr['dt [s]'].value\n",
    "    t = np.arange(x.size)*dt + t0\n",
    "    lock = lockin.LockIn(t, x, 1/dt)\n",
    "    lock.lock2(fp=5000, fc=15000, print_response=False)\n",
    "    lock.phase(ti=3e-3, tf=7e-3)\n",
    "    locks.append(lock)\n",
    "    m0 = phasekick.masklh(t, -5e-6, 5e-6) "
   ]
  },
  {
   "cell_type": "code",
   "execution_count": 15,
   "metadata": {
    "collapsed": false
   },
   "outputs": [
    {
     "name": "stdout",
     "output_type": "stream",
     "text": [
      "Response:\n",
      "f   mag      dB\n",
      "    0.000 1.000  -0.000\n",
      "  666.667 0.970  -0.263\n",
      " 1333.333 0.707  -3.010\n",
      "30964.231 0.002 -54.692\n",
      "61928.462 0.000 -66.899\n",
      "500000.000 0.000    -inf\n",
      "Response:\n",
      "f   mag      dB\n",
      "    0.000 1.000  -0.000\n",
      "  666.667 0.970  -0.263\n",
      " 1333.333 0.707  -3.010\n",
      "30964.102 0.002 -54.692\n",
      "61928.204 0.000 -66.899\n",
      "500000.000 0.000    -inf\n",
      "Response:\n",
      "f   mag      dB\n",
      "    0.000 1.000  -0.000\n",
      "  666.667 0.970  -0.263\n",
      " 1333.333 0.707  -3.010\n",
      "30964.231 0.002 -54.692\n",
      "61928.462 0.000 -66.899\n",
      "500000.000 0.000    -inf\n",
      "Response:\n",
      "f   mag      dB\n",
      "    0.000 1.000  -0.000\n",
      "  666.667 0.970  -0.263\n",
      " 1333.333 0.707  -3.010\n",
      "30964.102 0.002 -54.692\n",
      "61928.204 0.000 -66.899\n",
      "500000.000 0.000    -inf\n",
      "Response:\n",
      "f   mag      dB\n",
      "    0.000 1.000  -0.000\n",
      " 3000.000 0.970  -0.263\n",
      " 6000.000 0.707  -3.010\n",
      "30964.231 0.037 -28.567\n",
      "61928.462 0.009 -40.769\n",
      "500000.000 0.000    -inf\n",
      "Response:\n",
      "f   mag      dB\n",
      "    0.000 1.000  -0.000\n",
      " 3000.000 0.970  -0.263\n",
      " 6000.000 0.707  -3.010\n",
      "30964.102 0.037 -28.567\n",
      "61928.204 0.009 -40.769\n",
      "500000.000 0.000    -inf\n"
     ]
    }
   ],
   "source": [
    "factor = 2/1.92\n",
    "# Apply 4e3, 15e3 filter;\n",
    "# Add iir filter of specified bandwidth.\n",
    "fmax = 6e3\n",
    "lia = gr2lock_both(fh, '0000', 4e3*factor, 15e3*factor, iir=dict(N=2, f3dB=fmax/4.5, t_exclude=1e-3))\n",
    "lia1 = gr2lock_both(fh, '0000', 4e3*factor, 15e3*factor, iir=dict(N=2, f3dB=fmax/4.5, t_exclude=1e-3))\n",
    "lia4 = gr2lock_both(fh, '0000', 4e3*factor, 15e3*factor, iir=dict(N=2, f3dB=fmax, t_exclude=1e-3))"
   ]
  },
  {
   "cell_type": "code",
   "execution_count": 219,
   "metadata": {
    "collapsed": false
   },
   "outputs": [
    {
     "data": {
      "text/plain": [
       "4.8"
      ]
     },
     "execution_count": 219,
     "metadata": {},
     "output_type": "execute_result"
    }
   ],
   "source": [
    "1/(1/6**2 + 1/8**2)**0.5"
   ]
  },
  {
   "cell_type": "code",
   "execution_count": 220,
   "metadata": {
    "collapsed": false
   },
   "outputs": [
    {
     "data": {
      "text/plain": [
       "1.4743082804014829"
      ]
     },
     "execution_count": 220,
     "metadata": {},
     "output_type": "execute_result"
    }
   ],
   "source": [
    "1/(1/1.5**2 + 1/8**2)**0.5"
   ]
  },
  {
   "cell_type": "code",
   "execution_count": null,
   "metadata": {
    "collapsed": true
   },
   "outputs": [],
   "source": []
  },
  {
   "cell_type": "code",
   "execution_count": 16,
   "metadata": {
    "collapsed": false
   },
   "outputs": [
    {
     "name": "stdout",
     "output_type": "stream",
     "text": [
      "Response:\n",
      "f   mag      dB\n",
      "    0.000 1.000  -0.000\n",
      "  666.667 0.970  -0.263\n",
      " 1333.333 0.707  -3.010\n",
      "30964.231 0.002 -54.692\n",
      "61928.462 0.000 -66.899\n",
      "500000.000 0.000    -inf\n",
      "Response:\n",
      "f   mag      dB\n",
      "    0.000 1.000  -0.000\n",
      "  666.667 0.970  -0.263\n",
      " 1333.333 0.707  -3.010\n",
      "30964.102 0.002 -54.692\n",
      "61928.204 0.000 -66.899\n",
      "500000.000 0.000    -inf\n"
     ]
    }
   ],
   "source": [
    "lia = gr2lock_both(fh, '0000', 4e3*factor, 15e3*factor, iir=dict(N=2, f3dB=fmax/4.5, t_exclude=1e-3))"
   ]
  },
  {
   "cell_type": "code",
   "execution_count": 140,
   "metadata": {
    "collapsed": false
   },
   "outputs": [
    {
     "data": {
      "text/plain": [
       "<matplotlib.text.Text at 0x1313faf50>"
      ]
     },
     "execution_count": 140,
     "metadata": {},
     "output_type": "execute_result"
    },
    {
     "data": {
      "image/png": "[encoded data removed]",
      "text/plain": [
       "<matplotlib.figure.Figure at 0x1315ac950>"
      ]
     },
     "metadata": {},
     "output_type": "display_data"
    }
   ],
   "source": [
    "mpl.rc('font', size=8)\n",
    "    \n",
    "fig, (ax2, ax3, ax4) = plt.subplots(nrows=3, figsize=(1., 2.))\n",
    "fig.subplots_adjust(hspace=0, wspace=0)\n",
    "\n",
    "lock = locks[48]\n",
    "m2 = phasekick.masklh(lock.t, -1e-6, 8e-6)\n",
    "m = phasekick.masklh(lock.t, -3e-3, 4.6e-3)\n",
    "\n",
    "t_many = np.linspace(lock.t[m2][0], lock.t[m2][-1], 3001) * 1e6  \n",
    "ti = 16/4.0\n",
    "\n",
    "\n",
    "m_fill1 = phasekick.masklh(lia.t, -2e-4, 2e-3)\n",
    "m_fill4 = phasekick.masklh(lia4.t, -2e-4, 2e-3)\n",
    "i0 = np.argmax(abs(lia.t) <= 0.5e-6) # Index where t = 0\n",
    "ax = [ax3, ax4]\n",
    "\n",
    "ax[0].fill_between(lia4.t[m_fill4]*1e3, lia4.df[m_fill4],\n",
    "                   color='b', alpha='0.1', linewidth=0) \n",
    "ax[0].fill_between(lia.t[m_fill1]*1e3, lia.df[m_fill1],\n",
    "                   color='g', alpha='0.1', linewidth=0) \n",
    "ax[0].plot(lia4.t*1e3, lia4.df, 'b', linewidth=1, alpha=0.5)\n",
    "ax[0].plot(lia.t*1e3, lia.df, 'g', alpha=1, linewidth=1.25, zorder=0)\n",
    "# ax[0].plot(lia1.t*1e3, lia1.df, 'm', linewidth=1.5, zorder=0)\n",
    "ax[1].plot(lia4.t*1e3, cumsum_zero(lia4.df, i0)*1e-3, 'b', linewidth=0.75, alpha=1, zorder=2)\n",
    "ax[1].plot(lia.t*1e3, cumsum_zero(lia.df, i0)*1e-3, 'g', alpha=0.7, linewidth=1.25, zorder=1)\n",
    "# ax[1].plot(lia1.t*1e3, cumsum_zero(lia1.df, i0)*1e-3, 'm', alpha=0.5, linewidth=1.75, zorder=0)\n",
    "# ax[1].set_xlabel(\"Time [ms]\")\n",
    "ax[0].set_ylabel(\"$\\\\delta f$ [Hz]\")\n",
    "ax[0].set_ylim(-7, 25)\n",
    "ax[1].set_ylabel(\"$\\\\delta \\\\phi$ [mcyc.]\")\n",
    "# ax[1].set_xlim(-0.5, 2.5)\n",
    "# ax[0].set_xlim(-0.5, 2.5)\n",
    "ax[1].set_ylim(-2.5, 27.5)\n",
    "ax[1].set_yticks(np.linspace(0, 20, 2))\n",
    "ax[0].set_yticks(np.linspace(0, 15, 2))\n",
    "ax[1].axhline(y=0, color='0.5', linewidth=1, zorder=0)\n",
    "# ax[0].set_xticklabels([\"\"])\n",
    "# ax[1].set_xticklabels([\"\", 0, \"\", 1, \"\", 2, \"\"])\n",
    "\n",
    "ax2.plot(lock.t[m]*1e3, lock.A[m], 'b')\n",
    "# ax2.set_xlim(-3, 4.6)\n",
    "# ax2.set_xticks(np.arange(-2, 5.25, 2))\n",
    "ax2.set_yticks(np.arange(35, 46, 10))\n",
    "\n",
    "# ax2.set_yticks(np.arange(35, 46, 5))\n",
    "ax2.set_ylabel(\"$A$ [nm]\")\n",
    "ax2.set_xticklabels([''])\n",
    "ax3.set_xticklabels([''])\n",
    "for ax in [ax2, ax3, ax4]:\n",
    "    ax.set_xlim(-1, 3)\n",
    "    ax.set_xticks([0, 2])\n",
    "\n",
    "# ax4.set_xticklabels(['0', '2'])\n",
    "ax4.set_xlabel(\"Time $t$ [ms]\")\n",
    "#     fig.savefig(\"/Users/ryandwyer/Dropbox/_JAM_GT__Marohn201610__NSF_DMR__renewal__figs/_rawfigs/Avst.pdf\",\n",
    "#                 bbox_inches='tight', transparent=True)"
   ]
  },
  {
   "cell_type": "code",
   "execution_count": 141,
   "metadata": {
    "collapsed": true
   },
   "outputs": [],
   "source": [
    "align_labels([ax2, ax3, ax4], 15)"
   ]
  },
  {
   "cell_type": "code",
   "execution_count": 142,
   "metadata": {
    "collapsed": false
   },
   "outputs": [],
   "source": [
    "for (ax_, yloc) in zip([ax2, ax3, ax4],\n",
    "                        [0.5, 0.53, 0.4]):\n",
    "    yaxis = ax_.get_yaxis()\n",
    "    x, y = yaxis.label.get_position()\n",
    "    yaxis.label.set_position((x, yloc))"
   ]
  },
  {
   "cell_type": "code",
   "execution_count": 143,
   "metadata": {
    "collapsed": true
   },
   "outputs": [],
   "source": [
    "fig.savefig('ex.pdf', bbox_inches='tight', pad_inches=0.25, transparent=True)"
   ]
  },
  {
   "cell_type": "code",
   "execution_count": 144,
   "metadata": {
    "collapsed": true
   },
   "outputs": [],
   "source": [
    "!open ex.pdf"
   ]
  },
  {
   "cell_type": "code",
   "execution_count": 145,
   "metadata": {
    "collapsed": true
   },
   "outputs": [],
   "source": [
    "!cp ex.pdf /Users/ryandwyer/Dropbox/_JAM_MS__Dwyer201511__Phasekick__figs/raw-figures/pk-EFM-subcycle-D-df-dphi.pdf"
   ]
  },
  {
   "cell_type": "code",
   "execution_count": 146,
   "metadata": {
    "collapsed": false
   },
   "outputs": [
    {
     "name": "stderr",
     "output_type": "stream",
     "text": [
      "100%|██████████| 64/64 [00:02<00:00, 27.46it/s]\n"
     ]
    }
   ],
   "source": [
    "locks = gr2locks(fh800['data'])"
   ]
  },
  {
   "cell_type": "code",
   "execution_count": 147,
   "metadata": {
    "collapsed": false
   },
   "outputs": [],
   "source": [
    "m800 = np.array([ True,  True,  True,  True,  True,  True,  True,  True,  True,\n",
    "        True,  True,  True,  True,  True,  True,  True,  True,  True,\n",
    "        True,  True,  True,  True,  True,  True,  True,  True,  True,\n",
    "        True,  True,  True,  True,  True,  True, False,  True,  True,\n",
    "        True,  True,  True,  True,  True,  True,  True,  True,  True,\n",
    "        True,  True,  True,  True,  True,  True,  True,  True,  True,\n",
    "        True,  True,  True,  True,  True,  True,  True,  True, False, False], dtype=bool)\n",
    "\n",
    "m400 = np.array([ True,  True,  True,  True,  True,  True,  True,  True,  True,\n",
    "        True,  True,  True,  True,  True,  True,  True,  True,  True,\n",
    "        True,  True,  True,  True,  True,  True,  True,  True,  True,\n",
    "        True,  True,  True,  True,  True,  True,  True,  True,  True,\n",
    "        True,  True,  True,  True,  True,  True,  True,  True,  True,\n",
    "        True,  True,  True,  True,  True,  True,  True,  True,  True,\n",
    "        True,  True,  True,  True,  True,  True,  True,  True,  True, False], dtype=bool)"
   ]
  },
  {
   "cell_type": "code",
   "execution_count": 148,
   "metadata": {
    "collapsed": true
   },
   "outputs": [],
   "source": [
    "delay_us = delay_int / 1000.0"
   ]
  },
  {
   "cell_type": "code",
   "execution_count": 149,
   "metadata": {
    "collapsed": true
   },
   "outputs": [],
   "source": [
    "dAfunc = lambda f, tau, A0: phasekick.phase_step(1.0/f, tau, A0) * f"
   ]
  },
  {
   "cell_type": "code",
   "execution_count": 150,
   "metadata": {
    "collapsed": true
   },
   "outputs": [],
   "source": [
    "fit_func = lambda t, A1, A2, dphi, offset: A1*np.cos(2*np.pi*0.062e-3*t + dphi)*(1+A2*np.sin(2*np.pi*0.062e-3*t+dphi)) + offset"
   ]
  },
  {
   "cell_type": "code",
   "execution_count": 151,
   "metadata": {
    "collapsed": false
   },
   "outputs": [],
   "source": [
    "tt = np.arange(2000)*1e-8"
   ]
  },
  {
   "cell_type": "code",
   "execution_count": 152,
   "metadata": {
    "collapsed": false
   },
   "outputs": [],
   "source": [
    "df.sort_index(inplace=True)"
   ]
  },
  {
   "cell_type": "code",
   "execution_count": 153,
   "metadata": {
    "collapsed": false
   },
   "outputs": [],
   "source": [
    "# # plt.plot(delay_int, df.loc[idx[800, :], 'dPhi'])\n",
    "# plt.plot(delay_int, df.loc[idx[400, :]*2, 'dPhi'])\n",
    "# plt.plot(delay_int, df.loc[idx[200, :]*4, 'dPhi'])\n",
    "# plt.plot(delay_int, df.loc[idx[100, :]*8, 'dPhi'])\n",
    "# plt.plot(delay_int, df.loc[idx[50, :]*16, 'dPhi'])"
   ]
  },
  {
   "cell_type": "code",
   "execution_count": 154,
   "metadata": {
    "collapsed": false
   },
   "outputs": [],
   "source": [
    "pulsewidths = np.array([800, 400, 200, 100, 50.])"
   ]
  },
  {
   "cell_type": "code",
   "execution_count": 155,
   "metadata": {
    "collapsed": false
   },
   "outputs": [],
   "source": [
    "df_i = df.xs(50, level='pulsewidth', drop_level=True)"
   ]
  },
  {
   "cell_type": "code",
   "execution_count": 156,
   "metadata": {
    "collapsed": false
   },
   "outputs": [],
   "source": [
    "dA_fit = []\n",
    "dA_fit_std_err = []\n",
    "dAopts = []\n",
    "dAfunc_off = lambda t, A, phi, offset: offset + A*np.cos(2*np.pi*t*0.062 + 2*np.pi*phi)\n",
    "for i, pulsewidth in enumerate(pulsewidths):\n",
    "    df_i = df.xs(pulsewidth, level='pulsewidth', drop_level=True)\n",
    "    if i == 0:\n",
    "        x = df_i.index[m800]/1000.\n",
    "        y = df_i.dA.values[m800]\n",
    "    elif i == 1:\n",
    "        x = df_i.index[m400]/1000.\n",
    "        y = df_i.dA.values[m400]\n",
    "    else:\n",
    "        x = df_i.index/1000.\n",
    "        y = df_i.dA.values\n",
    "\n",
    "    popt, pcov = curve_fit(dAfunc_off,\n",
    "    x, y, p0=[pulsewidth/40, -0.1, 0])\n",
    "    dAopts.append(popt)\n",
    "    dA_std_err = np.sqrt(pcov.diagonal())[0]\n",
    "    dA_fit.append(popt[0])\n",
    "    dA_fit_std_err.append(dA_std_err)\n",
    "\n",
    "dA_fit = np.array(dA_fit)\n",
    "dA_fit_stbd_err = np.array(dA_fit_std_err)"
   ]
  },
  {
   "cell_type": "code",
   "execution_count": 157,
   "metadata": {
    "collapsed": true
   },
   "outputs": [],
   "source": [
    "f = 1000.0/np.array(tps) # units µs^{-1}"
   ]
  },
  {
   "cell_type": "code",
   "execution_count": 190,
   "metadata": {
    "collapsed": false
   },
   "outputs": [],
   "source": [
    "cov_pts = unscented(popt, pcov, 2)"
   ]
  },
  {
   "cell_type": "code",
   "execution_count": 191,
   "metadata": {
    "collapsed": false
   },
   "outputs": [
    {
     "data": {
      "text/plain": [
       "[array([  4.16533601e-02,   5.50647151e+01]),\n",
       " array([  4.54592020e-02,   6.00521256e+01]),\n",
       " array([  2.65111879e-02,   5.50419613e+01]),\n",
       " array([  2.27053459e-02,   5.00545508e+01])]"
      ]
     },
     "execution_count": 191,
     "metadata": {},
     "output_type": "execute_result"
    }
   ],
   "source": [
    "cov_pts"
   ]
  },
  {
   "cell_type": "code",
   "execution_count": 192,
   "metadata": {
    "collapsed": false
   },
   "outputs": [
    {
     "data": {
      "text/plain": [
       "array([ 0.00483161,  1.76734281])"
      ]
     },
     "execution_count": 192,
     "metadata": {},
     "output_type": "execute_result"
    }
   ],
   "source": [
    "pcov.diagonal()**0.5"
   ]
  },
  {
   "cell_type": "code",
   "execution_count": 193,
   "metadata": {
    "collapsed": false
   },
   "outputs": [],
   "source": [
    "sigma_pts_y = np.c_[[dAfunc(f_smooth, *p) for p in cov_pts]]"
   ]
  },
  {
   "cell_type": "code",
   "execution_count": 194,
   "metadata": {
    "collapsed": false
   },
   "outputs": [
    {
     "data": {
      "text/plain": [
       "array([ 48.91804488,  48.64528347,  48.37252205,  48.09976064,\n",
       "        47.82699923,  47.55423782,  47.28147644,  47.00871521,\n",
       "        46.7359545 ,  46.46319534,  46.19043989,  45.91769234,\n",
       "        45.64495975,  45.37225313,  45.09958834,  44.57112011,\n",
       "        44.04137528,  43.51633612,  42.99644135,  42.48209012,\n",
       "        41.97363965,  41.47140445,  40.97565681,  40.48662815,\n",
       "        40.00451097,  39.5294613 ,  39.06160131,  38.60102213,\n",
       "        38.14778659,  37.70193201,  37.26347276,  36.83240282,\n",
       "        36.4086981 ,  35.99231859,  35.58321038,  35.18130752,\n",
       "        34.78653361,  34.39880339,  34.01802402,  33.64409639,\n",
       "        33.27691614,  32.91637465,  32.56235994,  32.2147574 ,\n",
       "        31.87345049,  31.53832133,  31.20925122,  30.88612112,\n",
       "        30.56881202,  30.25720532,  29.95118313,  29.65062849,\n",
       "        29.35542564,  29.06546018,  28.78061925,  28.50079164,\n",
       "        28.22586793,  27.95574055,  27.69030387,  27.42945426,\n",
       "        27.17309012,  26.92111192,  26.6734222 ,  26.42992561,\n",
       "        26.19052889,  25.95514088,  25.7236725 ,  25.49603672,\n",
       "        25.27214857,  25.0519251 ,  24.83528535,  24.62215031,\n",
       "        24.41244293,  24.20608802,  24.00301227,  23.80314418,\n",
       "        23.60641406,  23.41275394,  23.22209756,  23.03438034,\n",
       "        22.84953932,  22.66751314,  22.48824199,  22.31166756,\n",
       "        22.13773302,  21.96638299,  21.79756348,  21.63122186,\n",
       "        21.46730683,  21.30576838,  21.14655777,  20.98962748,\n",
       "        20.83493116,  20.68242365,  20.53206089,  20.38379993,\n",
       "        20.23759889,  20.09341692,  19.95121416,  19.81095176,  19.67259182])"
      ]
     },
     "execution_count": 194,
     "metadata": {},
     "output_type": "execute_result"
    }
   ],
   "source": [
    "sigma_pts_y.min(axis=0)"
   ]
  },
  {
   "cell_type": "code",
   "execution_count": 215,
   "metadata": {
    "collapsed": false
   },
   "outputs": [
    {
     "data": {
      "image/png": "[encoded data removed]",
      "text/plain": [
       "<matplotlib.figure.Figure at 0x1108a3890>"
      ]
     },
     "metadata": {},
     "output_type": "display_data"
    }
   ],
   "source": [
    "dA_norm = dA_fit * f\n",
    "dA_norm_err = dA_fit_std_err * f\n",
    "popt, pcov = optimize.curve_fit(dAfunc, f, dA_norm, sigma=dA_norm_err, p0=np.array([0.029, 53]))\n",
    "f_smooth = np.linspace(1, 25, 101)\n",
    "# with mpl.rc_context(rcParams):\n",
    "\n",
    "f = 1000*pulsewidths**-1\n",
    "fig = plt.figure(figsize=(1.65, 2.4))\n",
    "plt.scatter(f, dA_fit/pulsewidths*1e3, facecolors='none', edgecolors='b')\n",
    "plt.errorbar(f, dA_fit/pulsewidths*1e3, yerr=dA_fit_std_err/pulsewidths*2 * 1e3, fmt='none')\n",
    "plt.xlabel(u\"$t_\\\\mathrm{p}^{-1}$ [µs${}^{-1}$]\")\n",
    "plt.ylabel(u\"$\\Delta A_{\\\\mathrm{max}}/t_\\\\mathrm{p}$ [pm/µs]\")\n",
    "plt.ylim(0, 60)\n",
    "plt.yticks(np.arange(0, 55, 25))\n",
    "plt.xlim(1, 30)\n",
    "plt.xscale('log')\n",
    "plt.xticks([1, 10, 20])\n",
    "#     plt.plot(f_smooth, 55/(1 + (f_smooth/20)), '0.5', zorder=0.5)\n",
    "plt.plot(f_smooth, dAfunc(f_smooth, *popt), '0.4', zorder=0)\n",
    "#     plt.fill_between(f_smooth, sigma_pts_y.min(axis=0),\n",
    "#                      sigma_pts_y.max(axis=0), zorder=0, color='0.6', alpha=0.5)\n",
    "plt.tight_layout()\n",
    "#     plt.savefig('/Users/ryandwyer/Dropbox/_JAM_GT__Marohn201610__NSF_DMR__renewal__figs/_rawfigs/dA-vs-tp-filter-rolloff.pdf',\n",
    "#                 bbox_inches='tight', transparent=True)\n",
    "\n",
    "#     plt.savefig('/Users/ryandwyer/Dropbox/_JAM_GT__Marohn201610__NSF_DMR__renewal__figs/_rawfigs/dA-vs-tp-filter-rolloff-fit.pdf',\n",
    "#                 bbox_inches='tight', transparent=True)"
   ]
  },
  {
   "cell_type": "code",
   "execution_count": 216,
   "metadata": {
    "collapsed": true
   },
   "outputs": [],
   "source": [
    "fig.savefig('/Users/ryandwyer/Dropbox/_JAM_MS__Dwyer201511__Phasekick__figs/raw-figures/dA-vs-tp-filter-rolloff-fit.pdf',\n",
    "            bbox_inches='tight', transparent=True)"
   ]
  },
  {
   "cell_type": "code",
   "execution_count": 213,
   "metadata": {
    "collapsed": false
   },
   "outputs": [
    {
     "data": {
      "text/plain": [
       "<matplotlib.text.Text at 0x10601b7d0>"
      ]
     },
     "execution_count": 213,
     "metadata": {},
     "output_type": "execute_result"
    },
    {
     "data": {
      "image/png": "[encoded data removed]",
      "text/plain": [
       "<matplotlib.figure.Figure at 0x117936390>"
      ]
     },
     "metadata": {},
     "output_type": "display_data"
    }
   ],
   "source": [
    "# fmt= dict(s=8, c='none', edgecolors='k')\n",
    "mpl.rc('font', size=9)\n",
    "fmt= dict(marker='.', c='k', edgecolors='none', zorder=1)\n",
    "fmt_bestfit = dict(color='g', zorder=0, linewidth=2)\n",
    "\n",
    "\n",
    "fig, axes = plt.subplots(figsize=(1.5, 3.0), nrows=3, sharex=True)\n",
    "axes[0].plot(delay_us, dAfunc_off(delay_us, *dAopts[0]), **fmt_bestfit)\n",
    "axes[0].scatter(delay_us, df.loc[idx[800, :], 'dA'], **fmt)\n",
    "axes[0].set_yticks(np.arange(-40, 45, 40))\n",
    "axes[0].text(4.2, 24.5, \"$t_\\\\mathrm{p}$ = 800 ns\")\n",
    "\n",
    "axes[1].plot(delay_us, dAfunc_off(delay_us, *dAopts[2]), **fmt_bestfit)\n",
    "axes[1].scatter(delay_us, df.loc[idx[200, :], 'dA'], **fmt)\n",
    "axes[1].set_yticks(np.arange(-10, 15, 10))\n",
    "axes[1].text(4.3, 6.1, \"$t_\\\\mathrm{p}$ = 200 ns\")\n",
    "\n",
    "axes[2].plot(delay_us, dAfunc_off(delay_us, *dAopts[4]), **fmt_bestfit)\n",
    "axes[2].scatter(delay_us, df.loc[idx[50, :], 'dA'], **fmt)\n",
    "axes[2].text(4.3, 1.2, \"$t_\\\\mathrm{p}$ = 50 ns\")\n",
    "axes[2].set_yticks(np.arange(-2, 2.5, 2))\n",
    "axes[0].set_xlim(-0.5, 16)\n",
    "axes[2].set_xticks([0, 8, 16])\n",
    "axes[2].set_xlabel(u\"Delay time $t_\\\\mathrm{d}$ [µs]\")\n",
    "axes[1].set_ylabel(u\"Amplitude shift $\\\\Delta A$ [nm]\")\n",
    "    \n"
   ]
  },
  {
   "cell_type": "code",
   "execution_count": 214,
   "metadata": {
    "collapsed": false
   },
   "outputs": [],
   "source": [
    "fig.savefig('/Users/ryandwyer/Dropbox/_JAM_MS__Dwyer201511__Phasekick__figs/raw-figures/dA-v-td.pdf',\n",
    "                bbox_inches='tight', transparent=True)"
   ]
  },
  {
   "cell_type": "code",
   "execution_count": null,
   "metadata": {
    "collapsed": true
   },
   "outputs": [],
   "source": []
  }
 ],
 "metadata": {
  "anaconda-cloud": {},
  "kernelspec": {
   "display_name": "Python 2",
   "language": "python",
   "name": "python2"
  },
  "language_info": {
   "codemirror_mode": {
    "name": "ipython",
    "version": 2
   },
   "file_extension": ".py",
   "mimetype": "text/x-python",
   "name": "python",
   "nbconvert_exporter": "python",
   "pygments_lexer": "ipython2",
   "version": "2.7.11"
  }
 },
 "nbformat": 4,
 "nbformat_minor": 0
}
