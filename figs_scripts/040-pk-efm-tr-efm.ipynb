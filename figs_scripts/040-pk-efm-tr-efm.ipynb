{
 "cells": [
  {
   "cell_type": "code",
   "execution_count": 8,
   "metadata": {
    "collapsed": true
   },
   "outputs": [],
   "source": [
    "%matplotlib inline\n",
    "from __future__ import division\n",
    "import pandas as pd\n",
    "import numpy as np\n",
    "import matplotlib as mpl\n",
    "mpl.style.use('classic')\n",
    "import matplotlib.pyplot as plt\n",
    "import pystan\n",
    "import pickle\n",
    "import phasekickstan as p\n",
    "import h5py\n",
    "import phasekick\n",
    "import pmefm\n",
    "from glob import glob\n",
    "import lockin\n",
    "import os\n",
    "from scipy.optimize import curve_fit, root\n",
    "from scipy import optimize\n",
    "from tqdm import tqdm\n",
    "idx = pd.IndexSlice\n",
    "from collections import OrderedDict\n",
    "\n",
    "def tdf2data_transformed(t, df, Ndec):\n",
    "    t_med = np.mean(t, axis=0)[::Ndec]*1e3\n",
    "    df_med = np.mean(df, axis=0)[::Ndec]\n",
    "    Npts = t.shape[0]\n",
    "    df_std = np.std(df, ddof=1, axis=0)[::Ndec]/Npts**0.5\n",
    "    m = t_med <= 0\n",
    "    y_neg = df_med[m]\n",
    "    offset = np.mean(y_neg)\n",
    "    \n",
    "    return {'y_neg': y_neg - offset, 't': t_med[~m], 'N_neg':t_med[m].size, 'N': t_med[~m].size,\n",
    "           'y_neg_err': df_std[m],\n",
    "           'y': df_med[~m] - offset, 'y_err': df_std[~m], 'offset': offset\n",
    "            }\n",
    "\n",
    "def exp2(t, df, ratio, tau):\n",
    "    return df * ( ratio*(1-np.exp(-t/tau[0])) + (1-ratio)*(1-np.exp(-t/tau[1])))\n",
    "\n",
    "\n",
    "def root_exp2(df, ratio, tau, df_e, x0=0.):\n",
    "    return root(lambda t: exp2(t, df, ratio, tau) - df_e, 0.)\n",
    "\n",
    "def get_approx_tau(gr, ratio=(1-np.exp(-1)), absolute=None, N=1000, lim=None):\n",
    "    \n",
    "    tau = p.percentile_func(gr['params/tau'][:])\n",
    "    df_inf = p.percentile_func(gr['params/df_inf'][:])\n",
    "    df_ratio = p.percentile_func(gr['params/df_ratio'][:])\n",
    "    \n",
    "    df = df_inf(50)\n",
    "\n",
    "    if absolute is None:\n",
    "        df_e = df * ratio\n",
    "    else:\n",
    "        df_e = absolute\n",
    "    \n",
    "    if lim is None:\n",
    "        out_min = root_exp2(df_inf(97.5), df_ratio(97.5), tau(2.5), df_e)['x'][0]\n",
    "        out_max = root_exp2(df_inf(2.5), df_ratio(2.5), tau(97.5), df_e)['x'][0]\n",
    "    else:\n",
    "        out_min = lim[0]\n",
    "        out_max = lim[1]\n",
    "    \n",
    "    t = np.linspace(out_min, out_max, N)\n",
    "\n",
    "\n",
    "    Df = p.fh_exp_doub2df(gr, t=t)\n",
    "    Dfp = p.percentile_func(Df)\n",
    "    t50 = t[np.argmax(Dfp(50) < df_e)]\n",
    "    t15 = t[np.argmax(Dfp(15.9) < df_e)]\n",
    "    t85 = t[np.argmax(Dfp(84.1) < df_e)]\n",
    "\n",
    "    return t15, t50, t85\n",
    "\n",
    "def error(tau):\n",
    "    return abs(tau[:, (0, 2)].T - tau[:, 1])\n",
    "\n",
    "size = 8\n",
    "labelsize=9\n",
    "rcParams = {'figure.figsize': (3, 3), 'font.size': size,\n",
    "            'lines.markersize': 6,\n",
    "            'lines.linewidth': 1,\n",
    "            'xtick.labelsize': size, 'ytick.labelsize': size,\n",
    "            'axes.labelsize': labelsize}"
   ]
  },
  {
   "cell_type": "markdown",
   "metadata": {},
   "source": [
    "# Phasekick datasets"
   ]
  },
  {
   "cell_type": "code",
   "execution_count": 9,
   "metadata": {
    "collapsed": false
   },
   "outputs": [],
   "source": [
    "intensities = OrderedDict([\n",
    "    (0.1, '../results/pk-efm-pystan/151217-201951-p1sun-phasekick_exp2_sq_nc.h5'),\n",
    "    (0.3, '../results/pk-efm-pystan/151217-205912-p3sun-phasekick_exp2_sq_nc.h5'),\n",
    "    (1,   '../results/pk-efm-pystan/151217-214045-1sun-phasekick_exp2_sq_nc.h5'),\n",
    "    (20, '../results/pk-efm-pystan/151218-012858-20sun-phasekick-768_exp2_sq_nc.h5'),\n",
    "    (100, '../results/pk-efm-pystan/151218-011055-100sun-phasekick-768_exp2_sq_nc.h5')\n",
    "        ])\n",
    "all_intens = np.array(intensities.keys())"
   ]
  },
  {
   "cell_type": "code",
   "execution_count": 10,
   "metadata": {
    "collapsed": false
   },
   "outputs": [],
   "source": [
    "fhs = OrderedDict([(key, h5py.File(val, 'r')) for key, val in intensities.items()])\n",
    "pks = OrderedDict([(key, p.PlotStanModels(str(key), [fh])) for key, fh in fhs.items()])"
   ]
  },
  {
   "cell_type": "markdown",
   "metadata": {},
   "source": [
    "# tr-EFM datasets"
   ]
  },
  {
   "cell_type": "code",
   "execution_count": 11,
   "metadata": {
    "collapsed": true
   },
   "outputs": [],
   "source": [
    "livedf = OrderedDict([\n",
    "        (0.1, '../results/tr-efm-pystan/151217-200319-p1sun-df-dflive_doub.h5' ),\n",
    "        (0.3, '../results/tr-efm-pystan/151217-205007-p3sun-df-dflive_doub.h5' ),\n",
    "        (  1, '../results/tr-efm-pystan/151217-211131-1sun-df-dflive_doub.h5'  ),\n",
    "        ( 20, '../results/tr-efm-pystan/151217-234238-20sun-df-384-dflive_doub.h5' ),\n",
    "        (100,'../results/tr-efm-pystan/151218-003450-100sun-784-dflive_doub.h5')\n",
    "    ])\n",
    "\n",
    "livefh = OrderedDict((key, h5py.File(val, 'r')) for key, val in livedf.items())"
   ]
  },
  {
   "cell_type": "code",
   "execution_count": 12,
   "metadata": {
    "collapsed": false
   },
   "outputs": [
    {
     "name": "stdout",
     "output_type": "stream",
     "text": [
      "I = 0.1, tmax = 47.9\n",
      "I = 0.3, tmax = 70.0\n",
      "I = 1, tmax = 25.0\n",
      "I = 20, tmax = 2.8\n",
      "I = 100, tmax = 1.4\n"
     ]
    }
   ],
   "source": [
    "for intens, fh in livefh.items():\n",
    "    tmax = np.max(fh['data']['t'][:])\n",
    "    print(\"I = {}, tmax = {:.1f}\".format(intens, tmax))"
   ]
  },
  {
   "cell_type": "code",
   "execution_count": 24,
   "metadata": {
    "collapsed": false
   },
   "outputs": [
    {
     "name": "stdout",
     "output_type": "stream",
     "text": [
      "Response:\n",
      "f   mag       dB\n",
      "    0.000 1.000    0.000\n",
      " 2000.000 0.982   -0.161\n",
      " 4000.000 0.921   -0.715\n",
      "15000.000 0.098  -20.164\n",
      "30000.000 0.000 -101.125\n",
      "31000.000 0.000 -102.330\n",
      "62000.000 0.000 -152.546\n",
      "500000.000 0.000 -196.320\n"
     ]
    }
   ],
   "source": [
    "fir = lockin.lock2(62e3, fp=4000, fc=15000, fs=1e6)\n",
    "delta_t_ms = 1e-3 * (fir.size - 1) / 2"
   ]
  },
  {
   "cell_type": "markdown",
   "metadata": {},
   "source": [
    "# All intensities"
   ]
  },
  {
   "cell_type": "code",
   "execution_count": 13,
   "metadata": {
    "collapsed": false
   },
   "outputs": [
    {
     "data": {
      "image/png": "[encoded data removed]",
      "text/plain": [
       "<matplotlib.figure.Figure at 0x106a16a10>"
      ]
     },
     "execution_count": 13,
     "metadata": {},
     "output_type": "execute_result"
    },
    {
     "data": {
      "image/png": "[encoded data removed]",
      "text/plain": [
       "<matplotlib.figure.Figure at 0x106a16a10>"
      ]
     },
     "metadata": {},
     "output_type": "display_data"
    }
   ],
   "source": [
    "with mpl.rc_context(rcParams):\n",
    "    fig, ax = plt.subplots(figsize=(3.1, 2.65))\n",
    "    lines = []\n",
    "    for intensity, fh in reversed(fhs.items()):\n",
    "        lines.extend(ax.plot(fh['data/t'], fh['data/y'], '.'))\n",
    "\n",
    "    for i, ((intensity, pk), color) in enumerate(zip(reversed(pks.items()), ['w', 'y', 'r', 'c', 'm'])):\n",
    "        ax.plot(pk.t, pk.y_fit[0](50), color)\n",
    "\n",
    "    ax.set_xlim(0, 7.5)\n",
    "    ax.set_ylim(-120, 5)\n",
    "    ax.text(0.4, -56,  u'100 kW/m²', color='b', fontsize=size)\n",
    "    ax.text(1.8, -38, '20', color='g', fontsize=size)\n",
    "    ax.text(5.7, -95, '1', color='r', fontsize=size)\n",
    "    ax.text(6.6, -24, u'0.1', color='m', fontsize=size)\n",
    "    ax.text(6.7, -53, u'0.3', color='c', fontsize=size)\n",
    "    ax.set_xlabel(r\"Pulse time  $t_\\mathrm{p}$ [ms]\",)\n",
    "    ax.set_ylabel(r\"Phase shift  $\\Delta \\phi$ [mcyc.]\", )\n",
    "    fig.tight_layout()\n",
    "#     fig.savefig('../figs/04c-all-intensities.pdf', bbox_inches='tight', transparent=True)\n",
    "fig"
   ]
  },
  {
   "cell_type": "markdown",
   "metadata": {},
   "source": [
    "# 100 sun comparison"
   ]
  },
  {
   "cell_type": "code",
   "execution_count": 14,
   "metadata": {
    "collapsed": true
   },
   "outputs": [],
   "source": [
    "lightpurple = '#ed0dd9'\n",
    "gold = '#dbb40c'"
   ]
  },
  {
   "cell_type": "code",
   "execution_count": 39,
   "metadata": {
    "collapsed": false
   },
   "outputs": [],
   "source": [
    "df_times = gr_df['data/t'][:]\n",
    "dt_df = 0.015\n",
    "t_neg = np.arange(gr_df['data/y_neg'][:].size) * 0.015 - (dt_df * (gr_df['data/y_neg'][:].size)) + gr_df['data/t'][0]\n",
    "df_all_t = np.r_[t_neg, df_times]\n",
    "df_all = np.r_[gr_df['data/y_neg'][:], gr_df['data/y'][:]]"
   ]
  },
  {
   "cell_type": "code",
   "execution_count": 52,
   "metadata": {
    "collapsed": false
   },
   "outputs": [
    {
     "data": {
      "image/png": "[encoded data removed]",
      "text/plain": [
       "<matplotlib.figure.Figure at 0x113f32650>"
      ]
     },
     "metadata": {},
     "output_type": "display_data"
    }
   ],
   "source": [
    "with mpl.rc_context(rcParams):\n",
    "    fig, ax = plt.subplots(figsize=(3.25, 2.7))\n",
    "    intensity = 100\n",
    "    gr = fhs[intensity]\n",
    "    pk = pks[intensity]\n",
    "    gr_df = livefh[intensity]\n",
    "    ax.plot(gr['data/t'], gr['data/y_control'], 'g.', markersize=4)\n",
    "    ax.plot(gr['data/t'], gr['data/y'], 'b.', markersize=4)\n",
    "    dphi_out = p.fh_exp_doub2dphi(gr_df)\n",
    "    dphi_out_p = p.percentile_func(dphi_out)\n",
    "    ax.plot(pk.t,  pk.y_fit[0](50), '-', color='#dbb40c', linewidth=1)\n",
    "    ax.fill_between(pk.t, pk.y_fit[0](15.9), pk.y_fit[0](84.1), color='y', alpha=0.3)\n",
    "    t = gr_df['data/t'][:]\n",
    "    ax.plot(t, dphi_out_p(50), '-', color='#ed0dd9', linewidth=1)\n",
    "    ax.plot(df_all_t+delta_t_ms, np.cumsum(df_all) * dt_df, color='c', marker='.', markersize=2.5)\n",
    "#     ax.fill_between(pk.t, pk.y_fit[0](50) - pk.sigma[0](50),  pk.y_fit[0](50) + pk.sigma[0](50),\n",
    "#                    color='b', alpha=0.3, zorder=10)\n",
    "    ax.set_xlabel(r\"Pulse time  $t_\\mathrm{p}$ [ms]\")\n",
    "    ax.set_ylabel(r\"Phase shift  $\\Delta \\phi$ [mcyc.]\")\n",
    "    ax.set_ylim(-48, 5)\n",
    "    ax.set_xlim(0, 1.4)\n",
    "    fig.tight_layout()\n",
    "    fig.savefig('ex.pdf', bbox_inches='tight', transparent=True)"
   ]
  },
  {
   "cell_type": "code",
   "execution_count": 53,
   "metadata": {
    "collapsed": true
   },
   "outputs": [],
   "source": [
    "!open ex.pdf"
   ]
  },
  {
   "cell_type": "code",
   "execution_count": 10,
   "metadata": {
    "collapsed": false
   },
   "outputs": [],
   "source": [
    "with mpl.rc_context(rcParams):\n",
    "    fig, ax = plt.subplots(figsize=(3.25, 2.55))\n",
    "    intensity = 100\n",
    "    gr = fhs[intensity]\n",
    "    pk = pks[intensity]\n",
    "    gr_df = livefh[intensity]\n",
    "    df_out = p.fh_exp_doub2df(gr_df)\n",
    "    df_out_p = p.percentile_func(df_out)\n",
    "    t = gr_df['data/t'][:]\n",
    "    dt = np.mean(np.gradient(t))\n",
    "    offset = gr_df['data/offset'].value\n",
    "    all_y = np.r_[gr_df['data/y_neg'][:],gr_df['data/y'][:]] + offset\n",
    "    all_err = np.r_[gr_df['data/y_neg_err'][:],gr_df['data/y_err'][:]]\n",
    "    all_t = (np.arange(-all_y.size, 0)+1)*dt + t[-1]\n",
    "    \n",
    "    ax.plot(np.r_[[-0.3, 0], pk.t],  np.r_[[0, 0], pk.df[0](50)]+offset, color='#dbb40c')\n",
    "    ax.plot(np.r_[[-0.3, 0], t], np.r_[[0, 0], df_out_p(50)]+offset, '-', color='#ed0dd9')\n",
    "    ax.fill_between(np.r_[[-0.3, 0], pk.t], np.r_[[0, 0], pk.df[0](15.9)]+offset, np.r_[[0, 0], pk.df[0](84.1)]+offset, color='y', alpha=0.3)\n",
    "    ax.fill_between(np.r_[[-0.3, 0], t], np.r_[[0, 0], df_out_p(15.9)]+offset, np.r_[[0, 0], df_out_p(84.1)]+offset, color='#ed0dd9', alpha=0.3)\n",
    "    ax.plot(all_t, all_y, 'b-')\n",
    "    ax.fill_between(all_t, all_y - all_err, all_y + all_err,\n",
    "                   color='b', alpha=0.3)\n",
    "    ax.set_xlim(-0.3, 1.4)\n",
    "    ax.set_xticks(np.arange(-0.3, 1.4, 0.3))\n",
    "    ax.set_yticks(xrange(-200, -155, 10))\n",
    "    ax.set_xlabel(\"Time [ms]\",)\n",
    "    ax.set_ylabel(r\"$\\Delta f$ [Hz]\",)\n",
    "    fig.tight_layout()\n",
    "    fig.savefig('../figs/04c-df.pdf', bbox_inches='tight', transparent=True)"
   ]
  },
  {
   "cell_type": "markdown",
   "metadata": {},
   "source": [
    "# Comparison "
   ]
  },
  {
   "cell_type": "code",
   "execution_count": 11,
   "metadata": {
    "collapsed": true
   },
   "outputs": [],
   "source": [
    "df_infs = OrderedDict()\n",
    "for intensity, pk in pks.items():\n",
    "    df = p.percentile_func(pk.grs[0]['params/df_inf'][:])\n",
    "    df_infs[intensity] = (df(15.9), df(50), df(84.1))\n",
    "df_infs_array = np.array(df_infs.values())"
   ]
  },
  {
   "cell_type": "code",
   "execution_count": 12,
   "metadata": {
    "collapsed": false
   },
   "outputs": [],
   "source": [
    "df_infs = OrderedDict([(key, val['params/df_inf'].value) for key, val in fhs.items()])\n",
    "df_inf_mu = OrderedDict([(key, np.mean(val)) for key, val in df_infs.items()])\n",
    "df_inf_sigma = OrderedDict([(key, np.std(val, ddof=1)) for key, val in df_infs.items()])"
   ]
  },
  {
   "cell_type": "code",
   "execution_count": 13,
   "metadata": {
    "collapsed": false
   },
   "outputs": [],
   "source": [
    "Ihv = np.array(df_infs.keys())\n",
    "r_pk = np.array([np.mean(fh['params/df_ratio'][:]) for fh in fhs.values()])\n",
    "r_pk_sig = np.array([[np.mean(fh['params/df_ratio'][:]) - np.percentile(fh['params/df_ratio'][:], 15), np.percentile(fh['params/df_ratio'][:], 85)-np.mean(fh['params/df_ratio'][:])] for fh in fhs.values()])\n",
    "r_pk_df = np.array([np.mean(fh['params/df_ratio'][:]) for fh in livefh.values()])\n",
    "r_pk_sig_df = np.array([[np.mean(fh['params/df_ratio'][:]) - np.percentile(fh['params/df_ratio'][:], 15), np.percentile(fh['params/df_ratio'][:], 85)-np.mean(fh['params/df_ratio'][:])] for fh in livefh.values()])"
   ]
  },
  {
   "cell_type": "code",
   "execution_count": 14,
   "metadata": {
    "collapsed": false
   },
   "outputs": [],
   "source": [
    "df_infs1 = OrderedDict([(key, val['params/df_inf'].value) for key, val in livefh.items()])\n",
    "df_inf_mu1 = OrderedDict([(key, np.mean(val)) for key, val in df_infs1.items()])\n",
    "df_inf_sigma1 = OrderedDict([(key, np.std(val, ddof=1)) for key, val in df_infs1.items()])"
   ]
  },
  {
   "cell_type": "markdown",
   "metadata": {},
   "source": [
    "# Frequency shift comparison"
   ]
  },
  {
   "cell_type": "code",
   "execution_count": 15,
   "metadata": {
    "collapsed": false
   },
   "outputs": [],
   "source": [
    "with mpl.rc_context(rcParams):\n",
    "    fig, (ax, ax2) = plt.subplots(figsize=(6.5, 3), ncols=2)\n",
    "    ax.semilogx(np.array(df_infs.keys()), -df_infs_array[:, 1], 'b.', linestyle='-')\n",
    "    ax.errorbar(df_infs.keys(), -df_infs_array[:, 1], yerr=abs(df_infs_array[:, (0, 2)].T-df_infs_array[:, 1]), fmt='none')\n",
    "    ax.semilogx(np.array(df_inf_mu1.keys()), -1*np.array(df_inf_mu1.values()), 'g.', linestyle='-')\n",
    "    ax.errorbar(np.array(df_inf_sigma1.keys()), np.array(df_inf_sigma1.values()), fmt='none')\n",
    "    ax.set_xlim(0.08, 120)\n",
    "    ax.set_ylim(0, 45)\n",
    "    ax.set_yticks(np.arange(5)*10)\n",
    "    ax.text(1, 10, \"tr-EFM\", color='g')\n",
    "    ax.text(1, 25, \"phasekick\", color='b')\n",
    "    ax.set_xlabel(u\"Intensity [kW/m²]\")\n",
    "    ax.set_ylabel(r\"$\\Delta f_\\infty$ [Hz]\")\n",
    "    ax2.semilogx(Ihv, r_pk, 'b.', linestyle='-')\n",
    "    ax2.errorbar(Ihv, r_pk, yerr=r_pk_sig.T, fmt='none')\n",
    "    ax2.semilogx(Ihv, r_pk_df, 'g.', linestyle='-')\n",
    "    ax2.errorbar(Ihv, r_pk_df, yerr=r_pk_sig_df.T, fmt='none')\n",
    "    ax2.text(0.14, 0.2, \"tr-EFM\", color='g')\n",
    "    ax2.text(0.35, 0.83, \"phasekick\", color='b')\n",
    "    ax2.set_xlabel(u\"Intensity [kW/m²]\")\n",
    "    ax2.set_ylabel(u\"$r$\")\n",
    "    ax2.set_xlim(0.08, 120)\n",
    "    ax2.set_ylim(0, 1)"
   ]
  },
  {
   "cell_type": "code",
   "execution_count": 16,
   "metadata": {
    "collapsed": false
   },
   "outputs": [],
   "source": [
    "fig.tight_layout()"
   ]
  },
  {
   "cell_type": "code",
   "execution_count": 17,
   "metadata": {
    "collapsed": false
   },
   "outputs": [],
   "source": [
    "fig.savefig('../figs/SI-010-df_inf-vs-intensity.pdf', bbox_inches='tight')"
   ]
  },
  {
   "cell_type": "markdown",
   "metadata": {
    "collapsed": true
   },
   "source": [
    "# Live Frequency shift"
   ]
  },
  {
   "cell_type": "code",
   "execution_count": 18,
   "metadata": {
    "collapsed": false
   },
   "outputs": [],
   "source": [
    "tau_012 = np.zeros((all_intens.size, 3, 2))\n",
    "for i, row in enumerate(tau_012):\n",
    "    gr = livefh.values()[i]\n",
    "    tau_p = p.percentile_func(gr['params/tau'][:])\n",
    "    row[:] = np.array([tau_p(15.9), tau_p(50), tau_p(84.1)])"
   ]
  },
  {
   "cell_type": "code",
   "execution_count": 19,
   "metadata": {
    "collapsed": false
   },
   "outputs": [],
   "source": [
    "tau_dphi = np.zeros((all_intens.size, 3, 2))\n",
    "for i, row in enumerate(tau_dphi):\n",
    "    gr = fhs.values()[i]\n",
    "    tau_p = p.percentile_func(gr['params/tau'][:])\n",
    "    row[:] = np.array([tau_p(15.9), tau_p(50), tau_p(84.1)])"
   ]
  },
  {
   "cell_type": "code",
   "execution_count": 20,
   "metadata": {
    "collapsed": false
   },
   "outputs": [],
   "source": [
    "with mpl.rc_context(rcParams):\n",
    "    fig, ax = plt.subplots(figsize=(3.1, 2.5))\n",
    "    ax.loglog(all_intens, tau_dphi[:, 1, 0], 'b.', linestyle='-')\n",
    "    ax.loglog(all_intens, tau_dphi[:, 1, 1], 'b.', fillstyle='none', linestyle='--')\n",
    "    ax.loglog(all_intens, tau_012[:, 1, 0], 'g.', linestyle='-')\n",
    "    ax.loglog(all_intens, tau_012[:, 1, 1], 'g.', fillstyle='none', linestyle='--')\n",
    "    ax.errorbar(all_intens, tau_dphi[:, 1, 0],\n",
    "                yerr=error(tau_dphi[:, :, 0]),\n",
    "                fmt='none', ecolor='b')\n",
    "    ax.errorbar(all_intens, tau_dphi[:, 1, 1],\n",
    "                yerr=error(tau_dphi[:, :, 1]),\n",
    "                fmt='none', ecolor='b')\n",
    "    ax.errorbar(all_intens, tau_012[:, 1, 0],\n",
    "                yerr=error(tau_012[:, :, 0]),\n",
    "                fmt='none', ecolor='g')\n",
    "    ax.errorbar(all_intens, tau_012[:, 1, 1],\n",
    "                yerr=error(tau_012[:, :, 1]),\n",
    "                fmt='none', ecolor='g')\n",
    "    ax.set_ylim(0.001, 50)\n",
    "    ax.set_xlim(0.08, 125)\n",
    "    ax.set_xlabel(u\"Intensity [kW/m²]\")\n",
    "    ax.set_ylabel(r\"$\\tau$ [ms]\")\n",
    "    fig.tight_layout()\n",
    "    fig.savefig(\n",
    "'../figs/04d-time-constants.pdf',\n",
    "bbox_inches='tight',\n",
    "transparent=True)"
   ]
  }
 ],
 "metadata": {
  "anaconda-cloud": {},
  "kernelspec": {
   "display_name": "Python [default]",
   "language": "python",
   "name": "python2"
  },
  "language_info": {
   "codemirror_mode": {
    "name": "ipython",
    "version": 2
   },
   "file_extension": ".py",
   "mimetype": "text/x-python",
   "name": "python",
   "nbconvert_exporter": "python",
   "pygments_lexer": "ipython2",
   "version": "2.7.12"
  }
 },
 "nbformat": 4,
 "nbformat_minor": 0
}
