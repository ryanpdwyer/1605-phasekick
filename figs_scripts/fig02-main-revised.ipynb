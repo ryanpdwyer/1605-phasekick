{
 "cells": [
  {
   "cell_type": "code",
   "execution_count": 2,
   "metadata": {
    "collapsed": false
   },
   "outputs": [],
   "source": [
    "# coding: utf-8\n",
    "%matplotlib inline\n",
    "import pandas as pd\n",
    "import numpy as np\n",
    "import matplotlib as mpl\n",
    "import matplotlib.pyplot as plt\n",
    "from matplotlib import gridspec\n",
    "import pystan\n",
    "import pickle\n",
    "import phasekickstan as p\n",
    "import h5py\n",
    "import phasekick\n",
    "import pmefm\n",
    "import lockin\n",
    "import os\n",
    "from scipy.optimize import curve_fit, root\n",
    "from scipy import optimize\n",
    "from tqdm import tqdm\n",
    "from collections import OrderedDict\n",
    "\n",
    "def tdf2data_transformed(t, df, Ndec):\n",
    "    t_med = np.mean(t, axis=0)[::Ndec]*1e3\n",
    "    df_med = np.mean(df, axis=0)[::Ndec]\n",
    "    Npts = t.shape[0]\n",
    "    df_std = np.std(df, ddof=1, axis=0)[::Ndec]/Npts**0.5\n",
    "    m = t_med <= 0\n",
    "    y_neg = df_med[m]\n",
    "    offset = np.mean(y_neg)\n",
    "    \n",
    "    return {'y_neg': y_neg - offset, 't': t_med[~m], 'N_neg':t_med[m].size, 'N': t_med[~m].size,\n",
    "           'y_neg_err': df_std[m],\n",
    "           'y': df_med[~m] - offset, 'y_err': df_std[~m], 'offset': offset\n",
    "            }\n",
    "\n",
    "def exp2(t, df, ratio, tau):\n",
    "    return df * ( ratio*(1-np.exp(-t/tau[0])) + (1-ratio)*(1-np.exp(-t/tau[1])))\n",
    "\n",
    "\n",
    "def root_exp2(df, ratio, tau, df_e, x0=0.):\n",
    "    return root(lambda t: exp2(t, df, ratio, tau) - df_e, 0.)\n",
    "\n",
    "def get_approx_tau(gr, ratio=(1-np.exp(-1)), absolute=None, N=1000):\n",
    "\n",
    "    \n",
    "    \n",
    "    tau = p.percentile_func(gr['params/tau'][:])\n",
    "    df_inf = p.percentile_func(gr['params/df_inf'][:])\n",
    "    df_ratio = p.percentile_func(gr['params/df_ratio'][:])\n",
    "    \n",
    "    df = df_inf(50)\n",
    "    if absolute is None:\n",
    "        df_e = df * ratio\n",
    "    else:\n",
    "        df_e = absolute\n",
    "    \n",
    "    out_min = root_exp2(df_inf(97.5), df_ratio(97.5), tau(2.5), df_e)\n",
    "    out_max = root_exp2(df_inf(2.5), df_ratio(2.5), tau(97.5), df_e)\n",
    "    t = np.linspace(out_min['x'][0], out_max['x'][0], N)\n",
    "    \n",
    "\n",
    "    Df = p.fh_exp_doub2df(gr, t=t)\n",
    "    Dfp = p.percentile_func(Df)\n",
    "    t50 = t[np.argmax(Dfp(50) < df_e)]\n",
    "    t15 = t[np.argmax(Dfp(15.9) < df_e)]\n",
    "    t85 = t[np.argmax(Dfp(84.1) < df_e)]\n",
    "    return t15, t50, t85\n",
    "\n",
    "def exprisefall(t, tau, tf, ti=0):\n",
    "    return np.where(t < ti, 0,\n",
    "             np.where( t < tf,\n",
    "                      1-np.exp(-(t-ti)/tau),\n",
    "                      (1-np.exp(-(tf-ti)/tau))*np.exp(-(t-tf)/tau)\n",
    "        ))\n",
    "\n",
    "\n",
    "\n",
    "def align_labels(axes_list,lim, axis='y'):\n",
    "    for ax in axes_list:\n",
    "        t = ax.yaxis.label.get_transform()\n",
    "        x,y = ax.yaxis.label.get_position()\n",
    "        ax.yaxis.set_label_coords(lim,y,t)"
   ]
  },
  {
   "cell_type": "code",
   "execution_count": 6,
   "metadata": {
    "collapsed": false
   },
   "outputs": [
    {
     "name": "stdout",
     "output_type": "stream",
     "text": [
      "Response:\n",
      "f   mag       dB\n",
      "    0.000 1.000    0.000\n",
      "  250.000 0.894   -0.969\n",
      "  500.000 0.707   -3.010\n",
      "30926.304 0.016  -35.856\n",
      "61852.608 0.008  -41.958\n",
      "500000.000 0.000 -380.338\n"
     ]
    }
   ],
   "source": [
    "mpl.rc('font', size=10)\n",
    "fh = h5py.File('../data/pk-efm/151217-205912-p3sun-phasekick.h5', 'r')\n",
    "\n",
    "gr = fh['data/0058']\n",
    "li12 = phasekick.gr2lock(gr, 750, 750*4)\n",
    "li12.lock_butter(1, 500, t_exclude=2e-3)\n",
    "li12.phase(tf=-0.051)\n",
    "\n",
    "li1 = phasekick.gr2lock(gr, 750, 750*4)\n",
    "\n",
    "maxes = ('none', 0)\n",
    "for ds_name, ds in fh['data'].items():\n",
    "    tp = ds.attrs['Abrupt BNC565 CantClk.tp tip [s]']\n",
    "    if tp > maxes[1]:\n",
    "        maxes = (ds_name, tp)\n",
    "\n",
    "od = OrderedDict([(ds_name, ds.attrs['Abrupt BNC565 CantClk.tp tip [s]']) for ds_name, ds in fh['data'].items()])\n",
    "od_sorted = OrderedDict(sorted(od.iteritems(), key=lambda x: x[1]))\n",
    "ds_mid = od_sorted.items()[36][0]\n",
    "gr_mid = fh['data'][ds_mid]\n",
    "\n",
    "size = 10\n",
    "rcParams = {'figure.figsize': (3, 5.), 'font.size': size,\n",
    "            'lines.markersize': 6,\n",
    "            'lines.linewidth': 1,\n",
    "            'xtick.labelsize': size, 'ytick.labelsize': size,}\n",
    "\n",
    "t = li12('t')*1e3\n",
    "tp1 = tp = 0.01032533*1e3\n",
    "li1.phase(ti=-0.0015, tf=-0.0005)\n",
    "\n",
    "gr3c = fh['control/0024']\n",
    "\n",
    "li3c = phasekick.gr2lock(gr3c, 750, 750*4)\n",
    "li3c.phase(ti=-0.0015, tf=-0.0005)\n",
    "li32c = phasekick.gr2lock(gr3c, 750, 750*4)\n",
    "li32c.phase(tf=-0.051)\n",
    "\n",
    "i = 52\n",
    "ds3 = od_sorted.items()[i][0]\n",
    "tp3 = od_sorted.items()[i][1]*1e3\n",
    "gr3 = fh['data'][ds3]\n",
    "li3 = phasekick.gr2lock(gr3, 750, 750*4)\n",
    "li32 = phasekick.gr2lock(gr3, 750, 750*4)\n",
    "li3.phase(ti=-0.0015, tf=-0.0005)\n",
    "li32.phase(tf=-0.051)\n",
    "\n",
    "i2 = 22\n",
    "ds_mid = od_sorted.items()[i2][0]\n",
    "gr_mid = fh['data'][ds_mid]\n",
    "li_mid = phasekick.gr2lock(gr_mid, 750, 750*4)\n",
    "li_mid2 = phasekick.gr2lock(gr_mid, 750, 750*4)\n",
    "tp2 = od_sorted.items()[i2][1]*1e3\n",
    "li_mid.phase(ti=-0.0015, tf=-0.0005)\n",
    "li_mid2.phase(tf=-0.051)\n",
    "\n",
    "ticksize=10\n",
    "rcParams = {'figure.figsize': (3.2, 4.5), 'font.size': size,\n",
    "            'lines.markersize': 6,\n",
    "            'lines.linewidth': 1,\n",
    "            'xtick.labelsize': size, 'ytick.labelsize': size,}\n",
    "\n",
    "b1 = 0.8\n",
    "a1 = 0.6\n",
    "a2 = 0.8\n",
    "\n",
    "grey = 0.75*np.array(mpl.cm.Greys(0.6)[:-1])\n",
    "\n",
    "green = 2.5*np.array([0., 0.1, 0.])\n",
    "purple = 2.5*np.array([0.05, 0, 0.05])\n",
    "blue = 2.5*np.array([0, 0, 0.1])\n",
    "\n",
    "\n",
    "c2blue = blue_dark = (0.1, 0.3, 0.6)\n",
    "\n",
    "c2 = {'color': grey, 'alpha': 0.8}\n",
    "c3 = {'color': (0.1, 0.3, 0.6), 'linewidth':1.3}\n",
    "c1 = {'color': mpl.cm.Greys(0.6), 'alpha': 0.5}\n",
    "\n",
    "# Put all things in a tuple!\n",
    "# (t, tp, li, li2, colors, alpha, linewidth)\n",
    "gl = 1.0\n",
    "gd = 0.5\n",
    "cl = 1.0\n",
    "cd = 1.75\n",
    "all_lines = [(t, tp1, li1, li12, ['k', 'g', 'm', c2blue, c2blue], 1.0, 1.3),\n",
    " (t, tp3,  li_mid, li_mid2, [mpl.cm.Greys(0.8), grey*gd+cd*green, grey*gd+cd*purple, grey*gl+cl*blue, grey*gl+cl*blue], 0.9, 1.0),\n",
    " (t, tp2, li3, li32, [mpl.cm.Greys(0.5), grey*gl+cl*green, grey*gl+cl*purple, grey*gd+cd*blue, grey*gd+cd*blue], 0.6, 1.0)]\n",
    "\n",
    "\n",
    "with mpl.rc_context(rcParams):\n",
    "    fig = plt.figure()\n",
    "    gs = gridspec.GridSpec(8,1)\n",
    "    gs.update(wspace=0.025, hspace=0.002) # set the spacing between axes.\n",
    "    ax1 = fig.add_subplot(gs[2],)\n",
    "    ax00 = fig.add_subplot(gs[0], sharex=ax1)\n",
    "    ax01 = fig.add_subplot(gs[1], sharex=ax1)\n",
    "    ax2 = fig.add_subplot(gs[3], sharex=ax1)\n",
    "    ax3 = fig.add_subplot(gs[4], sharex=ax1)\n",
    "    ax4 = fig.add_subplot(gs[5:])\n",
    "#     ax5 = fig.add_subplot(gs[8:])\n",
    "\n",
    "    for (t, tp, li, li2, color, alpha, linewidth) in all_lines:\n",
    "        t = li('t')*1e3\n",
    "        ax00.plot(li('t')*1e3, li('A'), color=color[4], alpha=alpha, linewidth=linewidth)\n",
    "        ax01.plot(t, np.where((t >= -10), 0, 1), color=color[0], alpha=alpha, linewidth=linewidth)\n",
    "        ax1.plot(t, np.where((t >= -50) & (t <tp), 1, 0), color=color[0], alpha=alpha, linewidth=linewidth)\n",
    "        ax2.plot(t, np.where((t >= 0) & (t <tp), 1, 0), color=color[1], alpha=alpha, linewidth=linewidth)\n",
    "        ax3.plot(t, 1-exprisefall(t, 2.5, tp), color=color[2], alpha=alpha, linewidth=linewidth)\n",
    "        ax4.plot(li2('t')*1e3, li2('df'), color=color[3], alpha=alpha, linewidth=linewidth)\n",
    "#         ax5.plot(li('t')*1e3, li('dphi'), color=color[4], alpha=alpha, linewidth=linewidth)\n",
    "\n",
    "    ax01.set_ylim(-0.2, 1.2)\n",
    "    ax01.set_yticks([0, 1])\n",
    "    ax01.set_yticklabels(['$0$', ''])\n",
    "    ax00.set_yticks([40, 50])\n",
    "    ax00.set_yticklabels(['$40$', '$50$'])\n",
    "    \n",
    "    ax1.set_yticks([0, 1])\n",
    "    ax2.set_yticks([0, 1])\n",
    "    ax1.set_ylim(-0.2, 1.2)\n",
    "    ax2.set_ylim(-0.2, 1.2)\n",
    "    ax3.set_ylim(-0.2, 1.2)\n",
    "    ax3.set_yticks([0, 1])\n",
    "    ax2.set_yticklabels(['$0$', '$\\quad \\quad \\:\\:\\:$'], fontsize=ticksize)\n",
    "    ax1.set_yticklabels(['$0$', '$\\quad \\quad \\:\\:\\:$'], fontsize=ticksize)\n",
    "    ax3.set_yticklabels([r'$\\quad \\quad \\:\\:\\:$', ''])\n",
    "\n",
    "\n",
    "#     ax5.set_ylim(5.6, 6.4)\n",
    "#     ax5.set_yticks(np.linspace(5.6, 6.2, 4))\n",
    "#     ax5.set_yticklabels([\"${}$\".format(i) for i in [r\"\\: \\: \\: 5.6\", \"5.8\", \"6.0\", \"6.2\"]])\n",
    "    ax1.set_xticks([-50, -10, 0, 10])\n",
    "    ax1.set_xticklabels(['' for item in ax1.get_xticklabels()])\n",
    "    ax4.set_xticks([-50, -10, 0, 10])\n",
    "    ax4.set_xticklabels([\"${}$\".format(i) for i in [\"-50\", \"-10\", \"0\", \"10\"]])\n",
    "    \n",
    "    ax4.set_xlabel('$t \\: [\\mathrm{ms}]$', fontsize=size)\n",
    "    \n",
    "    ax00.set_ylabel(r'$A \\: \\: [\\mathrm{nm}]$')\n",
    "    ax01.set_ylabel(r'$V_\\mathrm{d}$')\n",
    "    ax1.set_ylabel(r'$V_\\mathrm{t}$', fontsize=size)\n",
    "    ax2.set_ylabel(r'$I_{h\\nu}$', fontsize=size)\n",
    "    ax3.set_ylabel(r\"$-C''$\")\n",
    "    ax4.set_yticklabels(['${}$'.format(x) for x in xrange(-200, 25, 50)],\n",
    "                        fontsize=size)\n",
    "    ax4.set_ylabel(r'$-C'' V^2_{\\mathrm{t}} \\: \\: \\propto \\: \\: \\delta f \\: \\: [\\mathrm{Hz}]$', fontsize=size)\n",
    "#     ax5.set_ylabel(r'$\\delta \\phi \\: [\\mathrm{cyc.}]$', fontsize=size)\n",
    "    for ax in [ax1, ax2, ax3, ax00, ax01]:\n",
    "        ax.axvline(-50, color='k', linestyle='dotted')\n",
    "        ax.axvline(0, color='k', linestyle='dotted')\n",
    "    \n",
    "    for ax in [ax1, ax4]:\n",
    "        ax.set_xlim(-55, 12.5)\n",
    "\n",
    "#     ax00.set_xlim(-55, 12.5)\n",
    "#     ax5.set_xlim(-55, 12.5)\n",
    "    ax4.set_ylim(-170, 10)\n",
    "\n",
    "\n",
    "align_labels([ax00, ax01, ax1, ax2, ax3, ax4,\n",
    "#               ax5\n",
    "             ], 32)\n",
    "\n"
   ]
  },
  {
   "cell_type": "code",
   "execution_count": 7,
   "metadata": {
    "collapsed": false
   },
   "outputs": [
    {
     "data": {
      "text/plain": [
       "[(u'Microscope Parameters.Cantilever', 'Nathan-pre-1509'),\n",
       " (u'Microscope Parameters.Q', 31000.0),\n",
       " (u'Microscope Parameters.Sample', 'F8BT-PFB-Nathan-1509'),\n",
       " (u'Microscope Parameters.fc [Hz]', 62001.0),\n",
       " (u'Microscope Parameters.kc [Hz]', 3.5),\n",
       " (u'z [nm]', 290.0),\n",
       " (u'wait [ms]', 1500),\n",
       " (u'PLL Settings out.Amplitude Scaling', 1.0),\n",
       " (u'PLL Settings out.Center Frequency', 62000.2163),\n",
       " (u'PLL Settings out.Frequency I', 2.5),\n",
       " (u'PLL Settings out.Frequency P', -12.0),\n",
       " (u'PLL Settings out.Frequency Scaling', 20.0),\n",
       " (u'PLL Settings out.Phase Shift', -119.13)]"
      ]
     },
     "execution_count": 7,
     "metadata": {},
     "output_type": "execute_result"
    }
   ],
   "source": [
    "fh.attrs.items()"
   ]
  },
  {
   "cell_type": "code",
   "execution_count": 8,
   "metadata": {
    "collapsed": false
   },
   "outputs": [
    {
     "data": {
      "image/png": "[encoded data removed]",
      "text/plain": [
       "<matplotlib.figure.Figure at 0x110ffd850>"
      ]
     },
     "execution_count": 8,
     "metadata": {},
     "output_type": "execute_result"
    }
   ],
   "source": [
    "fig"
   ]
  },
  {
   "cell_type": "code",
   "execution_count": 9,
   "metadata": {
    "collapsed": true
   },
   "outputs": [],
   "source": [
    "fig.savefig('ex.pdf', bbox_inches='tight', pad_inches=0.5, transparent=True)"
   ]
  },
  {
   "cell_type": "code",
   "execution_count": 10,
   "metadata": {
    "collapsed": true
   },
   "outputs": [],
   "source": [
    "!open ex.pdf"
   ]
  },
  {
   "cell_type": "code",
   "execution_count": 11,
   "metadata": {
    "collapsed": true
   },
   "outputs": [],
   "source": [
    "!cp ex.pdf /Users/ryandwyer/Dropbox/_JAM_MS__Dwyer201511__Phasekick__figs/raw-figures/02-revised-A-Vd.pdf"
   ]
  },
  {
   "cell_type": "code",
   "execution_count": null,
   "metadata": {
    "collapsed": true
   },
   "outputs": [],
   "source": []
  }
 ],
 "metadata": {
  "kernelspec": {
   "display_name": "Python 2",
   "language": "python",
   "name": "python2"
  },
  "language_info": {
   "codemirror_mode": {
    "name": "ipython",
    "version": 2
   },
   "file_extension": ".py",
   "mimetype": "text/x-python",
   "name": "python",
   "nbconvert_exporter": "python",
   "pygments_lexer": "ipython2",
   "version": "2.7.11"
  }
 },
 "nbformat": 4,
 "nbformat_minor": 0
}
