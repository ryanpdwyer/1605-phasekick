{
 "cells": [
  {
   "cell_type": "code",
   "execution_count": 2,
   "metadata": {
    "collapsed": false
   },
   "outputs": [],
   "source": [
    "%matplotlib inline\n",
    "from __future__ import division\n",
    "import pandas as pd\n",
    "import numpy as np\n",
    "import matplotlib as mpl\n",
    "import matplotlib.pyplot as plt\n",
    "from matplotlib import gridspec\n",
    "import pystan\n",
    "import pickle\n",
    "import h5py\n",
    "from six import string_types\n",
    "import phasekick\n",
    "import pmefm\n",
    "import lockin\n",
    "from scipy.optimize import curve_fit\n",
    "from scipy import optimize\n",
    "from scipy import stats\n",
    "from tqdm import tqdm\n",
    "from scipy import signal\n",
    "import sigutils\n",
    "from sigutils import log_bins\n",
    "import freqphasenoise\n",
    "\n",
    "\n",
    "def mask_xy(x, y, xmin, xmax):\n",
    "    x_masked = []\n",
    "    y_masked = []\n",
    "    for x_, y_ in zip(x, y):\n",
    "        m = (x_ >= xmin) & (x_ < xmax)\n",
    "        x_masked.append(x_[m])\n",
    "        y_masked.append(y_[m])\n",
    "    \n",
    "    x_masked = np.array(x_masked)\n",
    "    y_masked = np.array(y_masked)\n",
    "    return x_masked, y_masked\n",
    "\n",
    "def centered(fir, fs):\n",
    "    N = fir.size\n",
    "    return (np.arange(N) - (N-1)/2.)/fs\n",
    "\n",
    "\n",
    "def intercept_filter(N):\n",
    "    return 2*(2*N - 1 - 3*np.arange(N))/(N*(N+1))\n",
    "\n",
    "def workup_df(fname_or_fh, fp, fc, Vtdict,\n",
    "              tiphase=None, tfphase=None,\n",
    "              butter=None, periodogram=True):\n",
    "    if isinstance(fname_or_fh, string_types):\n",
    "        fh = h5py.File(fname_or_fh, 'r')\n",
    "        fname = fname_or_fh\n",
    "    else:\n",
    "        fh = fname_or_fh\n",
    "        fname = fh.filename\n",
    "\n",
    "    lis = []\n",
    "    for ds_name in tqdm(fh['ds']):\n",
    "        li = phasekick.gr2lock(fh['data'][ds_name], fp=fp, fc=fc)\n",
    "        if butter is not None:\n",
    "            li.lock_butter(**butter)\n",
    "        if tfphase is None:\n",
    "            tfphase = -li.t2\n",
    "        li.phase(ti=tiphase, tf=tfphase)\n",
    "        lis.append(li)\n",
    "\n",
    "    ts = np.array([li('t') for li in lis])\n",
    "    dfs = np.array([li('df') for li in lis])\n",
    "    dphis = np.array([li('dphi') for li in lis])\n",
    "\n",
    "    dfs_masked = []\n",
    "    ts_masked = []\n",
    "    dphis_masked = []\n",
    "    \n",
    "    masked_times = {}\n",
    "    \n",
    "    for label, ((tmin, tmax), popt) in Vtdict.items():\n",
    "        for t, df, dphi in zip(ts, dfs, dphis):\n",
    "            m = (t >= tmin) & (t < tmax)\n",
    "            ts_masked.append(t[m])\n",
    "            dfs_masked.append(df[m])\n",
    "            dphis_masked.append(dphi[m])\n",
    "\n",
    "        ts_masked = np.array(ts_masked)\n",
    "        dfs_masked = np.array(dfs_masked)\n",
    "        dphis_masked = np.array(dphis_masked)\n",
    "\n",
    "        t_func = phasekick.percentile_func(ts_masked)\n",
    "        df_func = phasekick.percentile_func(dfs_masked)\n",
    "        \n",
    "        t = ts_masked - t_func(50)[0]\n",
    "        dfs_resid = dfs_masked - lockin.expfall(t, *popt)\n",
    "        dphis_resid = (dphis_masked - np.cumsum(lockin.expfall(t, *popt), axis=1)/li.fs*np.pi*2).T\n",
    "        dphis_resid = (dphis_resid - dphis_resid.mean(axis=0)).T\n",
    "        \n",
    "        if periodogram:\n",
    "            psd_f, psd_phi = signal.periodogram(dphis_resid/(2*np.pi), fs=li.fs)\n",
    "            _, psd_df = signal.periodogram(dfs_resid, fs=li.fs)\n",
    "        \n",
    "        masked_times[label] = {\n",
    "            'ts': ts_masked,\n",
    "            'dfs': dfs_masked,\n",
    "            'dfs_resid': dfs_resid,\n",
    "            'dphis_resid': dphis_resid,\n",
    "            'dphis': dphis_masked,\n",
    "            'df_func': df_func,\n",
    "            't_func': t_func,\n",
    "            'psd_f': psd_f,\n",
    "            'psd_phi': np.mean(psd_phi, axis=0),\n",
    "            'psd_df': np.mean(psd_df, axis=0)\n",
    "        }\n",
    "\n",
    "    d = {'lis': lis,  'params': {\n",
    "                'fname_or_fh': fname,\n",
    "                'fp': fp,\n",
    "                'fc': fc,\n",
    "                'tiphase': tiphase,\n",
    "                'tfphase': tfphase,\n",
    "                'butter': butter,\n",
    "                'Vtdict': Vtdict\n",
    "            },\n",
    "             'masked_times': masked_times\n",
    "            }\n",
    "\n",
    "\n",
    "    return d"
   ]
  },
  {
   "cell_type": "markdown",
   "metadata": {},
   "source": [
    "# Power spectral density"
   ]
  },
  {
   "cell_type": "code",
   "execution_count": 3,
   "metadata": {
    "collapsed": false
   },
   "outputs": [],
   "source": [
    "filename = '../data/tr-efm/151217-200319-p1sun-df.h5'  \n",
    "fh = h5py.File(filename, 'r')"
   ]
  },
  {
   "cell_type": "code",
   "execution_count": 4,
   "metadata": {
    "collapsed": false
   },
   "outputs": [
    {
     "name": "stderr",
     "output_type": "stream",
     "text": [
      "100%|██████████| 32/32 [00:05<00:00,  6.40it/s]\n",
      "100%|██████████| 32/32 [00:05<00:00,  6.16it/s]\n",
      "100%|██████████| 32/32 [00:04<00:00,  6.39it/s]\n",
      "100%|██████████| 32/32 [00:04<00:00,  6.40it/s]\n",
      "100%|██████████| 32/32 [00:04<00:00,  5.73it/s]\n",
      "100%|██████████| 32/32 [00:05<00:00,  5.90it/s]\n",
      "100%|██████████| 32/32 [00:05<00:00,  6.49it/s]\n",
      "100%|██████████| 32/32 [00:05<00:00,  5.66it/s]\n"
     ]
    }
   ],
   "source": [
    "lis = []\n",
    "fp = 4000\n",
    "fc = 15000\n",
    "tmin = 0.055\n",
    "tmax = 0.169\n",
    "workups = {}\n",
    "\n",
    "workups['815-10V-hv'] = phasekick.workup_df(fh, 5000, 15000, tmin, tmax)\n",
    "workups['815-0V'] = phasekick.workup_df(fh, 5000, 15000, 0.171, 0.1995)\n",
    "workups['104-0V'] = phasekick.workup_df(fh, 1000, 4000, 0.1715, 0.1985)\n",
    "workups['104-0V-phi'] = phasekick.workup_df(fh, 1000, 4000, 0.1715, 0.1985)\n",
    "workups['104-10V'] = phasekick.workup_df(fh, 1000, 4000, tmin, tmax-0.001)\n",
    "workups['0502-0V'] = phasekick.workup_df(fh, 500, 2000, 0.1725, 0.1975)\n",
    "workups['0502-0V-phi'] = phasekick.workup_df(fh, 500, 2000, 0.1725, 0.1975)\n",
    "workups['0502-10V'] = phasekick.workup_df(fh, 500, 2000, tmin, tmax-0.002)\n"
   ]
  },
  {
   "cell_type": "code",
   "execution_count": 5,
   "metadata": {
    "collapsed": false
   },
   "outputs": [
    {
     "name": "stderr",
     "output_type": "stream",
     "text": [
      "100%|██████████| 32/32 [00:05<00:00,  5.99it/s]\n",
      "100%|██████████| 32/32 [00:05<00:00,  6.43it/s]\n"
     ]
    }
   ],
   "source": [
    "out0520 = workup_df(fh, 500, 2000, {0: ((0.1725, 0.1975), np.array([ 0.63894734,  0.00621252, -0.8297541]))})\n",
    "out1040 = workup_df(fh, 1000, 4000, {0: ((0.1715, 0.1985), np.array([ 0.63894734,  0.00621252, -0.8297541]))})"
   ]
  },
  {
   "cell_type": "markdown",
   "metadata": {},
   "source": [
    "# Figure 2 a,b, d,e"
   ]
  },
  {
   "cell_type": "markdown",
   "metadata": {},
   "source": [
    "## 2a"
   ]
  },
  {
   "cell_type": "code",
   "execution_count": 6,
   "metadata": {
    "collapsed": false
   },
   "outputs": [
    {
     "name": "stdout",
     "output_type": "stream",
     "text": [
      "Response:\n",
      "f   mag       dB\n",
      "    0.000 1.000    0.000\n",
      "  500.000 0.983   -0.151\n",
      " 1000.000 0.927   -0.656\n",
      " 4000.000 0.095  -20.474\n",
      " 8000.000 0.000 -101.842\n",
      "31000.000 0.000 -152.508\n",
      "62000.000 0.000 -176.944\n",
      "500000.000 0.000 -354.014\n",
      "Response:\n",
      "f   mag       dB\n",
      "    0.000 1.000    0.000\n",
      " 1000.000 0.983   -0.151\n",
      " 2000.000 0.927   -0.657\n",
      " 8000.000 0.095  -20.459\n",
      "16000.000 0.000 -101.856\n",
      "31000.000 0.000 -136.118\n",
      "62000.000 0.000 -152.587\n",
      "500000.000 0.000 -340.558\n"
     ]
    }
   ],
   "source": [
    "fir0104 = lockin.lock2(f0=62e3, fp=1000, fc=4000, fs=1e6)\n",
    "\n",
    "fir208 = lockin.lock2(62e3, 2e3, 8e3, 1e6)\n",
    "fir0502 = workups['0502-0V']['lis'][0].fir"
   ]
  },
  {
   "cell_type": "code",
   "execution_count": 7,
   "metadata": {
    "collapsed": false
   },
   "outputs": [
    {
     "data": {
      "image/png": "[encoded data removed]",
      "text/plain": [
       "<matplotlib.figure.Figure at 0x23e9330d0>"
      ]
     },
     "metadata": {},
     "output_type": "display_data"
    }
   ],
   "source": [
    "size = 8\n",
    "labelsize=8\n",
    "rcParams = {'figure.figsize': (4*0.75, 3*0.75), 'font.size': size,\n",
    "            'lines.markersize': 6,\n",
    "            'lines.linewidth': 1,\n",
    "            'xtick.labelsize': labelsize, 'ytick.labelsize': labelsize,}\n",
    "\n",
    "Asize = (2.9,0.9)\n",
    "\n",
    "get_t = lambda fir, fs: (np.arange(fir.size) - (fir.size-1)/2) / fs\n",
    "\n",
    "with mpl.rc_context(rcParams):\n",
    "    fig, ax = plt.subplots(figsize=Asize)\n",
    "    ax.plot(get_t(fir208, 1.), fir208/fir208.max(), 'b')\n",
    "    ax.plot(get_t(fir0104, 1.), fir0104/fir0104.max(), 'g')\n",
    "    ax.plot(get_t(fir0502, 1.), fir0502/fir0502.max(), 'm')\n",
    "    ax.set_xlabel(u\"Time [µs]\", fontsize=8)\n",
    "    ax.set_ylabel(u\"Magnitude\", fontsize=8)\n",
    "    ax.set_ylim(-0.2, 1.1)\n",
    "    ax.set_yticklabels(['', 0, '', '', '', '', ''])\n",
    "    ax.set_xlim(-450, 450)\n",
    "    fig.savefig('../figs/03a-lockin-magnitude.pdf', bbox_inches='tight')"
   ]
  },
  {
   "cell_type": "markdown",
   "metadata": {},
   "source": [
    "## 2d"
   ]
  },
  {
   "cell_type": "code",
   "execution_count": 10,
   "metadata": {
    "collapsed": false
   },
   "outputs": [],
   "source": [
    "def get_weight_func(tau, fs):\n",
    "    f = lambda x: stats.expon.pdf(x, scale=(tau*fs))\n",
    "    return f\n",
    "\n",
    "fs = 1e6\n",
    "wb = 0.67e-3\n",
    "wa = 1.2e-3\n",
    "w_before = phasekick.expon_weights(wb, fs, 5)\n",
    "w_after = phasekick.expon_weights(wa, fs, 5)\n",
    "N_b = int(round(fs * wb * 5))\n",
    "N_a = int(round(fs*wa*5))\n",
    "\n",
    "\n",
    "h_b, _ = lockin.fir_weighted_lsq(get_weight_func(wb, fs), N_b)\n",
    "h_a, _ = lockin.fir_weighted_lsq(get_weight_func(wa, fs), N_a)\n",
    "\n",
    "tp = 100e-6\n",
    "w_diff = freqphasenoise.lps2diff(h_b, h_a, fs, tp)\n",
    "t = (np.arange(w_diff.size) - w_before.size) / fs"
   ]
  },
  {
   "cell_type": "code",
   "execution_count": 11,
   "metadata": {
    "collapsed": false
   },
   "outputs": [
    {
     "data": {
      "image/png": "[encoded data removed]",
      "text/plain": [
       "<matplotlib.figure.Figure at 0x106336190>"
      ]
     },
     "metadata": {},
     "output_type": "display_data"
    }
   ],
   "source": [
    "with mpl.rc_context(rcParams):\n",
    "    fig, ax = plt.subplots(figsize=Asize)\n",
    "    ax.plot(t*1e3, w_diff)\n",
    "    ax.set_xlim(-2.5, 3.5)\n",
    "    ax.set_ylim(-0.002, 0.0035)\n",
    "    ax.set_yticklabels(['', '', 0, '', '', ''])\n",
    "    ax.set_xlabel(u\"Time [ms]\", fontsize=8)\n",
    "    ax.set_ylabel(u\"Magnitude\", fontsize=8)\n",
    "    fig.savefig('../figs/03d-phase-diff-filter.pdf', bbox_inches='tight')"
   ]
  },
  {
   "cell_type": "code",
   "execution_count": 12,
   "metadata": {
    "collapsed": false
   },
   "outputs": [
    {
     "name": "stdout",
     "output_type": "stream",
     "text": [
      "Response:\n",
      "f   mag       dB\n",
      "    0.000 1.000    0.000\n",
      " 1000.000 0.983   -0.151\n",
      " 2000.000 0.927   -0.657\n",
      " 8000.000 0.095  -20.459\n",
      "16000.000 0.000 -101.856\n",
      "31000.000 0.000 -136.118\n",
      "62000.000 0.000 -152.587\n",
      "500000.000 0.000 -340.558\n"
     ]
    }
   ],
   "source": [
    "# Frequency shift\n",
    "r = 1.05\n",
    "dB = lambda x: 20*np.log10(abs(x))\n",
    "\n",
    "fir208 = lockin.lock2(62e3, 2e3, 8e3, 1e6)\n",
    "fir0502 = workups['0502-0V']['lis'][0].fir\n",
    "x0, y0 = log_bins(workups['815-0V']['psd_f'], workups['815-0V']['psd_df'], r=r)\n",
    "freq104, resp104 = sigutils.freqz(workups['104-10V']['lis'][0].fir, fs=1e6, xlim=(30, 10e3), xlog=True)\n",
    "f208, resp208 = sigutils.freqz(fir208, fs=1e6, xlim=(30, 10e3), xlog=True)\n",
    "f0502, resp0502 = sigutils.freqz(fir0502, fs=1e6, xlim=(30, 10e3), xlog=True)\n",
    "r208dB = 20*np.log10(abs(resp208))\n",
    "freq1, resp1 = sigutils.freqz(workups['815-0V']['lis'][0].fir, fs=1e6, xlim=(30, 20e3), xlog=True)"
   ]
  },
  {
   "cell_type": "code",
   "execution_count": 13,
   "metadata": {
    "collapsed": false
   },
   "outputs": [],
   "source": [
    "ax2x, ax2y = log_bins(workups['815-0V']['psd_f'],\n",
    "           workups['815-0V']['psd_df']*abs(signal.freqz(workups['104-10V']['lis'][0].fir, worN=2*np.pi*workups['815-0V']['psd_f']/1e6)[1])**2,\n",
    "                           r=1.05)\n",
    "P_0208_factor = abs(signal.freqz(fir208, worN=2*np.pi*workups['815-0V']['psd_f']/1e6)[1])**2\n",
    "x_208, y_208 = log_bins(workups['815-0V']['psd_f'],\n",
    "           workups['815-0V']['psd_df']*abs(signal.freqz(fir208, worN=2*np.pi*workups['815-0V']['psd_f']/1e6)[1])**2,\n",
    "                           r=1.05)\n",
    "\n",
    "x_0502, y_0502 = log_bins(workups['815-0V']['psd_f'],\n",
    "           workups['815-0V']['psd_df']*abs(signal.freqz(fir0502, worN=2*np.pi*workups['815-0V']['psd_f']/1e6)[1])**2,\n",
    "                           r=1.05)"
   ]
  },
  {
   "cell_type": "code",
   "execution_count": 14,
   "metadata": {
    "collapsed": false
   },
   "outputs": [
    {
     "data": {
      "image/png": "[encoded data removed]",
      "text/plain": [
       "<matplotlib.figure.Figure at 0x29ecf7590>"
      ]
     },
     "metadata": {},
     "output_type": "display_data"
    }
   ],
   "source": [
    "Bsize = (2.9, 3)\n",
    "size=9\n",
    "\n",
    "Pfm1 = 6e-3\n",
    "Pf2 = 0.7e-9\n",
    "Pf0 = 2e-5\n",
    "\n",
    "with mpl.rc_context(rcParams):\n",
    "    fig = plt.figure(figsize=Bsize)\n",
    "    gs = gridspec.GridSpec(9, 1)\n",
    "    gs.update(wspace=0.045, hspace=0.2) # set the spacing between axes.\n",
    "    divs = [0, 2, 6, 9]\n",
    "    axes = []\n",
    "    for i in range(len(divs)-1):\n",
    "        axes.append(fig.add_subplot(gs[divs[i]:divs[i+1], 0]))\n",
    "    \n",
    "    axes[0].semilogx(freq104, np.log10(abs(resp104))*20, color='g', linewidth=1.5)\n",
    "    axes[0].semilogx(f208, r208dB, color='b', linewidth=1.5)\n",
    "    axes[0].semilogx(f0502, dB(resp0502), color='m', linewidth=1.5)\n",
    "    axes[1].loglog(x0, y0, 'k-', linewidth=1.5)\n",
    "    axes[1].loglog(x0[x0 < 300], Pfm1/x0[x0 < 300], 'k--')\n",
    "    axes[1].loglog(x0[x0 > 150], (Pf2*x0**2)[x0 > 150], 'k--')\n",
    "    axes[1].loglog(x0, Pf0*np.ones_like(x0), 'k--')\n",
    "    axes[2].loglog(x_208, y_208, color='b', linewidth=1.5)\n",
    "    axes[2].loglog(ax2x, ax2y, color='g', linewidth=1.5)\n",
    "    axes[2].loglog(x_0502, y_0502, color='m', linewidth=1.5)\n",
    "    axes[2].fill_between(x_208, 1e-8, y_208, color='b', alpha=0.1)\n",
    "    axes[2].fill_between(ax2x, 1e-8, ax2y, color='g', alpha=0.1)\n",
    "    axes[2].fill_between(x_0502, 1e-8, y_0502, color='m', alpha=0.1)\n",
    "    for ax in axes:\n",
    "        ax.set_xlim(30, 10e3)\n",
    "    axes[0].set_ylim(-45, 8)\n",
    "    axes[2].set_ylim(1e-6, 1e-1)\n",
    "    axes[1].set_ylim(1e-6, 1e-1)\n",
    "    for ax in axes[1:]:\n",
    "        ax.set_yticks(np.logspace(-6, -2, 3))\n",
    "    for ax in axes[:-1]:\n",
    "        ax.set_xticklabels([''])\n",
    "    axes[2].set_xlabel(r\"$\\mathrm{Frequency} \\: \\:  [\\mathrm{Hz}]$\", fontsize=size)\n",
    "    axes[2].set_ylabel(r\"$P_{\\delta f} \\: \\: [\\mathrm{Hz}^2/\\mathrm{Hz}]$\", fontsize=size)\n",
    "    axes[0].set_ylabel(\"$\\\\left | H \\\\right | \\: \\: [\\\\mathrm{dB}]$\", fontsize=9)\n",
    "    axes[1].set_ylabel(r\"$P_{\\delta f} \\: \\: [\\mathrm{Hz}^2/\\mathrm{Hz}]$\", fontsize=size)\n",
    "    axes[0].set_yticks(np.linspace(-40, 0, 3))\n",
    "    fig.savefig('../figs/03b-frequency-noise.pdf', bbox_inches='tight')"
   ]
  },
  {
   "cell_type": "markdown",
   "metadata": {},
   "source": [
    "## 2e"
   ]
  },
  {
   "cell_type": "code",
   "execution_count": 15,
   "metadata": {
    "collapsed": true
   },
   "outputs": [],
   "source": [
    "r = 1.05\n",
    "xe, ye = log_bins(workups['815-0V']['psd_f'], workups['815-0V']['psd_phi'], r=r)\n",
    "fe, mage = sigutils.freqz(w_diff, fs=1e6, xlim=(30, 10e3), xlog=True)"
   ]
  },
  {
   "cell_type": "code",
   "execution_count": 16,
   "metadata": {
    "collapsed": true
   },
   "outputs": [],
   "source": [
    "ax2ex, ax2ey = log_bins(workups['815-0V']['psd_f'],\n",
    "           workups['815-0V']['psd_phi']*abs(signal.freqz(w_diff, worN=2*np.pi*workups['815-0V']['psd_f']/1e6)[1])**2 * P_0208_factor,\n",
    "                           r=1.05)"
   ]
  },
  {
   "cell_type": "code",
   "execution_count": 17,
   "metadata": {
    "collapsed": false
   },
   "outputs": [
    {
     "data": {
      "image/png": "[encoded data removed]",
      "text/plain": [
       "<matplotlib.figure.Figure at 0x1158b1290>"
      ]
     },
     "metadata": {},
     "output_type": "display_data"
    }
   ],
   "source": [
    "\n",
    "with mpl.rc_context(rcParams):\n",
    "    fig = plt.figure(figsize=Bsize)\n",
    "    gs = gridspec.GridSpec(9, 1)\n",
    "    gs.update(wspace=0.045, hspace=0.2) # set the spacing between axes.\n",
    "    divs = [0, 2, 6, 9]\n",
    "    axes = []\n",
    "    for i in range(len(divs)-1):\n",
    "        axes.append(fig.add_subplot(gs[divs[i]:divs[i+1], 0]))\n",
    "    \n",
    "    axes[0].semilogx(fe, np.log10(abs(mage))*20, color='g', linewidth=1.5)\n",
    "    axes[1].loglog(xe, ye, 'k-', linewidth=1.5)\n",
    "    axes[1].loglog(xe[xe < 300], (0.05*Pfm1/xe**3)[xe < 300], 'k--')\n",
    "    axes[1].loglog(xe[xe >= 300], (0.04*Pf0/xe**2)[xe>=300], 'k--')\n",
    "    axes[1].loglog(xe, 0.03*Pf2*np.ones_like(xe), 'k--')\n",
    "    \n",
    "    axes[2].loglog(ax2ex, ax2ey, color='g', linewidth=1.5)\n",
    "    axes[2].fill_between(ax2ex, 1e-24, ax2ey, color='g', alpha=0.2)\n",
    "    for ax in axes:\n",
    "        ax.set_xlim(30, 10e3)\n",
    "    for ax in axes[:-1]:\n",
    "        ax.set_xticklabels([''])\n",
    "    axes[2].set_xlabel(r\"$\\mathrm{Frequency} \\: \\:  [\\mathrm{Hz}]$\", fontsize=size)\n",
    "    axes[2].set_ylabel(r\"$P_{\\delta \\phi} \\: \\: [\\mathrm{cyc}^2/\\mathrm{Hz}]$\", fontsize=size)\n",
    "    axes[0].set_ylabel(\"$\\\\left | H \\\\right | \\: \\: [\\\\mathrm{dB}]$\", fontsize=9)\n",
    "    axes[1].set_ylabel(r\"$P_{\\delta \\phi} \\: \\: [\\mathrm{cyc}^2/\\mathrm{Hz}]$\", fontsize=size)\n",
    "    axes[0].set_ylim(-35, 10)\n",
    "    for ax in axes[1:]:\n",
    "        ax.set_ylim(1e-14, 1e-8)\n",
    "        ax.set_yticks(np.logspace(-13, -9, 3))\n",
    "    axes[0].set_yticks(np.linspace(-30, 0, 3))\n",
    "\n",
    "    fig.savefig('../figs/03e-phase-noise.pdf', bbox_inches='tight')"
   ]
  }
 ],
 "metadata": {
  "kernelspec": {
   "display_name": "Python 2",
   "language": "python",
   "name": "python2"
  },
  "language_info": {
   "codemirror_mode": {
    "name": "ipython",
    "version": 2
   },
   "file_extension": ".py",
   "mimetype": "text/x-python",
   "name": "python",
   "nbconvert_exporter": "python",
   "pygments_lexer": "ipython2",
   "version": "2.7.11"
  }
 },
 "nbformat": 4,
 "nbformat_minor": 0
}
