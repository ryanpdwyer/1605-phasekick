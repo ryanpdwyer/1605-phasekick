{
 "cells": [
  {
   "cell_type": "code",
   "execution_count": 4,
   "metadata": {
    "collapsed": true
   },
   "outputs": [],
   "source": [
    "%matplotlib inline\n",
    "from __future__ import division, print_function\n",
    "import matplotlib as mpl\n",
    "mpl.style.use('classic')\n",
    "import matplotlib.pyplot as plt\n",
    "import numpy as np\n",
    "import h5py\n",
    "from scipy import signal, linalg\n",
    "from ipywidgets import interact"
   ]
  },
  {
   "cell_type": "code",
   "execution_count": 5,
   "metadata": {},
   "outputs": [],
   "source": [
    "import sklearn\n",
    "from scipy import linalg, signal, optimize\n",
    "import lockin\n",
    "import phasekick2 as pk2\n",
    "import phasekick as pk\n",
    "import tqdm\n",
    "import sigutils\n",
    "import munch\n",
    "%reload_ext timedomainfit\n",
    "from timedomainfit import *\n",
    "import timedomainfit as td\n",
    "\n",
    "def dc_term(t_, tau, t0, dx):\n",
    "    t = t_ - t0\n",
    "    omega = 61.84 * 2 * np.pi\n",
    "    omega_tau2 = (omega * tau)**2\n",
    "    x_light =(dx * (1 - omega_tau2 / (1 + omega_tau2) * np.exp(-t/tau)) - \n",
    "              dx / (1 + omega_tau2) * (np.cos(omega * t) + omega * tau * np.sin(omega*t))\n",
    "              )\n",
    "    return np.where(t > 0, x_light, 0)\n",
    "\n",
    "def dc_plus_ac(t_, tau, t0, dx, X0, Y0, tau_df):\n",
    "    t = t_ - t0\n",
    "    omega = 61.84 * 2 * np.pi\n",
    "    omega_tau2 = (omega * tau)**2\n",
    "    phi = pk.phase_step(t, tau_df, 1)\n",
    "    x_light = (dx * (1 - omega_tau2 / (1 + omega_tau2) * np.exp(-t/tau)) - \n",
    "              dx / (1 + omega_tau2) * (np.cos(omega * t) + omega * tau * np.sin(omega*t))\n",
    "              )\n",
    "    x_df = X0 * phi * np.cos(t*omega) + Y0 * phi * np.sin(t*omega)\n",
    "    return np.where(t > 0, x_light + x_df, 0)\n",
    "\n",
    "def dc_induced_ac(t_, tau, t0, dx, X0, Y0, tau_df):\n",
    "    t = t_ - t0\n",
    "    omega = 61.84 * 2 * np.pi\n",
    "    omega_tau2 = (omega * tau)**2\n",
    "    return - dx / (1 + omega_tau2) * (np.cos(omega * t) + omega * tau * np.sin(omega*t))"
   ]
  },
  {
   "cell_type": "code",
   "execution_count": 6,
   "metadata": {
    "collapsed": true
   },
   "outputs": [],
   "source": [
    "mpl.rc('font', size='9')"
   ]
  },
  {
   "cell_type": "code",
   "execution_count": 7,
   "metadata": {
    "collapsed": true
   },
   "outputs": [],
   "source": [
    "# phit, optfunc, optfuncQ, optfuncDC, optfuncDet, xDCt, xDC_all = td.make_optfunc(t0=0, tp=1.4e-3)"
   ]
  },
  {
   "cell_type": "code",
   "execution_count": 8,
   "metadata": {},
   "outputs": [
    {
     "name": "stdout",
     "output_type": "stream",
     "text": [
      "Response:\n",
      "f   mag       dB\n",
      "    0.000 1.000    0.000\n",
      " 2000.000 0.982   -0.161\n",
      " 4000.000 0.921   -0.715\n",
      "15000.000 0.098  -20.164\n",
      "30000.000 0.000 -101.125\n",
      "33000.000 0.000 -110.366\n",
      "66000.000 0.000 -141.187\n",
      "500000.000 0.000 -196.320\n"
     ]
    }
   ],
   "source": [
    "fh = h5py.File(\"../data/tr-efm/151218-003450-100sun-784.h5\", \"r\")\n",
    "params =   {'fp': 4000,\n",
    "             'fc': 15000,\n",
    "             't_phase': -0.052,\n",
    "             'ti': -54e-3,\n",
    "             'tf': 6e-3,\n",
    "             'Ndec': 1}\n",
    "fir = lockin.lock2(66000, params['fp'], params['fc'], fs=1e6)"
   ]
  },
  {
   "cell_type": "code",
   "execution_count": 9,
   "metadata": {},
   "outputs": [
    {
     "name": "stderr",
     "output_type": "stream",
     "text": [
      "                                                 \r"
     ]
    },
    {
     "name": "stdout",
     "output_type": "stream",
     "text": [
      "Response:\n",
      "f   mag       dB\n",
      "    0.000 1.000    0.000\n",
      " 3091.925 0.983   -0.152\n",
      " 6183.850 0.927   -0.658\n",
      "24735.399 0.095  -20.423\n",
      "30919.249 0.011  -38.978\n",
      "49470.798 0.000 -101.893\n",
      "61838.498 0.000 -110.800\n",
      "500000.000 0.000 -337.181\n"
     ]
    }
   ],
   "source": [
    "b = td.signal_average_gr_parab(fh['data'], -1.5e-3, 0, invert=False)"
   ]
  },
  {
   "cell_type": "code",
   "execution_count": 10,
   "metadata": {
    "collapsed": true
   },
   "outputs": [],
   "source": [
    "p0 = np.array([-23, 30, 61.850, 0.01, 0.0])\n",
    "bdamp = fit_damped_sine_eliminate_harmonics(b.t_ms, b.x, p0)"
   ]
  },
  {
   "cell_type": "code",
   "execution_count": 11,
   "metadata": {},
   "outputs": [
    {
     "name": "stderr",
     "output_type": "stream",
     "text": [
      "                                                 \r"
     ]
    },
    {
     "name": "stdout",
     "output_type": "stream",
     "text": [
      "Response:\n",
      "f   mag       dB\n",
      "    0.000 1.000    0.000\n",
      " 3091.589 0.983   -0.152\n",
      " 6183.178 0.927   -0.658\n",
      "24732.713 0.095  -20.422\n",
      "30915.891 0.011  -38.973\n",
      "49465.425 0.000 -101.894\n",
      "61831.782 0.000 -110.805\n",
      "500000.000 0.000 -342.271\n"
     ]
    }
   ],
   "source": [
    "b2 = td.signal_average_gr_parab(fh['data'], -1.5e-3, 1.4e-3, invert=False)"
   ]
  },
  {
   "cell_type": "code",
   "execution_count": 12,
   "metadata": {
    "collapsed": true
   },
   "outputs": [],
   "source": [
    "remove_harmonics(b2, bdamp)"
   ]
  },
  {
   "cell_type": "code",
   "execution_count": 14,
   "metadata": {},
   "outputs": [
    {
     "name": "stderr",
     "output_type": "stream",
     "text": [
      "                                                  \r"
     ]
    },
    {
     "name": "stdout",
     "output_type": "stream",
     "text": [
      "Response:\n",
      "f   mag       dB\n",
      "    0.000 1.000   -0.000\n",
      " 3099.931 0.983   -0.152\n",
      " 6199.861 0.927   -0.660\n",
      "24799.444 0.096  -20.369\n",
      "30999.305 0.011  -38.830\n",
      "49598.888 0.000 -101.957\n",
      "61998.610 0.000 -110.975\n",
      "500000.000 0.000 -179.337\n"
     ]
    }
   ],
   "source": [
    "bi = td.signal_average_gr_parab(fh['data'], -1.5e-3, 0, invert=False, align_voltage=True)"
   ]
  },
  {
   "cell_type": "code",
   "execution_count": 15,
   "metadata": {
    "collapsed": true
   },
   "outputs": [],
   "source": [
    "bidamped = fit_damped_sine_eliminate_harmonics(bi.t_ms, bi.x, p0=np.array([0, 0, 62.0, 0.0, 0.0]))"
   ]
  },
  {
   "cell_type": "code",
   "execution_count": 16,
   "metadata": {},
   "outputs": [
    {
     "name": "stderr",
     "output_type": "stream",
     "text": [
      "                                                  \r"
     ]
    },
    {
     "name": "stdout",
     "output_type": "stream",
     "text": [
      "Response:\n",
      "f   mag       dB\n",
      "    0.000 1.000   -0.000\n",
      " 3096.811 0.983   -0.152\n",
      " 6193.623 0.927   -0.661\n",
      "24774.492 0.096  -20.354\n",
      "30968.115 0.011  -38.789\n",
      "49548.983 0.000 -101.976\n",
      "61936.229 0.000 -111.030\n",
      "500000.000 0.000 -179.312\n"
     ]
    }
   ],
   "source": [
    "bi_all = td.signal_average_gr_parab(fh['data'], -1.5e-3, 1.4e-3, invert=False, align_voltage=True)"
   ]
  },
  {
   "cell_type": "code",
   "execution_count": 17,
   "metadata": {
    "collapsed": true
   },
   "outputs": [],
   "source": [
    "remove_harmonics(bi_all, bidamped)"
   ]
  },
  {
   "cell_type": "code",
   "execution_count": 34,
   "metadata": {},
   "outputs": [
    {
     "name": "stderr",
     "output_type": "stream",
     "text": [
      "                                                 \r"
     ]
    },
    {
     "name": "stdout",
     "output_type": "stream",
     "text": [
      "Response:\n",
      "f   mag       dB\n",
      "    0.000 1.000    0.000\n",
      " 3092.013 0.983   -0.152\n",
      " 6184.027 0.927   -0.658\n",
      "24736.106 0.095  -20.424\n",
      "30920.133 0.011  -38.979\n",
      "49472.212 0.000 -101.892\n",
      "61840.265 0.000 -110.799\n",
      "500000.000 0.000 -343.154\n"
     ]
    },
    {
     "name": "stderr",
     "output_type": "stream",
     "text": [
      "                                                 \r"
     ]
    },
    {
     "name": "stdout",
     "output_type": "stream",
     "text": [
      "Response:\n",
      "f   mag       dB\n",
      "    0.000 1.000    0.000\n",
      " 3091.919 0.983   -0.152\n",
      " 6183.837 0.927   -0.658\n",
      "24735.349 0.095  -20.423\n",
      "30919.187 0.011  -38.977\n",
      "49470.699 0.000 -101.893\n",
      "61838.373 0.000 -110.800\n",
      "500000.000 0.000 -337.185\n"
     ]
    }
   ],
   "source": [
    "fh2 = h5py.File(\"../data/tr-efm/151217-234238-20sun-df-384.h5\", \"r\")\n",
    "b1s = td.signal_average_gr_parab(fh2['data'], -1.5e-3, 0, invert=False)\n",
    "\n",
    "b1s_all = td.signal_average_gr_parab(fh2['data'], -1.5e-3, 1.4e-3, invert=False)\n",
    "b1sdamped = td.fit_damped_sine_eliminate_harmonics(b1s.t_ms, b1s.x, p0=np.array([0, 0, 61.85, 0.01, 0.0]))\n",
    "remove_harmonics(b1s_all, b1sdamped)"
   ]
  },
  {
   "cell_type": "code",
   "execution_count": null,
   "metadata": {
    "collapsed": true
   },
   "outputs": [],
   "source": []
  },
  {
   "cell_type": "code",
   "execution_count": 21,
   "metadata": {
    "collapsed": true
   },
   "outputs": [],
   "source": [
    "# plt.savefig('../../figs/SI-151-residuals.pdf', bbox_inches='tight')"
   ]
  },
  {
   "cell_type": "code",
   "execution_count": 36,
   "metadata": {
    "collapsed": true
   },
   "outputs": [],
   "source": [
    "m = pk.masklh(b2.t_us, -10, 180)\n",
    "popt, pcov = optimize.curve_fit(dc_term, b2.t_ms[m], b2.resid[m], p0=np.array([0.050, 0.008, 1.4]))"
   ]
  },
  {
   "cell_type": "code",
   "execution_count": 37,
   "metadata": {
    "collapsed": true
   },
   "outputs": [],
   "source": [
    "popt2, pcov2 = optimize.curve_fit(dc_plus_ac, b2.t_ms[m], b2.resid[m], p0=np.r_[0.05, 0.008, 0.7, 0, 0, 0.05])"
   ]
  },
  {
   "cell_type": "code",
   "execution_count": 39,
   "metadata": {
    "collapsed": true
   },
   "outputs": [],
   "source": [
    "A0 = abs(bdamp.fit.popt[0] + bdamp.fit.popt[1]*1j)"
   ]
  },
  {
   "cell_type": "code",
   "execution_count": 40,
   "metadata": {
    "collapsed": true
   },
   "outputs": [],
   "source": [
    "# plt.figure(figsize=(6.5, 2.5))\n",
    "# plt.plot(b2.t_us, b2.x_no_overtones, linewidth=0.5, color='0.5')\n",
    "# plt.plot(b2.t_us, b2.x_no_overtones, '.')\n",
    "# plt.xlim(-12, 120)\n",
    "# plt.ylim(-42.2, 42.2)\n",
    "# plt.xlabel(u\"Time $t$ [µs]\")\n",
    "# plt.ylabel(u'Displacement $x$ [nm]')\n",
    "# plt.savefig('../../figs/SI-150-x-vs-t.pdf', bbox_inches='tight')"
   ]
  },
  {
   "cell_type": "code",
   "execution_count": 42,
   "metadata": {},
   "outputs": [
    {
     "name": "stderr",
     "output_type": "stream",
     "text": [
      "/Users/ryandwyer/anaconda/lib/python2.7/site-packages/ipykernel/__main__.py:50: RuntimeWarning: overflow encountered in expm1\n"
     ]
    },
    {
     "data": {
      "text/plain": [
       "[<matplotlib.text.Text at 0x11e7b8750>]"
      ]
     },
     "execution_count": 42,
     "metadata": {},
     "output_type": "execute_result"
    },
    {
     "data": {
      "image/png": "[encoded data removed]",
      "text/plain": [
       "<matplotlib.figure.Figure at 0x11e7bee50>"
      ]
     },
     "metadata": {},
     "output_type": "display_data"
    }
   ],
   "source": [
    "t = bi_all.t_us\n",
    "# plt.plot(t, bi_all.resid, '-', linewidth=0.5, color='0.5')\n",
    "# plt.plot(t, bi_all.resid, '.',)\n",
    "fig = plt.figure(figsize=(6.5, 5))\n",
    "gs = mpl.gridspec.GridSpec(10, 1)\n",
    "ax1 = fig.add_subplot(gs[:3])\n",
    "\n",
    "ax1.axvspan(-12, 0, color='0.8', zorder=0, alpha=0.5)\n",
    "\n",
    "ax1.plot(b2.t_us, b2.x, linewidth=0.5, color='0.2')\n",
    "ax1.plot(b2.t_us, b2.x, '.', color='0.2')\n",
    "\n",
    "plt.xlim(-12, 120)\n",
    "plt.ylim(-44, 44)\n",
    "ax1.set_yticks(np.arange(-40, 41, 40))\n",
    "plt.xlabel(u\"Time $t$ [µs]\")\n",
    "plt.ylabel(u'Displacement $x$ [nm]')\n",
    "\n",
    "ax2 = fig.add_subplot(gs[3:])\n",
    "\n",
    "ax2.plot(t, bi_all.resid*0.05-0.2, '-', linewidth=0.5, color='0.5')\n",
    "ax2.plot(t, bi_all.resid*0.05-0.2, '.', color='c')\n",
    "\n",
    "ax2.plot(t, b1s_all.resid, '-', linewidth=0.5, color='0.5')\n",
    "ax2.plot(t, b1s_all.resid, '.', color='m')\n",
    "\n",
    "m = pk.masklh(b1s_all.t_us, -10, 180)\n",
    "dc = lambda t, dx, tau: np.where(t > 8.0, -dx * np.expm1(-(t-8)/tau), 0)\n",
    "popt1, pcov1 = optimize.curve_fit(dc, b1s_all.t_us[m], b1s_all.resid[m],\n",
    "                                  p0=np.array([0.3, 60]))\n",
    "\n",
    "# ax2.plot(b2.t_us[m], dc_term(b2.t_ms[m], *popt2[:3]))\n",
    "# ax2.plot(b2.t_us[m], dc_term(b2.t_ms[m], *popt2[:3]))\n",
    "# ax2.plot(b2.t_us[m], dc_plus_ac(b2.t_ms[m], *popt2))\n",
    "\n",
    "ax2.plot(b2.t_us[m], dc_plus_ac(b2.t_ms[m], *popt2), color='g')\n",
    "plt.plot(t, dc(t, 0.3, 60), 'm--', linewidth=1.5, zorder=0)\n",
    "# plt.plot(t, dc(t, 0.4433, 106.6), 'm--', linewidth=1, zorder=0)\n",
    "\n",
    "plt.axvspan(-12, 0, color='0.8', zorder=0, alpha=0.5)\n",
    "\n",
    "t = b2.t_us\n",
    "\n",
    "# plt.plot(t, b2.x_no_overtones*0.004-0.33, '.', color='0.5')\n",
    "# plt.plot(t, b2.x_no_overtones*0.004-0.33, '-', color='0.5', alpha=0.5)\n",
    "\n",
    "plt.plot(t, b2.resid, '-', linewidth=0.5, color='0.5')\n",
    "plt.plot(t, b2.resid, 'g.',)\n",
    "m = pk.masklh(t, -10, 180)\n",
    "dc = lambda t, dx, tau: np.where(t > 8.0, -dx * np.expm1(-(t-8)/tau), 0)\n",
    "popt, pcov = optimize.curve_fit(dc, t[m], b2.resid[m],\n",
    "                                p0=np.array([1, 20]))\n",
    "plt.plot(t, dc(t, *popt), 'g--', linewidth=1, zorder=0)\n",
    "plt.plot(t, dc(t+5, 0.07, 1.5) - 0.2, 'c--', linewidth=1)\n",
    "plt.xlim(-12, 120)\n",
    "plt.ylim(-0.4, 1.36)\n",
    "plt.ylabel(' $\\\\Delta x_{h \\\\nu}$ [nm]')\n",
    "plt.xlabel(u\"Time $t$ [µs]\")\n",
    "ax1.set_xticklabels([''])\n",
    "\n"
   ]
  },
  {
   "cell_type": "code",
   "execution_count": 43,
   "metadata": {
    "collapsed": true
   },
   "outputs": [],
   "source": [
    "fig.savefig('../figs/SI-151-residuals.pdf', bbox_inches='tight')"
   ]
  },
  {
   "cell_type": "code",
   "execution_count": 44,
   "metadata": {},
   "outputs": [
    {
     "data": {
      "text/plain": [
       "530.5164769729845"
      ]
     },
     "execution_count": 44,
     "metadata": {},
     "output_type": "execute_result"
    }
   ],
   "source": [
    "1/(300 * 2 * np.pi) * 1e6"
   ]
  },
  {
   "cell_type": "code",
   "execution_count": 45,
   "metadata": {},
   "outputs": [
    {
     "data": {
      "text/plain": [
       "array([ 1.90878442,  0.44318186,  0.01223615,  0.14812707,  0.74344493,\n",
       "        4.31803501])"
      ]
     },
     "execution_count": 45,
     "metadata": {},
     "output_type": "execute_result"
    }
   ],
   "source": [
    "pcov2.diagonal()**0.5 * np.array([1e3, 1e3, 1, 1, 1, 1e3])"
   ]
  },
  {
   "cell_type": "code",
   "execution_count": 47,
   "metadata": {},
   "outputs": [],
   "source": [
    "# !open ../../figs/SI-151-residuals.pdf"
   ]
  },
  {
   "cell_type": "code",
   "execution_count": 48,
   "metadata": {
    "collapsed": true
   },
   "outputs": [],
   "source": [
    "# !cp ../../figs/SI-151-residuals.pdf /Users/ryandwyer/Dropbox/_JAM_MS__Dwyer201511__Phasekick__figs/SI/"
   ]
  },
  {
   "cell_type": "code",
   "execution_count": 49,
   "metadata": {},
   "outputs": [
    {
     "name": "stderr",
     "output_type": "stream",
     "text": [
      "/Users/ryandwyer/anaconda/lib/python2.7/site-packages/scipy/optimize/minpack.py:779: OptimizeWarning: Covariance of the parameters could not be estimated\n",
      "  category=OptimizeWarning)\n"
     ]
    }
   ],
   "source": [
    "bi_all.fit_all = td.record_fit(td.damped_sine_exp, bi.t_ms, bi.x, p0=np.array([40, 0, 62.0, 0, 0, -0.12, 10.0, 0.0]))"
   ]
  },
  {
   "cell_type": "code",
   "execution_count": 52,
   "metadata": {
    "collapsed": true
   },
   "outputs": [],
   "source": [
    "A = td.harNphi(td._damped_sine_exp_phi(bi_all.t_ms, *bi_all.fit_all.popt),\n",
    "            5,\n",
    "            td._damped_sine_exp_A(bi_all.t_ms, *bi_all.fit_all.popt)\n",
    "            )"
   ]
  },
  {
   "cell_type": "code",
   "execution_count": 54,
   "metadata": {
    "collapsed": true
   },
   "outputs": [],
   "source": [
    "bi_all.fit_all = td.record_fit(td.damped_sine_exp, bi_all.t_ms, bi_all.x, p0=np.array([40, 0, 62.0, 0, 0, -0.12, 10.0, 0.0]))"
   ]
  },
  {
   "cell_type": "code",
   "execution_count": 55,
   "metadata": {},
   "outputs": [
    {
     "data": {
      "text/plain": [
       "array([-42.83801124, -45.08760234, -40.56726905, ...,  31.58833294,\n",
       "        42.73567736,  47.52194947])"
      ]
     },
     "execution_count": 55,
     "metadata": {},
     "output_type": "execute_result"
    }
   ],
   "source": [
    "td.damped_sine_exp(bi_all.t_ms, *np.array([-4.32917325e+01,  -1.44660161e+01,   6.19986306e+01,\n",
    "        -2.43226565e-04,  -8.79504450e-04, 0, 0, 0]))\n",
    "td.damped_sine_exp(bi_all.t_ms, *bi_all.fit_all.popt)"
   ]
  },
  {
   "cell_type": "code",
   "execution_count": 56,
   "metadata": {
    "collapsed": true
   },
   "outputs": [],
   "source": [
    "omega_tau = (popt2[0] * (2*np.pi*bdamp.fit.popt[2]))"
   ]
  },
  {
   "cell_type": "code",
   "execution_count": 57,
   "metadata": {},
   "outputs": [
    {
     "data": {
      "text/plain": [
       "0.43587603140731185"
      ]
     },
     "execution_count": 57,
     "metadata": {},
     "output_type": "execute_result"
    }
   ],
   "source": [
    "abs((1 + 1j * omega_tau) / bdamp.fit.popt[2])"
   ]
  },
  {
   "cell_type": "code",
   "execution_count": 58,
   "metadata": {},
   "outputs": [
    {
     "data": {
      "text/plain": [
       "0.0010246431845289394"
      ]
     },
     "execution_count": 58,
     "metadata": {},
     "output_type": "execute_result"
    }
   ],
   "source": [
    "(1/np.sqrt(1 + omega_tau**2) * 1.16) / 42"
   ]
  },
  {
   "cell_type": "code",
   "execution_count": 59,
   "metadata": {},
   "outputs": [
    {
     "data": {
      "text/plain": [
       "0.16515347453976778"
      ]
     },
     "execution_count": 59,
     "metadata": {},
     "output_type": "execute_result"
    }
   ],
   "source": [
    "(popt2[2]/np.sqrt(1 + omega_tau**2)) / abs(bdamp.fit.popt[0] + bdamp.fit.popt[1]*1j) / (2*np.pi) * 1e3"
   ]
  },
  {
   "cell_type": "code",
   "execution_count": 60,
   "metadata": {},
   "outputs": [
    {
     "data": {
      "text/plain": [
       "0.042932276282298815"
      ]
     },
     "execution_count": 60,
     "metadata": {},
     "output_type": "execute_result"
    }
   ],
   "source": [
    "(popt2[2]/np.sqrt(1 + omega_tau**2))"
   ]
  },
  {
   "cell_type": "code",
   "execution_count": 61,
   "metadata": {},
   "outputs": [
    {
     "data": {
      "text/plain": [
       "0.00957"
      ]
     },
     "execution_count": 61,
     "metadata": {},
     "output_type": "execute_result"
    }
   ],
   "source": [
    "0.165 * 0.058"
   ]
  },
  {
   "cell_type": "code",
   "execution_count": 62,
   "metadata": {},
   "outputs": [
    {
     "data": {
      "text/plain": [
       "41.372935129315046"
      ]
     },
     "execution_count": 62,
     "metadata": {},
     "output_type": "execute_result"
    }
   ],
   "source": [
    "abs(bdamp.fit.popt[0] + bdamp.fit.popt[1]*1j)"
   ]
  },
  {
   "cell_type": "code",
   "execution_count": 63,
   "metadata": {},
   "outputs": [
    {
     "data": {
      "text/plain": [
       "0.0021054833296064055"
      ]
     },
     "execution_count": 63,
     "metadata": {},
     "output_type": "execute_result"
    }
   ],
   "source": [
    "sum(bdamp.fit.pcov[:2, :2].diagonal())**0.5"
   ]
  },
  {
   "cell_type": "code",
   "execution_count": 64,
   "metadata": {},
   "outputs": [
    {
     "data": {
      "text/plain": [
       "0.057971014492753624"
      ]
     },
     "execution_count": 64,
     "metadata": {},
     "output_type": "execute_result"
    }
   ],
   "source": [
    "4/69"
   ]
  }
 ],
 "metadata": {
  "anaconda-cloud": {},
  "kernelspec": {
   "display_name": "Python [default]",
   "language": "python",
   "name": "python2"
  },
  "language_info": {
   "codemirror_mode": {
    "name": "ipython",
    "version": 2
   },
   "file_extension": ".py",
   "mimetype": "text/x-python",
   "name": "python",
   "nbconvert_exporter": "python",
   "pygments_lexer": "ipython2",
   "version": "2.7.12"
  }
 },
 "nbformat": 4,
 "nbformat_minor": 1
}
