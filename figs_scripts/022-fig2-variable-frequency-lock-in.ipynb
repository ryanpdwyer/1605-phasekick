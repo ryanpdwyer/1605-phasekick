{
 "cells": [
  {
   "cell_type": "code",
   "execution_count": 1,
   "metadata": {
    "collapsed": false
   },
   "outputs": [],
   "source": [
    "%matplotlib inline\n",
    "from __future__ import division\n",
    "import pandas as pd\n",
    "import numpy as np\n",
    "import matplotlib as mpl\n",
    "mpl.style.use(\"classic\")\n",
    "import matplotlib.pyplot as plt\n",
    "from matplotlib import gridspec\n",
    "import pystan\n",
    "import pickle\n",
    "import phasekickstan as p\n",
    "import h5py\n",
    "import phasekick\n",
    "from scipy import signal\n",
    "import pmefm\n",
    "import lockin\n",
    "import os\n",
    "from scipy.optimize import curve_fit, root\n",
    "from scipy import optimize\n",
    "from tqdm import tqdm\n",
    "from collections import OrderedDict\n",
    "\n",
    "def tdf2data_transformed(t, df, Ndec):\n",
    "    t_med = np.mean(t, axis=0)[::Ndec]*1e3\n",
    "    df_med = np.mean(df, axis=0)[::Ndec]\n",
    "    Npts = t.shape[0]\n",
    "    df_std = np.std(df, ddof=1, axis=0)[::Ndec]/Npts**0.5\n",
    "    m = t_med <= 0\n",
    "    y_neg = df_med[m]\n",
    "    offset = np.mean(y_neg)\n",
    "    \n",
    "    return {'y_neg': y_neg - offset, 't': t_med[~m], 'N_neg':t_med[m].size, 'N': t_med[~m].size,\n",
    "           'y_neg_err': df_std[m],\n",
    "           'y': df_med[~m] - offset, 'y_err': df_std[~m], 'offset': offset\n",
    "            }\n",
    "\n",
    "def exp2(t, df, ratio, tau):\n",
    "    return df * ( ratio*(1-np.exp(-t/tau[0])) + (1-ratio)*(1-np.exp(-t/tau[1])))\n",
    "\n",
    "\n",
    "def root_exp2(df, ratio, tau, df_e, x0=0.):\n",
    "    return root(lambda t: exp2(t, df, ratio, tau) - df_e, 0.)\n",
    "\n",
    "def get_approx_tau(gr, ratio=(1-np.exp(-1)), absolute=None, N=1000):\n",
    "\n",
    "    \n",
    "    \n",
    "    tau = p.percentile_func(gr['params/tau'][:])\n",
    "    df_inf = p.percentile_func(gr['params/df_inf'][:])\n",
    "    df_ratio = p.percentile_func(gr['params/df_ratio'][:])\n",
    "    \n",
    "    df = df_inf(50)\n",
    "    if absolute is None:\n",
    "        df_e = df * ratio\n",
    "    else:\n",
    "        df_e = absolute\n",
    "    \n",
    "    out_min = root_exp2(df_inf(97.5), df_ratio(97.5), tau(2.5), df_e)\n",
    "    out_max = root_exp2(df_inf(2.5), df_ratio(2.5), tau(97.5), df_e)\n",
    "    t = np.linspace(out_min['x'][0], out_max['x'][0], N)\n",
    "    \n",
    "\n",
    "    Df = p.fh_exp_doub2df(gr, t=t)\n",
    "    Dfp = p.percentile_func(Df)\n",
    "    t50 = t[np.argmax(Dfp(50) < df_e)]\n",
    "    t15 = t[np.argmax(Dfp(15.9) < df_e)]\n",
    "    t85 = t[np.argmax(Dfp(84.1) < df_e)]\n",
    "    return t15, t50, t85\n",
    "\n",
    "def exprisefall(t, tau, tf, ti=0):\n",
    "    return np.where(t < ti, 0,\n",
    "             np.where( t < tf,\n",
    "                      1-np.exp(-(t-ti)/tau),\n",
    "                      (1-np.exp(-(tf-ti)/tau))*np.exp(-(t-tf)/tau)\n",
    "        ))\n",
    "\n",
    "def fir_tau(tau, fs, ratio=None, N=None, T=None):\n",
    "    if N is not None:\n",
    "        pass\n",
    "    elif T is not None:\n",
    "        N = int(T*fs)\n",
    "    elif ratio is not None:\n",
    "        N = int(fs*tau*ratio)\n",
    "    else:\n",
    "        raise ValueError(\"Must specify N or T\")\n",
    "    \n",
    "    t = np.arange(N)/fs\n",
    "    h_raw = np.exp(-t/tau)\n",
    "    return h_raw / sum(h_raw)\n",
    "\n",
    "def align_labels(axes_list,lim, axis='y'):\n",
    "    for ax in axes_list:\n",
    "        t = ax.yaxis.label.get_transform()\n",
    "        x,y = ax.yaxis.label.get_position()\n",
    "        ax.yaxis.set_label_coords(lim,y,t)"
   ]
  },
  {
   "cell_type": "code",
   "execution_count": 2,
   "metadata": {
    "collapsed": true
   },
   "outputs": [],
   "source": [
    "fh = h5py.File('../data/pk-efm/151217-205912-p3sun-phasekick.h5', 'r')\n",
    "gr = fh['data/0058']\n",
    "li = phasekick.gr2lock(gr, 750, 750*4)\n",
    "li.phase(tf=-0.051)"
   ]
  },
  {
   "cell_type": "code",
   "execution_count": 3,
   "metadata": {
    "collapsed": true
   },
   "outputs": [],
   "source": [
    "h = fir_tau(327e-6, 1e6, 10)\n",
    "h2 = fir_tau(450e-6, 1e6, 10)\n",
    "h0 = np.ones(1000)/1000."
   ]
  },
  {
   "cell_type": "code",
   "execution_count": 4,
   "metadata": {
    "collapsed": true
   },
   "outputs": [],
   "source": [
    "df_filt = signal.fftconvolve(li('df'), h, mode='full')\n",
    "df_filt2 = signal.fftconvolve(li('df'), h2, mode='full')\n",
    "df_filt0 = signal.fftconvolve(li('df'), h0, mode='full')"
   ]
  },
  {
   "cell_type": "code",
   "execution_count": 5,
   "metadata": {
    "collapsed": true
   },
   "outputs": [],
   "source": [
    "maxes = ('none', 0)\n",
    "for ds_name, ds in fh['data'].items():\n",
    "    tp = ds.attrs['Abrupt BNC565 CantClk.tp tip [s]']\n",
    "    if tp > maxes[1]:\n",
    "        maxes = (ds_name, tp)"
   ]
  },
  {
   "cell_type": "code",
   "execution_count": 6,
   "metadata": {
    "collapsed": true
   },
   "outputs": [],
   "source": [
    "od = OrderedDict([(ds_name, ds.attrs['Abrupt BNC565 CantClk.tp tip [s]']) for ds_name, ds in fh['data'].items()])"
   ]
  },
  {
   "cell_type": "code",
   "execution_count": 7,
   "metadata": {
    "collapsed": true
   },
   "outputs": [],
   "source": [
    "od_sorted = OrderedDict(sorted(od.iteritems(), key=lambda x: x[1]))"
   ]
  },
  {
   "cell_type": "code",
   "execution_count": 8,
   "metadata": {
    "collapsed": true
   },
   "outputs": [],
   "source": [
    "ds_mid = od_sorted.items()[36][0]"
   ]
  },
  {
   "cell_type": "code",
   "execution_count": 9,
   "metadata": {
    "collapsed": true
   },
   "outputs": [],
   "source": [
    "gr_mid = fh['data'][ds_mid]"
   ]
  },
  {
   "cell_type": "code",
   "execution_count": 10,
   "metadata": {
    "collapsed": true
   },
   "outputs": [],
   "source": [
    "i = 52\n",
    "ds3 = od_sorted.items()[i][0]\n",
    "tp3 = od_sorted.items()[i][1]*1e3\n",
    "gr3 = fh['data'][ds3]\n",
    "li3 = phasekick.gr2lock(gr3, 750, 750*4)\n",
    "li32 = phasekick.gr2lock(gr3, 750, 750*4)\n",
    "tp2 = od_sorted.items()[i][1]*1e3\n",
    "li3.phase(ti=-0.0015, tf=-0.0005)\n",
    "li32.phase(tf=-0.051)"
   ]
  },
  {
   "cell_type": "code",
   "execution_count": 11,
   "metadata": {
    "collapsed": true
   },
   "outputs": [],
   "source": [
    "i2 = 22\n",
    "ds_mid = od_sorted.items()[i2][0]\n",
    "gr_mid = fh['data'][ds_mid]\n",
    "li_mid = phasekick.gr2lock(gr_mid, 750, 750*4)\n",
    "li_mid2 = phasekick.gr2lock(gr_mid, 750, 750*4)\n",
    "tp2 = od_sorted.items()[i2][1]*1e3\n",
    "li_mid.phase(ti=-0.0015, tf=-0.0005)\n",
    "li_mid2.phase(tf=-0.051)"
   ]
  },
  {
   "cell_type": "code",
   "execution_count": 12,
   "metadata": {
    "collapsed": true
   },
   "outputs": [],
   "source": [
    "t1 = gr.attrs['Abrupt BNC565 CantClk.t1 [s]']*1e3\n",
    "T_before = 0.001\n",
    "T_after = 0.001\n",
    "li.phase(ti=-0.002, tf=0)\n",
    "tp = li.tp * 1e3\n",
    "f1 = li.f0corr\n",
    "phi0 = -li.phi[0]\n",
    "li.phase(ti=tp*1e-3 + 0.001, tf=(tp*1e3+0.003))\n",
    "f2 = li.f0corr\n",
    "\n",
    "def fLock(t):\n",
    "    return np.where( (t>(tp/1e3)) | (t< (li.t[0] + li.t1)), f2, f1)"
   ]
  },
  {
   "cell_type": "code",
   "execution_count": 13,
   "metadata": {
    "collapsed": false
   },
   "outputs": [],
   "source": [
    "lock = lockin.FIRStateLockVarF(li.fir, 83, fLock, 0, li.t[0], fs=li.fs)\n",
    "lock.filt(li.x)\n",
    "t_lock = lock.get_t()\n",
    "t_ms = t_lock * 1e3"
   ]
  },
  {
   "cell_type": "code",
   "execution_count": 29,
   "metadata": {
    "collapsed": false
   },
   "outputs": [],
   "source": [
    "dec = 18\n",
    "mpl.rc('font', size=8)\n",
    "with mpl.rc_context({'figure.figsize': (3.0, 3.0),\n",
    "  'text.usetex': True}):\n",
    "    fig = plt.figure(figsize=(3, 3))\n",
    "    gs = gridspec.GridSpec(10, 1)\n",
    "    gs.update(hspace=0.02) # set the spacing between axes. \n",
    "    ax1 = fig.add_subplot(gs[0:2])\n",
    "    ax2 = fig.add_subplot(gs[2:4], sharex=ax1)\n",
    "    ax3 = fig.add_subplot(gs[4:6], sharex=ax1)\n",
    "    ax4 = fig.add_subplot(gs[6:8], sharex=ax1)\n",
    "    ax5 = fig.add_subplot(gs[8:])\n",
    "\n",
    "    ax1.plot(li.t[::dec]*1000, fLock(li.t[::dec])-f2, linewidth=1)\n",
    "    ax1.set_ylim(-200, 50)\n",
    "    ax1.set_yticks([-150, 0])\n",
    "    ax1.set_ylabel(r'$f_{\\mathrm{ref}} \\: \\: [\\mathrm{Hz}]$')\n",
    "    \n",
    "    ax2.plot(t_ms, lock.z_out.real, 'b-', linewidth=1)\n",
    "    ax2.plot(t_ms, lock.z_out.imag, 'b--', linewidth=1)\n",
    "    ax2.set_ylabel(r'$z \\: \\: [\\mathrm{nm}]$')\n",
    "    ax2.set_yticks([0, 40])\n",
    "    ax2.set_ylim(-25, 61)\n",
    "    \n",
    "    phi = np.angle(lock.z_out)/(2*np.pi)\n",
    "    df = np.gradient(phi) * lock.fs / lock.dec\n",
    "    ax3.plot(t_ms, abs(lock.z_out))\n",
    "    ax3.set_yticks(np.arange(45, 50.05, 5))\n",
    "    ax3.set_ylabel(\"$A \\\\: \\\\: [\\\\mathrm{nm}]$\")\n",
    "    \n",
    "    ax5.plot(t_ms, phi)\n",
    "    ax5.set_ylim(0.15, 0.33)\n",
    "    ax5.set_yticks(np.arange(0.2, 0.35, 0.1))\n",
    "    ax5.set_ylabel(r'$\\delta \\phi \\: \\: [\\mathrm{cyc.}]$')\n",
    "    \n",
    "    line, = ax4.plot(t_ms, df)\n",
    "    mmm = phasekick.masklh(t_ms, 0, 10.3)\n",
    "    ax4.fill_between(t_ms[mmm], df[mmm], color='g', alpha=0.4, linewidth=0)\n",
    "    ax4.set_ylim(-22, 7)\n",
    "    ax4.set_yticks(np.arange(-15, 5, 15))\n",
    "    ax4.set_ylabel(r'$\\delta f \\: \\: [\\mathrm{Hz}]$')\n",
    "    \n",
    "    \n",
    "    \n",
    "    for ax in [ax1, ax5]:\n",
    "        ax.set_xticks([-50, -10, 0, round(tp, 1)])\n",
    "        ax.set_xlim(-16, 20)\n",
    "    \n",
    "    ax1.set_xticklabels(['', '', ''])\n",
    "    ax5.set_xlabel(r'$t \\: \\: [\\mathrm{ms}]$')\n",
    "    fig"
   ]
  },
  {
   "cell_type": "code",
   "execution_count": 30,
   "metadata": {
    "collapsed": true
   },
   "outputs": [],
   "source": [
    "align_labels([ax1, ax2, ax3, ax4, ax5], 32)"
   ]
  },
  {
   "cell_type": "code",
   "execution_count": 31,
   "metadata": {
    "collapsed": false
   },
   "outputs": [
    {
     "data": {
      "image/png": "[encoded data removed]",
      "text/plain": [
       "<matplotlib.figure.Figure at 0x118dfb390>"
      ]
     },
     "execution_count": 31,
     "metadata": {},
     "output_type": "execute_result"
    }
   ],
   "source": [
    "fig"
   ]
  },
  {
   "cell_type": "code",
   "execution_count": 32,
   "metadata": {
    "collapsed": false
   },
   "outputs": [],
   "source": [
    "fig.savefig('ex2.pdf', transparent=True, bbox_inches='tight', pad_inches=0.5)"
   ]
  },
  {
   "cell_type": "code",
   "execution_count": 33,
   "metadata": {
    "collapsed": false
   },
   "outputs": [],
   "source": [
    "!cp ex2.pdf /Users/ryandwyer/Dropbox/_JAM_MS__Dwyer201511__Phasekick__figs/raw-figures/02-detailed-workup.pdf"
   ]
  },
  {
   "cell_type": "code",
   "execution_count": null,
   "metadata": {
    "collapsed": false
   },
   "outputs": [],
   "source": [
    "plt.plot(fLock(li.t[::dec])-62000)"
   ]
  },
  {
   "cell_type": "code",
   "execution_count": null,
   "metadata": {
    "collapsed": false
   },
   "outputs": [],
   "source": [
    "tp"
   ]
  },
  {
   "cell_type": "code",
   "execution_count": 40,
   "metadata": {
    "collapsed": false
   },
   "outputs": [
    {
     "data": {
      "text/plain": [
       "[<matplotlib.lines.Line2D at 0x119961a10>]"
      ]
     },
     "execution_count": 40,
     "metadata": {},
     "output_type": "execute_result"
    },
    {
     "data": {
      "image/png": "[encoded data removed]",
      "text/plain": [
       "<matplotlib.figure.Figure at 0x11b9fd5d0>"
      ]
     },
     "metadata": {},
     "output_type": "display_data"
    }
   ],
   "source": [
    "fig, ax = plt.subplots()\n",
    "ax.plot(li('df'))"
   ]
  },
  {
   "cell_type": "code",
   "execution_count": null,
   "metadata": {
    "collapsed": true
   },
   "outputs": [],
   "source": []
  }
 ],
 "metadata": {
  "kernelspec": {
   "display_name": "Python 2",
   "language": "python",
   "name": "python2"
  },
  "language_info": {
   "codemirror_mode": {
    "name": "ipython",
    "version": 2
   },
   "file_extension": ".py",
   "mimetype": "text/x-python",
   "name": "python",
   "nbconvert_exporter": "python",
   "pygments_lexer": "ipython2",
   "version": "2.7.11"
  }
 },
 "nbformat": 4,
 "nbformat_minor": 0
}
