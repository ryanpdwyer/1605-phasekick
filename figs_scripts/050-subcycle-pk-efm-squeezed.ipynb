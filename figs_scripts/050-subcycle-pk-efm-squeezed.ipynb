{
 "cells": [
  {
   "cell_type": "code",
   "execution_count": 1,
   "metadata": {
    "collapsed": false
   },
   "outputs": [],
   "source": [
    "%matplotlib inline\n",
    "from __future__ import division\n",
    "import h5py\n",
    "import numpy as np\n",
    "import lockin\n",
    "import sigutils\n",
    "from scipy import signal\n",
    "from scipy import optimize\n",
    "from scipy.optimize import curve_fit\n",
    "import matplotlib as mpl\n",
    "mpl.style.use('classic')\n",
    "import matplotlib.pyplot as plt\n",
    "from matplotlib import gridspec\n",
    "import phasekick\n",
    "import glob\n",
    "from tqdm import tqdm\n",
    "import pandas as pd\n",
    "idx = pd.IndexSlice\n",
    "\n",
    "\n",
    "def gr2locks(top_gr):\n",
    "    locks = []\n",
    "    for gr in tqdm(top_gr.values()):\n",
    "        half_periods = gr[\"half periods [s]\"][:]\n",
    "        N2even = gr.attrs['Calc BNC565 CantClk.N2 (even)']\n",
    "        t1 = gr.attrs['Abrupt BNC565 CantClk.t1 [s]']\n",
    "        t2 = np.sum(gr[\"half periods [s]\"][:N2even+1])\n",
    "        t0 = -(t1 + t2)\n",
    "        x = gr['cantilever-nm'][:]\n",
    "        dt = gr['dt [s]'].value\n",
    "        t = np.arange(x.size)*dt + t0\n",
    "        lock = lockin.LockIn(t, x, 1/dt)\n",
    "        lock.lock2(fp=5000, fc=15000, print_response=False)\n",
    "        lock.phase(ti=3e-3, tf=7e-3)\n",
    "        locks.append(lock)\n",
    "    \n",
    "    return locks\n",
    "\n",
    "\n",
    "def left_right_fit(x, y, xLi, xLf, xRi, xRf, x0):\n",
    "    mL = phasekick.masklh(x, xLi, xLf)\n",
    "    mR = phasekick.masklh(x, xRi, xRf)\n",
    "    mbL = np.polyfit(x[mL], y[mL], 1)\n",
    "    mbR = np.polyfit(x[mR], y[mR], 1)\n",
    "    diff = np.polyval(mbR, x0) - np.polyval(mbL, x0)\n",
    "    return mbL, mbR, diff\n",
    "\n",
    "def measure_dA_dphi(li, tp, tLi, tLf, tRi, tRf):\n",
    "    _, __, dA = left_right_fit(li.t, li.A, tLi, tLf, tp+tRi, tp+tRf, tp/2)\n",
    "    _, __, dphi = left_right_fit(li.t, np.unwrap(li.phi), tLi, tLf, tp+tRi, tp+tRf, tp/2)\n",
    "    return dA, dphi\n",
    "\n",
    "def delay_dA_dphi(top_gr, tp, tLi, tLf, tRi, tRf):\n",
    "    dAs=[]\n",
    "    dPhis=[]\n",
    "    delays =[]\n",
    "    for ds_name, gr in tqdm(top_gr.items()):\n",
    "        half_periods = gr[\"half periods [s]\"][:]\n",
    "        N2even = gr.attrs['Calc BNC565 CantClk.N2 (even)']\n",
    "        t1 = gr.attrs['Abrupt BNC565 CantClk.t1 [s]']\n",
    "        t2 = np.sum(gr[\"half periods [s]\"][:N2even+1])\n",
    "        t0 = -(t1 + t2)\n",
    "        x = gr['cantilever-nm'][:]\n",
    "        dt = gr['dt [s]'].value\n",
    "        t = np.arange(x.size)*dt + t0\n",
    "        li = lockin.LockIn(t, x, 1/dt)\n",
    "        li.lock2(fp=5000, fc=15000, print_response=False)\n",
    "        li.phase(ti=3e-3, tf=7e-3)\n",
    "        dA, dphi = measure_dA_dphi(li, tp, tLi, tLf, tRi, tRf)\n",
    "        dAs.append(dA)\n",
    "        dPhis.append(dphi)\n",
    "        delays.append(gr.attrs['Abrupt BNC565 CantClk.D tip [s]'])\n",
    "    \n",
    "    return delays, dAs, dPhis"
   ]
  },
  {
   "cell_type": "code",
   "execution_count": 2,
   "metadata": {
    "collapsed": true
   },
   "outputs": [],
   "source": [
    "size = 9\n",
    "rcParams = {'figure.figsize': (2.0, 2.5), 'font.size': size,\n",
    "#             'lines.markersize': ,\n",
    "            'lines.linewidth': 1,\n",
    "            'xtick.labelsize': size, 'ytick.labelsize': size,}"
   ]
  },
  {
   "cell_type": "code",
   "execution_count": 3,
   "metadata": {
    "collapsed": false
   },
   "outputs": [
    {
     "name": "stderr",
     "output_type": "stream",
     "text": [
      "                                               \r"
     ]
    }
   ],
   "source": [
    "fh = h5py.File('../data/subcycle-pk-efm/151209-192456-400ns-pulse-10V.h5', 'r')\n",
    "delays, dA, dPhis = delay_dA_dphi(fh['data'], 1.6e-3, -1e-3, -1e-4, 1e-4, 1e-3)\n",
    "\n",
    "tps = [800, 400, 200, 100, 50]\n",
    "# Set up DataFrame now that delay times are known\n",
    "delay_int = np.int64(np.round(np.array(delays)*1e9))\n",
    "df = pd.DataFrame(index=pd.MultiIndex.from_product(\n",
    "        ([800, 400, 200, 100, 50], delay_int), names=['pulsewidth', 'delay']))\n",
    "df.sort_index(inplace=True)\n",
    "\n",
    "df.loc[idx[400, :], 'dA'] = dA\n",
    "df.loc[idx[400, :], 'dPhi'] = dPhis\n",
    "\n",
    "fh100 = h5py.File('../data/subcycle-pk-efm/151209-192746-100ns-pulse-10V.h5', 'r')\n",
    "delays, dAs, dPhis = delay_dA_dphi(fh100['data'], 1.6e-3, -1e-3, -1e-4, 1e-4, 1e-3)\n",
    "df.loc[idx[100, :], 'dA'] = dAs\n",
    "df.loc[idx[100, :], 'dPhi'] = dPhis\n",
    "\n",
    "fh50 = h5py.File('../data/subcycle-pk-efm/151209-193134-050ns-pulse-10V.h5', 'r')\n",
    "delays, dAs, dPhis = delay_dA_dphi(fh50['data'], 1.6e-3, -1e-3, -1e-4, 1e-4, 1e-3)\n",
    "df.loc[idx[50, :], 'dA'] = dAs\n",
    "df.loc[idx[50, :], 'dPhi'] = dPhis\n",
    "\n",
    "fh800 = h5py.File('../data/subcycle-pk-efm/151209-192327-800ns-pulse-10V.h5', 'r')\n",
    "delays, dAs, dPhis = delay_dA_dphi(fh800['data'], 1.6e-3, -1e-3, -1e-4, 1e-4, 1e-3)\n",
    "df.loc[idx[800, :], 'dA'] = dAs\n",
    "df.loc[idx[800, :], 'dPhi'] = dPhis\n",
    "\n",
    "fh200 = h5py.File('../data/subcycle-pk-efm/151209-192620-200ns-pulse-10V.h5', 'r')\n",
    "delays, dAs, dPhis = delay_dA_dphi(fh200['data'], 1.6e-3, -1e-3, -1e-4, 1e-4, 1e-3)\n",
    "df.loc[idx[200, :], 'dA'] = dAs\n",
    "df.loc[idx[200, :], 'dPhi'] = dPhis\n"
   ]
  },
  {
   "cell_type": "code",
   "execution_count": 4,
   "metadata": {
    "collapsed": false
   },
   "outputs": [
    {
     "name": "stdout",
     "output_type": "stream",
     "text": [
      "Response:\n",
      "f   mag       dB\n",
      "    0.000 1.000   -0.000\n",
      " 2500.000 0.978   -0.189\n",
      " 5000.000 0.897   -0.942\n",
      "15000.000 0.113  -18.951\n",
      "30000.000 0.000  -97.678\n",
      "31000.000 0.000 -101.316\n",
      "62000.000 0.000 -126.825\n",
      "500000.000 0.000 -191.988\n"
     ]
    },
    {
     "name": "stderr",
     "output_type": "stream",
     "text": [
      "                                               \r"
     ]
    }
   ],
   "source": [
    "locks = []\n",
    "fir = lockin.lock2(62000, 5000, 15000, 1e6)\n",
    "for gr in tqdm(fh800['data'].values()):\n",
    "    half_periods = gr[\"half periods [s]\"][:]\n",
    "    N2even = gr.attrs['Calc BNC565 CantClk.N2 (even)']\n",
    "    t1 = gr.attrs['Abrupt BNC565 CantClk.t1 [s]']\n",
    "    t2 = np.sum(gr[\"half periods [s]\"][:N2even+1])\n",
    "    t0 = -(t1 + t2)\n",
    "    x = gr['cantilever-nm'][:]\n",
    "    dt = gr['dt [s]'].value\n",
    "    t = np.arange(x.size)*dt + t0\n",
    "    lock = lockin.LockIn(t, x, 1/dt)\n",
    "    lock.lock2(fp=5000, fc=15000, print_response=False)\n",
    "    lock.phase(ti=3e-3, tf=7e-3)\n",
    "    locks.append(lock)\n",
    "    m0 = phasekick.masklh(t, -5e-6, 5e-6) "
   ]
  },
  {
   "cell_type": "code",
   "execution_count": 5,
   "metadata": {
    "collapsed": false
   },
   "outputs": [
    {
     "data": {
      "image/png": "[encoded data removed]",
      "text/plain": [
       "<matplotlib.figure.Figure at 0x106992710>"
      ]
     },
     "metadata": {},
     "output_type": "display_data"
    }
   ],
   "source": [
    "with mpl.rc_context(rcParams):\n",
    "    fig, ax2 = plt.subplots(figsize=(1.4, 0.9))\n",
    "    lock = locks[48]\n",
    "    m2 = phasekick.masklh(lock.t, -1e-6, 8e-6)\n",
    "    m = phasekick.masklh(lock.t, -3e-3, 4.6e-3)\n",
    "\n",
    "    t_many = np.linspace(lock.t[m2][0], lock.t[m2][-1], 3001) * 1e6  \n",
    "    ti = 16/4.0\n",
    "\n",
    "    ax2.plot(lock.t[m]*1e3, lock.A[m])\n",
    "    ax2.set_xlim(-3, 4.6)\n",
    "    ax2.set_xticks(np.arange(-2, 5.25, 2))\n",
    "    ax2.set_yticks(np.arange(35, 51, 15))\n",
    "\n",
    "    # ax2.set_yticks(np.arange(35, 46, 5))\n",
    "    ax2.set_ylabel(\"$A$ [nm]\")\n",
    "    ax2.set_xlabel(\"Time $t$ [ms]\")\n",
    "#     fig.savefig(\"/Users/ryandwyer/Dropbox/_JAM_GT__Marohn201610__NSF_DMR__renewal__figs/_rawfigs/Avst.pdf\",\n",
    "#                 bbox_inches='tight', transparent=True)"
   ]
  },
  {
   "cell_type": "code",
   "execution_count": 6,
   "metadata": {
    "collapsed": false
   },
   "outputs": [
    {
     "name": "stderr",
     "output_type": "stream",
     "text": [
      "                                               \r"
     ]
    }
   ],
   "source": [
    "locks = gr2locks(fh800['data'])"
   ]
  },
  {
   "cell_type": "code",
   "execution_count": 7,
   "metadata": {
    "collapsed": false
   },
   "outputs": [],
   "source": [
    "m800 = np.array([ True,  True,  True,  True,  True,  True,  True,  True,  True,\n",
    "        True,  True,  True,  True,  True,  True,  True,  True,  True,\n",
    "        True,  True,  True,  True,  True,  True,  True,  True,  True,\n",
    "        True,  True,  True,  True,  True,  True, False,  True,  True,\n",
    "        True,  True,  True,  True,  True,  True,  True,  True,  True,\n",
    "        True,  True,  True,  True,  True,  True,  True,  True,  True,\n",
    "        True,  True,  True,  True,  True,  True,  True,  True, False, False], dtype=bool)\n",
    "\n",
    "m400 = np.array([ True,  True,  True,  True,  True,  True,  True,  True,  True,\n",
    "        True,  True,  True,  True,  True,  True,  True,  True,  True,\n",
    "        True,  True,  True,  True,  True,  True,  True,  True,  True,\n",
    "        True,  True,  True,  True,  True,  True,  True,  True,  True,\n",
    "        True,  True,  True,  True,  True,  True,  True,  True,  True,\n",
    "        True,  True,  True,  True,  True,  True,  True,  True,  True,\n",
    "        True,  True,  True,  True,  True,  True,  True,  True,  True, False], dtype=bool)"
   ]
  },
  {
   "cell_type": "code",
   "execution_count": 8,
   "metadata": {
    "collapsed": true
   },
   "outputs": [],
   "source": [
    "delay_us = delay_int / 1000.0"
   ]
  },
  {
   "cell_type": "code",
   "execution_count": 9,
   "metadata": {
    "collapsed": true
   },
   "outputs": [],
   "source": [
    "dAfunc = lambda f, tau, A0: phasekick.phase_step(1.0/f, tau, A0) * f"
   ]
  },
  {
   "cell_type": "code",
   "execution_count": 10,
   "metadata": {
    "collapsed": true
   },
   "outputs": [],
   "source": [
    "fit_func = lambda t, A1, A2, dphi, offset: A1*np.cos(2*np.pi*0.062e-3*t + dphi)*(1+A2*np.sin(2*np.pi*0.062e-3*t+dphi)) + offset"
   ]
  },
  {
   "cell_type": "code",
   "execution_count": 11,
   "metadata": {
    "collapsed": false
   },
   "outputs": [],
   "source": [
    "tt = np.arange(2000)*1e-8"
   ]
  },
  {
   "cell_type": "code",
   "execution_count": 12,
   "metadata": {
    "collapsed": false
   },
   "outputs": [],
   "source": [
    "df.sort_index(inplace=True)"
   ]
  },
  {
   "cell_type": "code",
   "execution_count": 13,
   "metadata": {
    "collapsed": false
   },
   "outputs": [],
   "source": [
    "# # plt.plot(delay_int, df.loc[idx[800, :], 'dPhi'])\n",
    "# plt.plot(delay_int, df.loc[idx[400, :]*2, 'dPhi'])\n",
    "# plt.plot(delay_int, df.loc[idx[200, :]*4, 'dPhi'])\n",
    "# plt.plot(delay_int, df.loc[idx[100, :]*8, 'dPhi'])\n",
    "# plt.plot(delay_int, df.loc[idx[50, :]*16, 'dPhi'])"
   ]
  },
  {
   "cell_type": "code",
   "execution_count": 14,
   "metadata": {
    "collapsed": false
   },
   "outputs": [],
   "source": [
    "pulsewidths = np.array([800, 400, 200, 100, 50.])"
   ]
  },
  {
   "cell_type": "code",
   "execution_count": 15,
   "metadata": {
    "collapsed": false
   },
   "outputs": [],
   "source": [
    "df_i = df.xs(50, level='pulsewidth', drop_level=True)"
   ]
  },
  {
   "cell_type": "code",
   "execution_count": 16,
   "metadata": {
    "collapsed": false
   },
   "outputs": [],
   "source": [
    "dA_fit = []\n",
    "dA_fit_std_err = []\n",
    "dAopts = []\n",
    "dAfunc_off = lambda t, A, phi, offset: offset + A*np.cos(2*np.pi*t*0.062 + 2*np.pi*phi)\n",
    "for i, pulsewidth in enumerate(pulsewidths):\n",
    "    df_i = df.xs(pulsewidth, level='pulsewidth', drop_level=True)\n",
    "    if i == 0:\n",
    "        x = df_i.index[m800]/1000.\n",
    "        y = df_i.dA.values[m800]\n",
    "    elif i == 1:\n",
    "        x = df_i.index[m400]/1000.\n",
    "        y = df_i.dA.values[m400]\n",
    "    else:\n",
    "        x = df_i.index/1000.\n",
    "        y = df_i.dA.values\n",
    "\n",
    "    popt, pcov = curve_fit(dAfunc_off,\n",
    "    x, y, p0=[pulsewidth/40, -0.1, 0])\n",
    "    dAopts.append(popt)\n",
    "    dA_std_err = np.sqrt(pcov.diagonal())[0]\n",
    "    dA_fit.append(popt[0])\n",
    "    dA_fit_std_err.append(dA_std_err)\n",
    "\n",
    "dA_fit = np.array(dA_fit)\n",
    "dA_fit_stbd_err = np.array(dA_fit_std_err)"
   ]
  },
  {
   "cell_type": "code",
   "execution_count": 17,
   "metadata": {
    "collapsed": true
   },
   "outputs": [],
   "source": [
    "f = 1000.0/np.array(tps) # units µs^{-1}"
   ]
  },
  {
   "cell_type": "code",
   "execution_count": 23,
   "metadata": {
    "collapsed": false
   },
   "outputs": [
    {
     "data": {
      "text/plain": [
       "{'figure.figsize': (2.0, 2.5),\n",
       " 'font.size': 9,\n",
       " 'lines.linewidth': 1,\n",
       " 'xtick.labelsize': 9,\n",
       " 'ytick.labelsize': 9}"
      ]
     },
     "execution_count": 23,
     "metadata": {},
     "output_type": "execute_result"
    }
   ],
   "source": [
    "rcParams"
   ]
  },
  {
   "cell_type": "code",
   "execution_count": 27,
   "metadata": {
    "collapsed": false
   },
   "outputs": [
    {
     "data": {
      "text/plain": [
       "array([ 50.26511554,  52.12912061,  45.70318193,  36.15076741,  28.64546828])"
      ]
     },
     "execution_count": 27,
     "metadata": {},
     "output_type": "execute_result"
    }
   ],
   "source": [
    " dA_fit/pulsewidths*1e3"
   ]
  },
  {
   "cell_type": "code",
   "execution_count": 36,
   "metadata": {
    "collapsed": false
   },
   "outputs": [
    {
     "data": {
      "text/plain": [
       "3.7894034069498885"
      ]
     },
     "execution_count": 36,
     "metadata": {},
     "output_type": "execute_result"
    }
   ],
   "source": [
    "1/0.042 /(2*np.pi)"
   ]
  },
  {
   "cell_type": "code",
   "execution_count": 65,
   "metadata": {
    "collapsed": false
   },
   "outputs": [
    {
     "data": {
      "image/png": "[encoded data removed]",
      "text/plain": [
       "<matplotlib.figure.Figure at 0x118959d90>"
      ]
     },
     "metadata": {},
     "output_type": "display_data"
    }
   ],
   "source": [
    "dA_norm = dA_fit * f\n",
    "dA_norm_err = dA_fit_std_err * f\n",
    "popt, pcov = optimize.curve_fit(dAfunc, f, dA_norm, sigma=dA_norm_err, p0=np.array([0.029, 53]))\n",
    "f_smooth = np.linspace(1, 25, 101)\n",
    "mpl.rc('font', size=9)\n",
    "mpl.rc('lines', linewidth=1)\n",
    "f = 1000*pulsewidths**-1\n",
    "fig = plt.figure(figsize=(1.6, 1.9))\n",
    "scale = 1.0/42/(2*np.pi)\n",
    "plt.errorbar(f, dA_fit/pulsewidths*1e3 * scale, yerr=dA_fit_std_err/pulsewidths*3 * 1e3 * scale, linewidth=0, elinewidth=1, mew=1)\n",
    "plt.scatter(f, dA_fit/pulsewidths*1e3 *scale, 14, facecolors='none', edgecolors='b', linewidths=1, )\n",
    "plt.xlabel(u\"$t_\\\\mathrm{p}^{-1}$ [µs${}^{-1}$]\")\n",
    "plt.ylabel(u\"$\\Delta \\\\phi /t_\\\\mathrm{p}$ [cyc./µs]\")\n",
    "plt.ylim(0, 0.21)\n",
    "plt.yticks(np.arange(0, 0.21, 0.1))\n",
    "plt.xlim(1, 30)\n",
    "plt.xscale('log')\n",
    "plt.xticks([1, 10, 20])\n",
    "#     plt.plot(f_smooth, 55/(1 + (f_smooth/20)), '0.5', zorder=0.5)\n",
    "plt.plot(f_smooth, dAfunc(f_smooth, *popt)*scale, '0.4', zorder=0)\n",
    "plt.tight_layout()\n",
    "plt.savefig('/Users/ryandwyer/Research/conferences/17-op/dPhi-fig.pdf',\n",
    "            bbox_inches='tight', transparent=True)\n",
    "\n",
    "#     plt.savefig('/Users/ryandwyer/Dropbox/_JAM_GT__Marohn201610__NSF_DMR__renewal__figs/_rawfigs/dA-vs-tp-filter-rolloff-fit.pdf',\n",
    "#                 bbox_inches='tight', transparent=True)"
   ]
  },
  {
   "cell_type": "code",
   "execution_count": 60,
   "metadata": {
    "collapsed": false
   },
   "outputs": [
    {
     "data": {
      "image/png": "[encoded data removed]",
      "text/plain": [
       "<matplotlib.figure.Figure at 0x106801cd0>"
      ]
     },
     "metadata": {},
     "output_type": "display_data"
    }
   ],
   "source": [
    "dA_norm = dA_fit * f\n",
    "dA_norm_err = dA_fit_std_err * f\n",
    "popt, pcov = optimize.curve_fit(dAfunc, f, dA_norm, sigma=dA_norm_err, p0=np.array([0.029, 53]))\n",
    "f_smooth = np.linspace(1, 25, 101)\n",
    "mpl.rc('font', size=9)\n",
    "f = 1000*pulsewidths**-1\n",
    "fig = plt.figure(figsize=(1.7, 1.8))\n",
    "scale = 1/0.042/(2*np.pi)\n",
    "plt.errorbar(1/f, dA_fit/pulsewidths*1e3 * scale, yerr=dA_fit_std_err/pulsewidths*2 * 1e3 * scale, linewidth=0, elinewidth=0.5)\n",
    "plt.scatter(f, dA_fit/pulsewidths*1e3 *scale, 10, facecolors='none', edgecolors='b', linewidths=0.75)\n",
    "plt.xlabel(u\"$t_\\\\mathrm{p}^{-1}$ [µs${}^{-1}$]\")\n",
    "plt.ylabel(u\"$\\Delta \\\\phi /t_\\\\mathrm{p}$ [mcyc./µs]\")\n",
    "plt.ylim(0, 210)\n",
    "plt.yticks(np.arange(0, 210, 100))\n",
    "plt.xlim(1, 30)\n",
    "plt.xscale('log')\n",
    "plt.xticks([1, 10, 20])\n",
    "#     plt.plot(f_smooth, 55/(1 + (f_smooth/20)), '0.5', zorder=0.5)\n",
    "plt.plot(f_smooth, dAfunc(f_smooth, *popt)*scale, '0.4', zorder=0)\n",
    "plt.tight_layout()\n",
    "# plt.savefig('/Users/ryandwyer/Research/conferences/17-op/dPhi-fig.pdf',\n",
    "#             bbox_inches='tight', transparent=True)"
   ]
  },
  {
   "cell_type": "code",
   "execution_count": 19,
   "metadata": {
    "collapsed": false
   },
   "outputs": [
    {
     "data": {
      "image/png": "[encoded data removed]",
      "text/plain": [
       "<matplotlib.figure.Figure at 0x113912550>"
      ]
     },
     "metadata": {},
     "output_type": "display_data"
    }
   ],
   "source": [
    "# fmt= dict(s=8, c='none', edgecolors='k')\n",
    "fmt= dict(marker='.', c='k', edgecolors='none', zorder=1)\n",
    "fmt_bestfit = dict(color='g', zorder=0, linewidth=2)\n",
    "\n",
    "with mpl.rc_context(rcParams):\n",
    "    fig, axes = plt.subplots(figsize=(1.6, 2.25), nrows=3, sharex=True)\n",
    "    axes[0].plot(delay_us, dAfunc_off(delay_us, *dAopts[0]), **fmt_bestfit)\n",
    "    axes[0].scatter(delay_us, df.loc[idx[800, :], 'dA'], **fmt)\n",
    "    axes[0].set_yticks(np.arange(-40, 45, 40))\n",
    "    axes[0].text(4.6, 24.5, \"$t_\\\\mathrm{p}$ = 800 ns\")\n",
    "    \n",
    "    axes[1].plot(delay_us, dAfunc_off(delay_us, *dAopts[2]), **fmt_bestfit)\n",
    "    axes[1].scatter(delay_us, df.loc[idx[200, :], 'dA'], **fmt)\n",
    "    axes[1].set_yticks(np.arange(-10, 15, 10))\n",
    "    axes[1].text(4.6, 6.1, \"$t_\\\\mathrm{p}$ = 200 ns\")\n",
    "    \n",
    "    axes[2].plot(delay_us, dAfunc_off(delay_us, *dAopts[4]), **fmt_bestfit)\n",
    "    axes[2].scatter(delay_us, df.loc[idx[50, :], 'dA'], **fmt)\n",
    "    axes[2].text(4.6, 1.2, \"$t_\\\\mathrm{p}$ = 50 ns\")\n",
    "    axes[2].set_yticks(np.arange(-2, 2.5, 2))\n",
    "    axes[0].set_xlim(-0.5, 16)\n",
    "    axes[2].set_xticks([0, 8, 16])\n",
    "    axes[2].set_xlabel(u\"Delay time $t_\\\\mathrm{d}$ [µs]\")\n",
    "    axes[1].set_ylabel(u\"Amplitude shift $\\\\Delta A$ [nm]\")\n",
    "    \n",
    "#     fig.savefig('/Users/ryandwyer/Dropbox/_JAM_GT__Marohn201610__NSF_DMR__renewal__figs/_rawfigs/dA-v-td.pdf',\n",
    "#                 bbox_inches='tight', transparent=True)"
   ]
  }
 ],
 "metadata": {
  "anaconda-cloud": {},
  "kernelspec": {
   "display_name": "Python [default]",
   "language": "python",
   "name": "python2"
  },
  "language_info": {
   "codemirror_mode": {
    "name": "ipython",
    "version": 2
   },
   "file_extension": ".py",
   "mimetype": "text/x-python",
   "name": "python",
   "nbconvert_exporter": "python",
   "pygments_lexer": "ipython2",
   "version": "2.7.12"
  }
 },
 "nbformat": 4,
 "nbformat_minor": 0
}
