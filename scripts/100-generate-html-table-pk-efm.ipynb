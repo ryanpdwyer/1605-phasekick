{
 "cells": [
  {
   "cell_type": "code",
   "execution_count": 60,
   "metadata": {
    "collapsed": true
   },
   "outputs": [],
   "source": [
    "from __future__ import division\n",
    "import glob\n",
    "import time\n",
    "import h5py\n",
    "import numpy as np\n",
    "from scipy import stats\n",
    "import phasekick\n",
    "import pandas as pd\n",
    "\n",
    "files = glob.glob(\"../data/pk-efm/*.h5\")\n",
    "\n",
    "def shorten_fname(x):\n",
    "    i = 0\n",
    "    hyphens = []\n",
    "    while i >= 0:\n",
    "        i = x.find('-', i)\n",
    "        if i != -1:\n",
    "            hyphens.append(i)\n",
    "            i += 1\n",
    "    \n",
    "    return x[hyphens[1]+1:hyphens[3]]"
   ]
  },
  {
   "cell_type": "code",
   "execution_count": 61,
   "metadata": {
    "collapsed": true
   },
   "outputs": [],
   "source": [
    "d = {}\n",
    "for fname in files:\n",
    "    with h5py.File(fname, 'r') as fh:\n",
    "        d[shorten_fname(fname)] = {key.replace(' BNC565 CantClk', ''): val for key, val in fh['data/0000'].attrs.items()}"
   ]
  },
  {
   "cell_type": "code",
   "execution_count": 62,
   "metadata": {
    "collapsed": false
   },
   "outputs": [],
   "source": [
    "df = pd.DataFrame.from_dict(d, orient='index', )"
   ]
  },
  {
   "cell_type": "code",
   "execution_count": 63,
   "metadata": {
    "collapsed": false
   },
   "outputs": [],
   "source": [
    "df = df.sort_index(axis=1)\n",
    "dfT = df.transpose()"
   ]
  },
  {
   "cell_type": "code",
   "execution_count": 64,
   "metadata": {
    "collapsed": false
   },
   "outputs": [],
   "source": [
    "with open('../results/pk-efm-summary-table.html', 'w') as f:\n",
    "    dfT.to_html(f)"
   ]
  }
 ],
 "metadata": {
  "kernelspec": {
   "display_name": "Python 2",
   "language": "python",
   "name": "python2"
  },
  "language_info": {
   "codemirror_mode": {
    "name": "ipython",
    "version": 2
   },
   "file_extension": ".py",
   "mimetype": "text/x-python",
   "name": "python",
   "nbconvert_exporter": "python",
   "pygments_lexer": "ipython2",
   "version": "2.7.11"
  }
 },
 "nbformat": 4,
 "nbformat_minor": 0
}
