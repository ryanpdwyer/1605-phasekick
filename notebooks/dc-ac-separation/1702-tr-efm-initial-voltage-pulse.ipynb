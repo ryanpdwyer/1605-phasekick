{
 "cells": [
  {
   "cell_type": "code",
   "execution_count": 22,
   "metadata": {
    "collapsed": false
   },
   "outputs": [],
   "source": [
    "%matplotlib inline\n",
    "from __future__ import division\n",
    "import h5py\n",
    "import numpy as np\n",
    "import lockin\n",
    "import sigutils\n",
    "from scipy import signal, optimize, linalg, fftpack\n",
    "from scipy.optimize import curve_fit\n",
    "import matplotlib as mpl\n",
    "mpl.style.use('classic')\n",
    "import matplotlib.pyplot as plt\n",
    "from matplotlib import gridspec\n",
    "import phasekick\n",
    "import glob\n",
    "from tqdm import tqdm\n",
    "import pandas as pd\n",
    "import collections\n",
    "idx = pd.IndexSlice\n",
    "import timedomainfit as td\n",
    "import pystan\n",
    "\n",
    "from scipy import signal\n",
    "\n",
    "fir = signal.firwin(101, 10e3, nyq=500e3, window='blackman')\n",
    "\n",
    "A_LP = np.exp(-0.2*np.pi*np.arange(0, 10))\n",
    "A_LP = A_LP / np.sum(A_LP)\n",
    "fir_LP = signal.convolve(A_LP, fir)\n",
    "\n",
    "def conv_match_stan(d, out):\n",
    "    N = d['N']\n",
    "    y_conv = np.zeros(N)\n",
    "    popt = get_opt({key: val.mean() for key, val in out.extract().items()})\n",
    "    y_eval = exp_rise(d['t_eval'], *popt)\n",
    "    for i in xrange(0, N):\n",
    "        y_conv[i] = np.dot(d['kern'], y_eval[i:(d['K']+i)])\n",
    "    return y_conv\n",
    "\n",
    "def conv_exp(t_eval, A0, dA, k, t0, kern=fir_LP):\n",
    "    y_eval = exp_rise(t_eval,  A0, dA, k, t0)\n",
    "    N = y_eval.size - kern.size + 1\n",
    "    y_conv = np.zeros(N)\n",
    "    for i in xrange(0, N):\n",
    "        y_conv[i] = np.dot(kern, y_eval[i:(kern.size+i)])\n",
    "    return y_conv\n",
    "\n",
    "def conv_stan(x, kern):\n",
    "    K = kern.size\n",
    "    N = x.size - K + 1\n",
    "    y_conv = np.zeros(N)\n",
    "    for i in xrange(0, N):\n",
    "        y_conv[i] = np.dot(kern, x[i:(K+i)])\n",
    "    return y_conv\n",
    "\n",
    "\n",
    "def align_labels(axes_list,lim, axis='y'):\n",
    "    for ax in axes_list:\n",
    "        t = ax.yaxis.label.get_transform()\n",
    "        x,y = ax.yaxis.label.get_position()\n",
    "        ax.yaxis.set_label_coords(lim,y,t)\n",
    "        \n",
    "\n",
    "def exp_rise(t_, A0, dA, k, t0):\n",
    "    t = t_ - t0\n",
    "    return np.where(t > 0, -dA * np.expm1(-k*t), 0) + A0\n",
    "\n",
    "def conv_exp_rise_LP(t_, A0, dA, k, t0):\n",
    "    x = exp_rise(t_, A0, dA, k, t0)\n",
    "    return signal.fftconvolve(x, fir_LP, 'valid')"
   ]
  },
  {
   "cell_type": "code",
   "execution_count": 15,
   "metadata": {
    "collapsed": true
   },
   "outputs": [],
   "source": [
    "# size = 9\n",
    "# rcParams = {'figure.figsize': (2.0, 2.5), 'font.size': size,\n",
    "# #             'lines.markersize': ,\n",
    "#             'lines.linewidth': 1,\n",
    "#             'xtick.labelsize': size, 'ytick.labelsize': size,}"
   ]
  },
  {
   "cell_type": "code",
   "execution_count": 16,
   "metadata": {
    "collapsed": false
   },
   "outputs": [],
   "source": [
    "fh = h5py.File('../../data/pk-EFM/151218-011055-100sun-phasekick-768.h5', 'r')"
   ]
  },
  {
   "cell_type": "code",
   "execution_count": 17,
   "metadata": {
    "collapsed": false
   },
   "outputs": [
    {
     "name": "stderr",
     "output_type": "stream",
     "text": [
      "                                                  \r"
     ]
    },
    {
     "name": "stdout",
     "output_type": "stream",
     "text": [
      "Response:\n",
      "f   mag       dB\n",
      "    0.000 1.000    0.000\n",
      " 3096.515 0.983   -0.152\n",
      " 6193.029 0.927   -0.661\n",
      "24772.117 0.096  -20.353\n",
      "30965.146 0.012  -38.785\n",
      "49544.233 0.000 -101.978\n",
      "61930.291 0.000 -111.035\n",
      "500000.000 0.000 -179.310\n"
     ]
    }
   ],
   "source": [
    "b = td.signal_average_gr_parab(fh['data'], -1.5e-3, 1.5e-3, invert=False, align_voltage=True)"
   ]
  },
  {
   "cell_type": "code",
   "execution_count": 18,
   "metadata": {
    "collapsed": false
   },
   "outputs": [],
   "source": [
    "b.li = lockin.LockIn(b.t, b.x, 1e6)\n",
    "b.li.run(fir=fir)\n",
    "b.li.phase(tf=-0.0010)"
   ]
  },
  {
   "cell_type": "code",
   "execution_count": 19,
   "metadata": {
    "collapsed": false
   },
   "outputs": [
    {
     "data": {
      "text/plain": [
       "(-10, 100)"
      ]
     },
     "execution_count": 19,
     "metadata": {},
     "output_type": "execute_result"
    },
    {
     "data": {
      "image/png": "[encoded data removed]",
      "text/plain": [
       "<matplotlib.figure.Figure at 0x1131bfa10>"
      ]
     },
     "metadata": {},
     "output_type": "display_data"
    }
   ],
   "source": [
    "plt.plot(b.li('t')*1e6 + (b.li.fir.size-1)/2, b.li('A'))\n",
    "plt.plot(b.li('t')*1e6 + (b.li.fir.size-1)/2, 45.85 + 1.55*signal.fftconvolve(np.where(b.li('t') > 0, 1, 0), fir, 'same'))\n",
    "plt.xlim(-10, 100)"
   ]
  },
  {
   "cell_type": "code",
   "execution_count": 20,
   "metadata": {
    "collapsed": false
   },
   "outputs": [],
   "source": [
    "m = phasekick.masklh(b.li('t')*1e6,  -150, 150)\n",
    "tfit = b.li('t')[m] * 1e6\n",
    "Afit_ = b.li('A')[m] \n",
    "A0 = 45.85\n",
    "Afit = Afit_ - A0"
   ]
  },
  {
   "cell_type": "code",
   "execution_count": 42,
   "metadata": {
    "collapsed": false
   },
   "outputs": [],
   "source": [
    "mod = pystan.StanModel('deconv.stan')"
   ]
  },
  {
   "cell_type": "code",
   "execution_count": 43,
   "metadata": {
    "collapsed": false
   },
   "outputs": [],
   "source": [
    "def stan_data(tfit, Afit, kern,\n",
    "              mu_dy=1.5, sigma_dy=1.0,\n",
    "              mu_k=10.0,\n",
    "              mu_t0=1.0,\n",
    "              mu_y0=0, sigma_y0=1.0,\n",
    "              sigma_t0=1.0):\n",
    "    K = kern.size\n",
    "    N = tfit.size - K + 1\n",
    "    y = Afit[(K//2):-(K//2)+1]\n",
    "    return dict(N=N, K=K, y=y, t_eval=tfit, kern=kern, mu_dy=mu_dy, sigma_dy=sigma_dy,\n",
    "                mu_k=mu_k, mu_y0=mu_y0, sigma_y0=sigma_y0, mu_t0=mu_t0, sigma_t0=sigma_t0)"
   ]
  },
  {
   "cell_type": "code",
   "execution_count": 44,
   "metadata": {
    "collapsed": true
   },
   "outputs": [],
   "source": [
    "d = stan_data(tfit + 3, Afit, fir_LP)\n",
    "d2 = stan_data(tfit[40:-40] + 3, Afit[40:-40], fir_LP)"
   ]
  },
  {
   "cell_type": "code",
   "execution_count": 45,
   "metadata": {
    "collapsed": false
   },
   "outputs": [],
   "source": [
    "out3 = mod.sampling(data=d, iter=5000, chains=1, )"
   ]
  },
  {
   "cell_type": "code",
   "execution_count": 46,
   "metadata": {
    "collapsed": true
   },
   "outputs": [],
   "source": [
    "# out2 = mod.sampling(data=d, iter=5000, chains=4, )"
   ]
  },
  {
   "cell_type": "code",
   "execution_count": 47,
   "metadata": {
    "collapsed": false
   },
   "outputs": [],
   "source": [
    "# out3 = mod.sampling(data=d2, iter=5000, chains=4)"
   ]
  },
  {
   "cell_type": "code",
   "execution_count": 48,
   "metadata": {
    "collapsed": false
   },
   "outputs": [],
   "source": [
    "def get_opt(d):\n",
    "    return np.array([d['y0'], d['dy'], d['k'], d['t0']])"
   ]
  },
  {
   "cell_type": "code",
   "execution_count": 49,
   "metadata": {
    "collapsed": false
   },
   "outputs": [],
   "source": [
    "# out3.extract()"
   ]
  },
  {
   "cell_type": "code",
   "execution_count": 50,
   "metadata": {
    "collapsed": false
   },
   "outputs": [],
   "source": [
    "ma = np.ones(d2['kern'].size)/d2['K']\n",
    "ts = conv_stan(d2['t_eval'], ma)\n",
    "tss = signal.convolve(d2['t_eval'], ma, 'valid')"
   ]
  },
  {
   "cell_type": "code",
   "execution_count": 57,
   "metadata": {
    "collapsed": false
   },
   "outputs": [],
   "source": [
    "popt = get_opt({key: val.mean() for key, val in out3.extract().items()})"
   ]
  },
  {
   "cell_type": "code",
   "execution_count": 54,
   "metadata": {
    "collapsed": true
   },
   "outputs": [],
   "source": [
    "def centrange(x):\n",
    "    non_centered = np.arange(x.size)\n",
    "    return non_centered - np.mean(non_centered)"
   ]
  },
  {
   "cell_type": "code",
   "execution_count": 55,
   "metadata": {
    "collapsed": true
   },
   "outputs": [],
   "source": [
    "b.li.t_us = b.li.t * 1e6\n",
    "ts = conv_stan(d2['t_eval'], ma) + (fir_LP.size-1.0)/2"
   ]
  },
  {
   "cell_type": "code",
   "execution_count": 58,
   "metadata": {
    "collapsed": true
   },
   "outputs": [],
   "source": [
    "y_conv = conv_exp(d2['t_eval'], *popt)"
   ]
  },
  {
   "cell_type": "code",
   "execution_count": 465,
   "metadata": {
    "collapsed": false
   },
   "outputs": [
    {
     "name": "stderr",
     "output_type": "stream",
     "text": [
      "/Users/ryandwyer/anaconda/lib/python2.7/site-packages/ipykernel/__main__.py:65: RuntimeWarning: overflow encountered in expm1\n"
     ]
    },
    {
     "data": {
      "image/png": "[encoded data removed]",
      "text/plain": [
       "<matplotlib.figure.Figure at 0x120de4590>"
      ]
     },
     "metadata": {},
     "output_type": "display_data"
    }
   ],
   "source": [
    "angle = 90\n",
    "mpl.rc('font', size=8)\n",
    "fig = plt.figure(figsize=(2.1, 4.0))\n",
    "gs = mpl.gridspec.GridSpec(33, 1)\n",
    "axes = []\n",
    "iend = [3, 6, 9, 15, 21, 27]\n",
    "axes.append(fig.add_subplot(gs[:iend[0]]))\n",
    "for i,i_next in zip(iend[:-1], iend[1:]):\n",
    "    axes.append(fig.add_subplot(gs[i:i_next], sharex=axes[0]))\n",
    "\n",
    "axes.append(fig.add_subplot(gs[iend[-1]:]))\n",
    "fig.subplots_adjust(wspace=0.0, hspace=0)\n",
    "\n",
    "tpts = np.array([-50, 0, 0, 150])\n",
    "Vpts = np.array([0, 0, 1, 1])\n",
    "axes[0].plot(tpts, Vpts, 'k')\n",
    "axes[0].set_ylim(-0.2, 1.2)\n",
    "axes[0].set_yticks([0, 1])\n",
    "axes[0].set_yticklabels(['$0$', ''])\n",
    "axes[0].set_xticklabels([''])\n",
    "\n",
    "axes[0].set_xlim(-10, 118)\n",
    "\n",
    "axes[0].set_ylabel(\"$V_\\\\mathrm{t}$\")\n",
    "\n",
    "\n",
    "t_exp_pos = np.r_[np.linspace(0,20, 101), 200]\n",
    "t_exp = np.r_[[-50, 0], t_exp_pos]\n",
    "x_exp = np.r_[0, 0, np.exp(-t_exp_pos/3.0)]\n",
    "\n",
    "Ndec = 3\n",
    "\n",
    "pts_color = u'#ff7f0e'\n",
    "\n",
    "axes[1].plot(t_exp, x_exp, 'g')\n",
    "axes[1].set_ylim(-0.2, 1.2)\n",
    "axes[1].set_ylabel(\"$G$\")\n",
    "\n",
    "axes[2].plot(np.r_[-50, np.arange(fir_LP.size), 150],\n",
    "             np.r_[0, fir_LP, 0],\n",
    "            'k')\n",
    "\n",
    "axes[2].set_ylim(fir_LP.max()*-0.1, fir_LP.max()*1.1)\n",
    "\n",
    "axes[2].set_ylabel(\"$H$\")\n",
    "\n",
    "for ax in [axes[i] for i in [0, 1, 2, 4]]:\n",
    "    ax.axhline(color='0.7', zorder=0)\n",
    "\n",
    "ax3 = axes[3]\n",
    "ax4 = axes[4]\n",
    "\n",
    "pts_color = u'#1f77b4'\n",
    "light_color = u'#ff7f0e'\n",
    "dark_color = u'#9467bd'\n",
    "\n",
    "ax4.plot(ts[::Ndec], (y_conv - d2['y'])[::Ndec]*1e3, 's',\n",
    "         color=dark_color,\n",
    "         markersize=2.5, alpha=1, markeredgewidth=0, zorder=1)\n",
    "\n",
    "ax3.plot(ts, (conv_match_stan(d2, out3)+A0), color=dark_color, linestyle='-',alpha=1, # dashes=(10, 10),\n",
    "         linewidth=1, zorder=1)\n",
    "ks = [1e4]\n",
    "ys = [conv_exp(d2['t_eval'], 0.0006, 1.5494081695, k, 0) for k in ks]\n",
    "\n",
    "for y, color in zip(ys, [light_color]):\n",
    "    ax3.plot(ts, (y+A0)+0.03, color=color, linewidth=0.75, alpha=1, zorder=11, )\n",
    "    ax4.plot(ts[::Ndec], (y - d2['y'])[::Ndec]*1e3, '.', color=color, alpha=1, markeredgewidth=0)\n",
    "# ax1.plot(x_conv)\n",
    "\n",
    "\n",
    "t_us = b.li('t_us') + (fir_LP.size-1.0)/2\n",
    "# ax3.plot(t_us, b.li('A'), '0.5', linewidth=0.7, zorder=0)\n",
    "ax3.plot(t_us[::Ndec], b.li('A')[::Ndec], '.', markersize=4.5, color=pts_color, alpha=1.0, zorder=0, markeredgewidth=0)\n",
    "axes[3].set_ylabel('$A$ [nm]', rotation=angle)\n",
    "\n",
    "\n",
    "\n",
    "ax3.set_ylim(45.45, 47.85)\n",
    "\n",
    "ax3.set_yticks([46, 47])\n",
    "ax4.set_yticks([-20, 0, 20])\n",
    "ax4.set_yticklabels([u'−0.2', '', '0.2'])\n",
    "ax4.set_ylim(-50, 50)\n",
    "axes[4].set_ylabel('$r$ [nm]', rotation=angle)\n",
    "\n",
    "axes[5].plot(t_us[::Ndec], b.li('df')[::Ndec], '.', color=pts_color, markersize=5, alpha=1, zorder=1, markeredgewidth=0)\n",
    "axes[5].plot(t_us, b.li('df'), '0.5', linewidth=0.7, zorder=0)\n",
    "axes[5].set_yticks([0, -150])\n",
    "axes[5].set_ylabel('$\\\\delta f$ [Hz]', rotation=angle)\n",
    "\n",
    "axes[6].plot(t_us[::Ndec], b.li('dphi')[::Ndec]*1e3, '.', color=pts_color, markersize=5, alpha=1, zorder=1, markeredgewidth=0)\n",
    "axes[6].plot(t_us, b.li('dphi')*1e3,'0.5', linewidth=0.7, zorder=0)\n",
    "axes[6].set_xlim(*axes[0].get_xlim())\n",
    "axes[6].set_ylim(-75, 35)\n",
    "axes[6].set_yticks([-50, 0])\n",
    "axes[6].set_ylabel('$\\\\delta \\\\phi$ [mcyc]', rotation=angle)\n",
    "axes[6].set_xlabel(u\"Time $t$ [µs]\")\n",
    "\n",
    "for ax in axes[:3]:\n",
    "    ax.set_frame_on(False)\n",
    "    ax.set_axis_off()\n",
    "\n",
    "for ax in axes[-2:]:\n",
    "    ax.set_xticks([0, 50, 100])\n"
   ]
  },
  {
   "cell_type": "code",
   "execution_count": 466,
   "metadata": {
    "collapsed": false
   },
   "outputs": [],
   "source": [
    "align_labels(axes[3:], 19)\n",
    "# fig.savefig('ex.pdf', bbox_inches='tight', transparent=True)"
   ]
  },
  {
   "cell_type": "code",
   "execution_count": 467,
   "metadata": {
    "collapsed": false
   },
   "outputs": [],
   "source": [
    "# ylabel = ax3.yaxis.get_label()\n",
    "# ylabel.get_position()\n",
    "# for ax in axes[3:]:\n",
    "#     ylabel = ax.yaxis.get_label()\n",
    "#     ylabel.set_position((xloc, 0.35))\n",
    "    "
   ]
  },
  {
   "cell_type": "code",
   "execution_count": 468,
   "metadata": {
    "collapsed": true
   },
   "outputs": [],
   "source": [
    "fig.savefig('ex.pdf', bbox_inches='tight', transparent=True)"
   ]
  },
  {
   "cell_type": "code",
   "execution_count": 469,
   "metadata": {
    "collapsed": true
   },
   "outputs": [],
   "source": [
    "!open ex.pdf"
   ]
  },
  {
   "cell_type": "code",
   "execution_count": 461,
   "metadata": {
    "collapsed": false
   },
   "outputs": [],
   "source": [
    "!cp ex.pdf /Users/ryandwyer/Dropbox/_JAM_MS__Dwyer201511__Phasekick__figs/raw-figures/tr-efm-ultra-fast.pdf"
   ]
  },
  {
   "cell_type": "code",
   "execution_count": 374,
   "metadata": {
    "collapsed": false
   },
   "outputs": [
    {
     "ename": "NameError",
     "evalue": "name 'out' is not defined",
     "output_type": "error",
     "traceback": [
      "\u001b[0;31m---------------------------------------------------------------------------\u001b[0m",
      "\u001b[0;31mNameError\u001b[0m                                 Traceback (most recent call last)",
      "\u001b[0;32m<ipython-input-374-8c2a5fd686c0>\u001b[0m in \u001b[0;36m<module>\u001b[0;34m()\u001b[0m\n\u001b[0;32m----> 1\u001b[0;31m \u001b[0msamples\u001b[0m \u001b[0;34m=\u001b[0m \u001b[0mout\u001b[0m\u001b[0;34m.\u001b[0m\u001b[0mextract\u001b[0m\u001b[0;34m(\u001b[0m\u001b[0;34m)\u001b[0m\u001b[0;34m\u001b[0m\u001b[0m\n\u001b[0m",
      "\u001b[0;31mNameError\u001b[0m: name 'out' is not defined"
     ]
    }
   ],
   "source": [
    "samples = out.extract()"
   ]
  },
  {
   "cell_type": "code",
   "execution_count": null,
   "metadata": {
    "collapsed": true
   },
   "outputs": [],
   "source": [
    "samp_mean = {key: np.percentile(val, 50) for key, val in samples.items()}"
   ]
  },
  {
   "cell_type": "code",
   "execution_count": 168,
   "metadata": {
    "collapsed": false
   },
   "outputs": [
    {
     "data": {
      "text/plain": [
       "{u'dy': 1.5472435320194882,\n",
       " u'k': 1.1439060269795223,\n",
       " u'lp__': 429.92173364906228,\n",
       " u'sigma': 0.060935574302912014,\n",
       " u't0': -0.7731747777326049,\n",
       " u'y0': 0.02617199026858678}"
      ]
     },
     "execution_count": 168,
     "metadata": {},
     "output_type": "execute_result"
    }
   ],
   "source": [
    "samp_mean"
   ]
  },
  {
   "cell_type": "markdown",
   "metadata": {},
   "source": [
    "- Naive demodulation only shows an impulsive shift."
   ]
  },
  {
   "cell_type": "code",
   "execution_count": 170,
   "metadata": {
    "collapsed": false
   },
   "outputs": [
    {
     "data": {
      "text/plain": [
       "[<matplotlib.lines.Line2D at 0x12afee710>]"
      ]
     },
     "execution_count": 170,
     "metadata": {},
     "output_type": "execute_result"
    },
    {
     "data": {
      "image/png": "[encoded data removed]",
      "text/plain": [
       "<matplotlib.figure.Figure at 0x12b203ad0>"
      ]
     },
     "metadata": {},
     "output_type": "display_data"
    }
   ],
   "source": [
    "plt.plot(d['y'])\n",
    "x = conv_exp_rise_LP(tfit, samp_mean['y0']-0.01, samp_mean['dy'], samp_mean['k'], 0)\n",
    "plt.plot(x)"
   ]
  },
  {
   "cell_type": "code",
   "execution_count": null,
   "metadata": {
    "collapsed": true
   },
   "outputs": [],
   "source": [
    "plt.plot(bi_all.t_us, bi_all.resid)\n",
    "plt.xlim(-10, 100)\n",
    "plt.ylim(-3.5, 5.5)"
   ]
  }
 ],
 "metadata": {
  "anaconda-cloud": {},
  "kernelspec": {
   "display_name": "Python [default]",
   "language": "python",
   "name": "python2"
  },
  "language_info": {
   "codemirror_mode": {
    "name": "ipython",
    "version": 2
   },
   "file_extension": ".py",
   "mimetype": "text/x-python",
   "name": "python",
   "nbconvert_exporter": "python",
   "pygments_lexer": "ipython2",
   "version": "2.7.12"
  }
 },
 "nbformat": 4,
 "nbformat_minor": 0
}
