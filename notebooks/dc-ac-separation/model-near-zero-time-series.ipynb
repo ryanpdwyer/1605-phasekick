{
 "cells": [
  {
   "cell_type": "code",
   "execution_count": 184,
   "metadata": {
    "collapsed": false
   },
   "outputs": [],
   "source": [
    "%matplotlib inline\n",
    "from __future__ import division, print_function\n",
    "import matplotlib as mpl\n",
    "import matplotlib.pyplot as plt\n",
    "import numpy as np\n",
    "import h5py\n",
    "import sklearn\n",
    "from scipy import linalg, signal, optimize\n",
    "import lockin\n",
    "import phasekick2 as pk2\n",
    "import phasekick as pk\n",
    "import tqdm\n",
    "import sigutils\n",
    "import munch\n",
    "from timedomainfit import *\n",
    "import timedomainfit as td"
   ]
  },
  {
   "cell_type": "code",
   "execution_count": 305,
   "metadata": {
    "collapsed": false
   },
   "outputs": [
    {
     "data": {
      "text/plain": [
       "<module 'timedomainfit' from 'timedomainfit.py'>"
      ]
     },
     "execution_count": 305,
     "metadata": {},
     "output_type": "execute_result"
    }
   ],
   "source": [
    "reload(td)"
   ]
  },
  {
   "cell_type": "code",
   "execution_count": 186,
   "metadata": {
    "collapsed": false
   },
   "outputs": [],
   "source": [
    "fs = 1e6\n",
    "ba = signal.butter(2, np.array([1e3, 200e3]) / (fs/2), analog=False, btype='bandpass')"
   ]
  },
  {
   "cell_type": "code",
   "execution_count": 187,
   "metadata": {
    "collapsed": false
   },
   "outputs": [],
   "source": [
    "phit, optfunc, optfuncQ, optfuncDC, optfuncDet, xDCt, xDC_all = td.make_optfunc(t0=0, tp=1.4e-3)"
   ]
  },
  {
   "cell_type": "code",
   "execution_count": 188,
   "metadata": {
    "collapsed": false
   },
   "outputs": [
    {
     "name": "stdout",
     "output_type": "stream",
     "text": [
      "Response:\n",
      "f   mag       dB\n",
      "    0.000 1.000    0.000\n",
      " 2000.000 0.982   -0.161\n",
      " 4000.000 0.921   -0.715\n",
      "15000.000 0.098  -20.164\n",
      "30000.000 0.000 -101.125\n",
      "33000.000 0.000 -110.366\n",
      "66000.000 0.000 -141.187\n",
      "500000.000 0.000 -196.320\n"
     ]
    }
   ],
   "source": [
    "fh = h5py.File(\"../../data/tr-efm/151218-003450-100sun-784.h5\", \"r\")\n",
    "params =   {'fp': 4000,\n",
    "             'fc': 15000,\n",
    "             't_phase': -0.052,\n",
    "             'ti': -54e-3,\n",
    "             'tf': 6e-3,\n",
    "             'Ndec': 1}\n",
    "fir = lockin.lock2(66000, params['fp'], params['fc'], fs=1e6)"
   ]
  },
  {
   "cell_type": "code",
   "execution_count": 189,
   "metadata": {
    "collapsed": false
   },
   "outputs": [
    {
     "name": "stderr",
     "output_type": "stream",
     "text": []
    },
    {
     "name": "stdout",
     "output_type": "stream",
     "text": [
      "Response:\n",
      "f   mag       dB\n",
      "    0.000 1.000   -0.000\n",
      " 3091.594 0.983   -0.152\n",
      " 6183.187 0.927   -0.658\n",
      "24732.750 0.095  -20.422\n",
      "30915.937 0.011  -38.973\n",
      "49465.500 0.000 -101.894\n",
      "61831.875 0.000 -110.805\n",
      "500000.000 0.000 -335.211\n"
     ]
    }
   ],
   "source": [
    "b = td.signal_average_gr(fh['data'], -1.5e-3, 1.4e-3)"
   ]
  },
  {
   "cell_type": "code",
   "execution_count": 338,
   "metadata": {
    "collapsed": false
   },
   "outputs": [],
   "source": [
    "simp, simp2, simpDC = td.make_simple_opt(0.0, 1.5e-3, 30000,\n",
    "                                         62e3, 1e2, 200e3, 1e6)"
   ]
  },
  {
   "cell_type": "code",
   "execution_count": 339,
   "metadata": {
    "collapsed": false,
    "scrolled": true
   },
   "outputs": [
    {
     "name": "stdout",
     "output_type": "stream",
     "text": [
      "Response:\n",
      "f   mag       dB\n",
      "    0.000 1.000    0.000\n",
      " 3091.607 0.983   -0.152\n",
      " 6183.214 0.927   -0.658\n",
      "24732.857 0.095  -20.422\n",
      "30916.071 0.011  -38.973\n",
      "49465.714 0.000 -101.894\n",
      "61832.142 0.000 -110.804\n",
      "500000.000 0.000 -340.476\n"
     ]
    }
   ],
   "source": [
    "p0simp = np.array([61850.0, -30.0, 62000.0, 0.0, 0.0, 0.5e-3])\n",
    "b.simp = td.fit(simp, b.t, b.x, p0=p0simp)"
   ]
  },
  {
   "cell_type": "code",
   "execution_count": 340,
   "metadata": {
    "collapsed": false
   },
   "outputs": [
    {
     "name": "stdout",
     "output_type": "stream",
     "text": [
      "Response:\n",
      "f   mag       dB\n",
      "    0.000 1.000   -0.000\n",
      " 3091.593 0.983   -0.152\n",
      " 6183.186 0.927   -0.658\n",
      "24732.742 0.095  -20.422\n",
      "30915.928 0.011  -38.973\n",
      "49465.485 0.000 -101.894\n",
      "61831.856 0.000 -110.805\n",
      "500000.000 0.000 -337.305\n"
     ]
    }
   ],
   "source": [
    "p0simp2 = np.r_[b.simp.popt[:-1], [0.1e-3, 1e-3, 0.5]]\n",
    "b.simp2 = td.fit(simp2, b.t, b.x, p0=p0simp2)"
   ]
  },
  {
   "cell_type": "code",
   "execution_count": 341,
   "metadata": {
    "collapsed": false
   },
   "outputs": [
    {
     "data": {
      "text/plain": [
       "array([  6.18406118e+04,  -4.01709611e+01,   6.20000000e+04,\n",
       "        -3.06063983e+01,  -2.60690501e+01,   1.90601460e-05,\n",
       "         4.16560906e-04,   2.50476648e-01])"
      ]
     },
     "execution_count": 341,
     "metadata": {},
     "output_type": "execute_result"
    }
   ],
   "source": [
    "b.simp2.popt"
   ]
  },
  {
   "cell_type": "code",
   "execution_count": 342,
   "metadata": {
    "collapsed": false
   },
   "outputs": [
    {
     "name": "stdout",
     "output_type": "stream",
     "text": [
      "Response:\n",
      "f   mag       dB\n",
      "    0.000 1.000   -0.000\n",
      " 3091.182 0.983   -0.152\n",
      " 6182.365 0.927   -0.658\n",
      "24729.458 0.095  -20.420\n",
      "30911.823 0.011  -38.968\n",
      "49458.916 0.000 -101.897\n",
      "61823.645 0.000 -110.811\n",
      "500000.000 0.000 -336.639\n"
     ]
    }
   ],
   "source": [
    "p0simpDC = np.array([  6.18406118e+04,  -4.01709611e+01,   6.20000000e+04,\n",
    "        -38.063983e+00,  -1.30690501e+01,   1.90601460e-05,\n",
    "         4.16560906e-04,   2.50476648e-01, 40000, 10000, 1.0])\n",
    "p1simpDC = np.array([  6.18405388e+04,  -3.97535568e+01,   2.57538438e+04,\n",
    "        -3.86519265e+01,  -1.26430869e+01,   5.38825741e-05,\n",
    "         4.00669831e-04,   2.56587152e-01,   4.12554789e+04,\n",
    "         1.08288224e+04,   1.22577851e+00])\n",
    "b.simpDC = td.fit(simpDC, b.t, b.x5, p0=p1simpDC, name='simpDC',\n",
    "                  tfit=b.t5)"
   ]
  },
  {
   "cell_type": "code",
   "execution_count": 343,
   "metadata": {
    "collapsed": false
   },
   "outputs": [
    {
     "data": {
      "text/plain": [
       "(<matplotlib.figure.Figure at 0x12fd49790>,\n",
       " <matplotlib.axes._subplots.AxesSubplot at 0x12fe801d0>)"
      ]
     },
     "execution_count": 343,
     "metadata": {},
     "output_type": "execute_result"
    },
    {
     "data": {
      "image/png": "[encoded data removed]",
      "text/plain": [
       "<matplotlib.figure.Figure at 0x12fd49790>"
      ]
     },
     "metadata": {},
     "output_type": "display_data"
    }
   ],
   "source": [
    "plot_lis([b.li, b.simp.li, b.simpDC.li, b.simpDC.li], 'df')"
   ]
  },
  {
   "cell_type": "code",
   "execution_count": 344,
   "metadata": {
    "collapsed": false
   },
   "outputs": [
    {
     "data": {
      "text/plain": [
       "(<matplotlib.figure.Figure at 0x1300f2450>,\n",
       " <matplotlib.axes._subplots.AxesSubplot at 0x12fe802d0>)"
      ]
     },
     "execution_count": 344,
     "metadata": {},
     "output_type": "execute_result"
    },
    {
     "data": {
      "image/png": "[encoded data removed]",
      "text/plain": [
       "<matplotlib.figure.Figure at 0x1300f2450>"
      ]
     },
     "metadata": {},
     "output_type": "display_data"
    }
   ],
   "source": [
    "plot_lis([b.li, b.simp.li, b.simpDC.li, b.simpDC.li], 'A')"
   ]
  },
  {
   "cell_type": "code",
   "execution_count": 345,
   "metadata": {
    "collapsed": false
   },
   "outputs": [
    {
     "data": {
      "text/plain": [
       "<matplotlib.legend.Legend at 0x12f51e210>"
      ]
     },
     "execution_count": 345,
     "metadata": {},
     "output_type": "execute_result"
    },
    {
     "data": {
      "image/png": "[encoded data removed]",
      "text/plain": [
       "<matplotlib.figure.Figure at 0x1296d47d0>"
      ]
     },
     "metadata": {},
     "output_type": "display_data"
    }
   ],
   "source": [
    "fits = [b.simp, b.simp2, b.simpDC]\n",
    "ts = [b.t, b.t, b.t5]\n",
    "for t, fit in zip(ts, fits):\n",
    "    plt.plot(t, fit.resid, label=fit.name, alpha=0.5)\n",
    "\n",
    "plt.legend(loc=0)"
   ]
  },
  {
   "cell_type": "code",
   "execution_count": 349,
   "metadata": {
    "collapsed": true
   },
   "outputs": [],
   "source": [
    "def print_popt(x, cov=None, print_string=True):\n",
    "    names = [\"f_i = {:8.1f}{}Hz\",\n",
    "             \" df = {:8.1f}{}Hz\",\n",
    "             \"f_f = {:8.1f}{}Hz\",\n",
    "             \" X0 = {:8.1f}{}nm\",\n",
    "             \" Y0 = {:8.1f}{}nm\",\n",
    "            u\" τ1 = {:8.1f}{}µs\",\n",
    "            u\" τ2 = {:8.1f}{}µs\",\n",
    "            u\"  r = {:8.2f}{}\",\n",
    "             \" Q0 = {:8.0f}{}\",\n",
    "             \"Qhv = {:8.0f}{}\",\n",
    "            u\" Δx = {:8.2f}{}nm\"\n",
    "            ]\n",
    "    scales = [1, 1, 1, 1, 1, 1e6, 1e6, 1, 1, 1, 1]\n",
    "    string = []\n",
    "    if cov is None:\n",
    "        covs = [\" \" for i in x]\n",
    "\n",
    "    for n, name, cov, scale in zip(x, names, covs, scales):\n",
    "        string.append(name.format(n*scale, cov))\n",
    "    string = \"\\n\".join(string)\n",
    "    if print_string:\n",
    "        print(string)\n",
    "    return string"
   ]
  },
  {
   "cell_type": "code",
   "execution_count": 350,
   "metadata": {
    "collapsed": false
   },
   "outputs": [
    {
     "name": "stdout",
     "output_type": "stream",
     "text": [
      "f_i =  61840.6 Hz\n",
      " df =    -39.8 Hz\n",
      "f_f =  21703.0 Hz\n",
      " X0 =    -38.7 nm\n",
      " Y0 =    -12.6 nm\n",
      " τ1 =     52.5 µs\n",
      " τ2 =    401.3 µs\n",
      "  r =     0.26 \n",
      " Q0 =    43340 \n",
      "Qhv =    10733 \n",
      " Δx =     1.16 nm\n"
     ]
    }
   ],
   "source": [
    "print_popt(b.simpDC.popt);"
   ]
  },
  {
   "cell_type": "code",
   "execution_count": 97,
   "metadata": {
    "collapsed": false
   },
   "outputs": [
    {
     "name": "stdout",
     "output_type": "stream",
     "text": [
      "Response:\n",
      "f   mag       dB\n",
      "    0.000 1.000   -0.000\n",
      " 3091.607 0.983   -0.152\n",
      " 6183.215 0.927   -0.658\n",
      "24732.859 0.095  -20.422\n",
      "30916.073 0.011  -38.973\n",
      "49465.717 0.000 -101.894\n",
      "61832.146 0.000 -110.804\n",
      "500000.000 0.000 -329.347\n"
     ]
    }
   ],
   "source": [
    "b.fit = fit(optfunc, b.t, b.x,\n",
    "            p0=np.array([61850.0, -15.0, 62000.0, 1e-3, b.x[np.argmin(abs(b.t))], 0.0]),\n",
    "            name='simp')"
   ]
  },
  {
   "cell_type": "code",
   "execution_count": 98,
   "metadata": {
    "collapsed": false
   },
   "outputs": [
    {
     "name": "stdout",
     "output_type": "stream",
     "text": [
      "Response:\n",
      "f   mag       dB\n",
      "    0.000 1.000   -0.000\n",
      " 3091.608 0.983   -0.152\n",
      " 6183.216 0.927   -0.658\n",
      "24732.864 0.095  -20.422\n",
      "30916.080 0.011  -38.973\n",
      "49465.728 0.000 -101.894\n",
      "61832.159 0.000 -110.804\n",
      "500000.000 0.000 -360.356\n"
     ]
    }
   ],
   "source": [
    "b.Qfit = fit(optfuncQ, b.t, b.x,\n",
    "             p0=np.array([61838.0, -41.0, 62317.0, -38.0, -13.5, 0.425e-3, 30000, 15000]),\n",
    "             name='Q')"
   ]
  },
  {
   "cell_type": "code",
   "execution_count": 99,
   "metadata": {
    "collapsed": false
   },
   "outputs": [
    {
     "name": "stdout",
     "output_type": "stream",
     "text": [
      "Response:\n",
      "f   mag       dB\n",
      "    0.000 1.000    0.000\n",
      " 3091.192 0.983   -0.152\n",
      " 6182.384 0.927   -0.658\n",
      "24729.536 0.095  -20.420\n",
      "30911.920 0.011  -38.968\n",
      "49459.071 0.000 -101.897\n",
      "61823.839 0.000 -110.810\n",
      "500000.000 0.000 -335.472\n"
     ]
    }
   ],
   "source": [
    "b.Det = fit(optfuncDet, b.t, b.x5, p0=b.Qfit.popt, tfit=b.t5,\n",
    "           name='Det.')"
   ]
  },
  {
   "cell_type": "code",
   "execution_count": 100,
   "metadata": {
    "collapsed": true
   },
   "outputs": [],
   "source": [
    "def plot_lis(lis, y):\n",
    "    fig, ax = plt.subplots()\n",
    "    for li in lis:\n",
    "        ax.plot(li('t'), li(y), label=li.name)\n",
    "    \n",
    "    return fig, ax"
   ]
  },
  {
   "cell_type": "code",
   "execution_count": 112,
   "metadata": {
    "collapsed": false
   },
   "outputs": [
    {
     "name": "stdout",
     "output_type": "stream",
     "text": [
      "Response:\n",
      "f   mag       dB\n",
      "    0.000 1.000    0.000\n",
      " 3091.260 0.983   -0.152\n",
      " 6182.520 0.927   -0.658\n",
      "24730.081 0.095  -20.420\n",
      "30912.601 0.011  -38.969\n",
      "49460.162 0.000 -101.896\n",
      "61825.202 0.000 -110.809\n",
      "500000.000 0.000 -366.013\n"
     ]
    }
   ],
   "source": [
    "b.dc = fit(optfuncDC, b.t, b.x5, p0=np.r_[b.Det.popt, [0.0, -1.0]],\n",
    "           tfit=b.t5, name='xDC')"
   ]
  },
  {
   "cell_type": "code",
   "execution_count": 353,
   "metadata": {
    "collapsed": false
   },
   "outputs": [
    {
     "ename": "AttributeError",
     "evalue": "Qfit",
     "output_type": "error",
     "traceback": [
      "\u001b[0;31m---------------------------------------------------------------------------\u001b[0m",
      "\u001b[0;31mAttributeError\u001b[0m                            Traceback (most recent call last)",
      "\u001b[0;32m<ipython-input-353-8043afbd877c>\u001b[0m in \u001b[0;36m<module>\u001b[0;34m()\u001b[0m\n\u001b[0;32m----> 1\u001b[0;31m \u001b[0mlis\u001b[0m \u001b[0;34m=\u001b[0m \u001b[0;34m[\u001b[0m\u001b[0mb\u001b[0m\u001b[0;34m.\u001b[0m\u001b[0mQfit\u001b[0m\u001b[0;34m.\u001b[0m\u001b[0mli\u001b[0m\u001b[0;34m,\u001b[0m \u001b[0mb\u001b[0m\u001b[0;34m.\u001b[0m\u001b[0mli\u001b[0m\u001b[0;34m,\u001b[0m \u001b[0mb\u001b[0m\u001b[0;34m.\u001b[0m\u001b[0mDet\u001b[0m\u001b[0;34m.\u001b[0m\u001b[0mli\u001b[0m\u001b[0;34m,\u001b[0m \u001b[0mb\u001b[0m\u001b[0;34m.\u001b[0m\u001b[0mdc\u001b[0m\u001b[0;34m.\u001b[0m\u001b[0mli\u001b[0m\u001b[0;34m]\u001b[0m\u001b[0;34m\u001b[0m\u001b[0m\n\u001b[0m",
      "\u001b[0;32m/Users/ryandwyer/anaconda/lib/python2.7/site-packages/munch/__init__.pyc\u001b[0m in \u001b[0;36m__getattr__\u001b[0;34m(self, k)\u001b[0m\n\u001b[1;32m    126\u001b[0m                 \u001b[0;32mreturn\u001b[0m \u001b[0mself\u001b[0m\u001b[0;34m[\u001b[0m\u001b[0mk\u001b[0m\u001b[0;34m]\u001b[0m\u001b[0;34m\u001b[0m\u001b[0m\n\u001b[1;32m    127\u001b[0m             \u001b[0;32mexcept\u001b[0m \u001b[0mKeyError\u001b[0m\u001b[0;34m:\u001b[0m\u001b[0;34m\u001b[0m\u001b[0m\n\u001b[0;32m--> 128\u001b[0;31m                 \u001b[0;32mraise\u001b[0m \u001b[0mAttributeError\u001b[0m\u001b[0;34m(\u001b[0m\u001b[0mk\u001b[0m\u001b[0;34m)\u001b[0m\u001b[0;34m\u001b[0m\u001b[0m\n\u001b[0m\u001b[1;32m    129\u001b[0m \u001b[0;34m\u001b[0m\u001b[0m\n\u001b[1;32m    130\u001b[0m     \u001b[0;32mdef\u001b[0m \u001b[0m__setattr__\u001b[0m\u001b[0;34m(\u001b[0m\u001b[0mself\u001b[0m\u001b[0;34m,\u001b[0m \u001b[0mk\u001b[0m\u001b[0;34m,\u001b[0m \u001b[0mv\u001b[0m\u001b[0;34m)\u001b[0m\u001b[0;34m:\u001b[0m\u001b[0;34m\u001b[0m\u001b[0m\n",
      "\u001b[0;31mAttributeError\u001b[0m: Qfit"
     ]
    }
   ],
   "source": [
    "lis = [b.Qfit.li, b.li, b.Det.li, b.dc.li]"
   ]
  },
  {
   "cell_type": "code",
   "execution_count": 270,
   "metadata": {
    "collapsed": false
   },
   "outputs": [
    {
     "data": {
      "text/plain": [
       "<matplotlib.legend.Legend at 0x12daea190>"
      ]
     },
     "execution_count": 270,
     "metadata": {},
     "output_type": "execute_result"
    },
    {
     "data": {
      "image/png": "[encoded data removed]",
      "text/plain": [
       "<matplotlib.figure.Figure at 0x12daea350>"
      ]
     },
     "metadata": {},
     "output_type": "display_data"
    }
   ],
   "source": [
    "fig, ax = plot_lis(lis, 'A')\n",
    "ax.legend()"
   ]
  },
  {
   "cell_type": "code",
   "execution_count": null,
   "metadata": {
    "collapsed": true
   },
   "outputs": [],
   "source": []
  }
 ],
 "metadata": {
  "anaconda-cloud": {},
  "kernelspec": {
   "display_name": "Python [default]",
   "language": "python",
   "name": "python2"
  },
  "language_info": {
   "codemirror_mode": {
    "name": "ipython",
    "version": 2
   },
   "file_extension": ".py",
   "mimetype": "text/x-python",
   "name": "python",
   "nbconvert_exporter": "python",
   "pygments_lexer": "ipython2",
   "version": "2.7.12"
  }
 },
 "nbformat": 4,
 "nbformat_minor": 0
}
