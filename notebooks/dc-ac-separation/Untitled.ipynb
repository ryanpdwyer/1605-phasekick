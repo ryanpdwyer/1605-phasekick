{
 "cells": [
  {
   "cell_type": "code",
   "execution_count": 1,
   "metadata": {
    "collapsed": false
   },
   "outputs": [],
   "source": [
    "%matplotlib inline\n",
    "from __future__ import division, print_function\n",
    "import matplotlib as mpl\n",
    "import matplotlib.pyplot as plt\n",
    "import numpy as np\n",
    "import h5py\n",
    "from scipy import signal, linalg\n",
    "from ipywidgets import interact"
   ]
  },
  {
   "cell_type": "code",
   "execution_count": 2,
   "metadata": {
    "collapsed": true
   },
   "outputs": [],
   "source": [
    "import sklearn\n",
    "from scipy import linalg, signal, optimize\n",
    "import lockin\n",
    "import phasekick2 as pk2\n",
    "import phasekick as pk\n",
    "import tqdm\n",
    "import sigutils\n",
    "import munch\n",
    "from timedomainfit import *\n",
    "import timedomainfit as td\n",
    "\n",
    "def print_popt(x, cov=None, print_string=True):\n",
    "    names = [\"f_i = {:8.1f}{}Hz\",\n",
    "             \" df = {:8.1f}{}Hz\",\n",
    "             \"f_f = {:8.1f}{}Hz\",\n",
    "             \" X0 = {:8.1f}{}nm\",\n",
    "             \" Y0 = {:8.1f}{}nm\",\n",
    "            u\" τ1 = {:8.1f}{}µs\",\n",
    "            u\" τ2 = {:8.1f}{}µs\",\n",
    "            u\"  r = {:8.2f}{}\",\n",
    "             \" Q0 = {:8.0f}{}\",\n",
    "             \"Qhv = {:8.0f}{}\",\n",
    "            u\" Δx = {:8.2f}{}nm\"\n",
    "            ]\n",
    "    scales = [1, 1, 1, 1, 1, 1e6, 1e6, 1, 1, 1, 1]\n",
    "    string = []\n",
    "    if cov is None:\n",
    "        covs = [\" \" for i in x]\n",
    "\n",
    "    for n, name, cov, scale in zip(x, names, covs, scales):\n",
    "        string.append(name.format(n*scale, cov))\n",
    "    string = \"\\n\".join(string)\n",
    "    if print_string:\n",
    "        print(string)\n",
    "    return string\n",
    "\n",
    "def plot_lis(lis, y):\n",
    "    fig, ax = plt.subplots()\n",
    "    for li in lis:\n",
    "        ax.plot(li('t'), li(y), label=li.name)\n",
    "    \n",
    "    return fig, ax"
   ]
  },
  {
   "cell_type": "code",
   "execution_count": 3,
   "metadata": {
    "collapsed": false
   },
   "outputs": [],
   "source": [
    "# A = 0.05\n",
    "# Lambda = 1.488\n",
    "# t = np.linspace(0, 2*np.pi, 128, endpoint=False)\n",
    "# x0 = 0.02\n",
    "# xt = A * np.sin(t) + x0\n",
    "# V = np.sin((4 * np.pi * xt) / Lambda)\n",
    "\n",
    "# def wave(t, A, x0):\n",
    "#     return A * np.sin(t) + x0\n",
    "\n",
    "# def interf(x, Lambda):\n",
    "#     return (np.sin((4 * np.pi * x)/Lambda) - x * 4 * np.pi / Lambda)"
   ]
  },
  {
   "cell_type": "code",
   "execution_count": 4,
   "metadata": {
    "collapsed": true
   },
   "outputs": [],
   "source": [
    "fs = 1e6\n",
    "ba = signal.butter(2, np.array([1e3, 200e3]) / (fs/2), analog=False, btype='bandpass')"
   ]
  },
  {
   "cell_type": "code",
   "execution_count": 5,
   "metadata": {
    "collapsed": true
   },
   "outputs": [],
   "source": [
    "phit, optfunc, optfuncQ, optfuncDC, optfuncDet, xDCt, xDC_all = td.make_optfunc(t0=0, tp=1.4e-3)"
   ]
  },
  {
   "cell_type": "code",
   "execution_count": 6,
   "metadata": {
    "collapsed": false
   },
   "outputs": [
    {
     "name": "stdout",
     "output_type": "stream",
     "text": [
      "Response:\n",
      "f   mag       dB\n",
      "    0.000 1.000    0.000\n",
      " 2000.000 0.982   -0.161\n",
      " 4000.000 0.921   -0.715\n",
      "15000.000 0.098  -20.164\n",
      "30000.000 0.000 -101.125\n",
      "33000.000 0.000 -110.366\n",
      "66000.000 0.000 -141.187\n",
      "500000.000 0.000 -196.320\n"
     ]
    }
   ],
   "source": [
    "fh = h5py.File(\"../../data/tr-efm/151218-003450-100sun-784.h5\", \"r\")\n",
    "params =   {'fp': 4000,\n",
    "             'fc': 15000,\n",
    "             't_phase': -0.052,\n",
    "             'ti': -54e-3,\n",
    "             'tf': 6e-3,\n",
    "             'Ndec': 1}\n",
    "fir = lockin.lock2(66000, params['fp'], params['fc'], fs=1e6)"
   ]
  },
  {
   "cell_type": "code",
   "execution_count": 7,
   "metadata": {
    "collapsed": false
   },
   "outputs": [
    {
     "name": "stderr",
     "output_type": "stream",
     "text": [
      "100%|██████████| 784/784 [00:07<00:00, 101.43it/s]\n",
      "1500it [00:00, 2853.32it/s]"
     ]
    },
    {
     "name": "stdout",
     "output_type": "stream",
     "text": [
      "Response:\n",
      "f   mag       dB\n",
      "    0.000 1.000    0.000\n",
      " 3091.925 0.983   -0.152\n",
      " 6183.850 0.927   -0.658\n",
      "24735.399 0.095  -20.423\n",
      "30919.249 0.011  -38.978\n",
      "49470.798 0.000 -101.893\n",
      "61838.498 0.000 -110.800\n",
      "500000.000 0.000 -339.063\n"
     ]
    },
    {
     "name": "stderr",
     "output_type": "stream",
     "text": [
      "\n"
     ]
    }
   ],
   "source": [
    "b = td.signal_average_gr_parab(fh['data'], -1.5e-3, 0, invert=False)"
   ]
  },
  {
   "cell_type": "code",
   "execution_count": 8,
   "metadata": {
    "collapsed": false
   },
   "outputs": [
    {
     "data": {
      "text/plain": [
       "[<matplotlib.lines.Line2D at 0x11000af90>]"
      ]
     },
     "execution_count": 8,
     "metadata": {},
     "output_type": "execute_result"
    },
    {
     "data": {
      "image/png": "[encoded data removed]",
      "text/plain": [
       "<matplotlib.figure.Figure at 0x11000afd0>"
      ]
     },
     "metadata": {},
     "output_type": "display_data"
    }
   ],
   "source": [
    "plt.plot(b.t, b.x, marker='.')"
   ]
  },
  {
   "cell_type": "code",
   "execution_count": 9,
   "metadata": {
    "collapsed": false
   },
   "outputs": [],
   "source": [
    "t= (b.t - b.t[0]) * 1e3\n",
    "f = 61.850\n",
    "X = -23\n",
    "Y= 30\n",
    "fit = X * np.cos(2*np.pi*f*t) + Y * np.sin(2*np.pi*f*t)"
   ]
  },
  {
   "cell_type": "code",
   "execution_count": 10,
   "metadata": {
    "collapsed": true
   },
   "outputs": [],
   "source": [
    "def sine(t, X, Y, f):\n",
    "    return X * np.cos(2*np.pi*f*t) + Y * np.sin(2*np.pi*f*t)"
   ]
  },
  {
   "cell_type": "code",
   "execution_count": 11,
   "metadata": {
    "collapsed": true
   },
   "outputs": [],
   "source": [
    "def sineQ(t, X, Y, f, k, x0):\n",
    "    return np.exp(-k * (t-t[0])) * sine(t, X, Y, f) + x0"
   ]
  },
  {
   "cell_type": "code",
   "execution_count": 12,
   "metadata": {
    "collapsed": false
   },
   "outputs": [],
   "source": [
    "def interferom_sine(t, X, Y, f, kringdown, x0, phi, k):\n",
    "    x = sineQ(t, X, Y, f, kringdown, x0)\n",
    "    Lambda = 1488.0\n",
    "    return k*(Lambda / (4 * np.pi)) * (np.cos(phi) * np.sin((4 * np.pi * x)/Lambda) + np.sin(phi) * (1 - np.cos(4 * np.pi * x / Lambda)))"
   ]
  },
  {
   "cell_type": "code",
   "execution_count": 13,
   "metadata": {
    "collapsed": true
   },
   "outputs": [],
   "source": [
    "p0 = np.array([-23, 30, 61.850, 0.1, 0.0])"
   ]
  },
  {
   "cell_type": "code",
   "execution_count": 14,
   "metadata": {
    "collapsed": false
   },
   "outputs": [],
   "source": [
    "popt, pcov = optimize.curve_fit(sineQ, t, b.x, p0=p0)\n",
    "resid = b.x - sineQ(t, *popt)"
   ]
  },
  {
   "cell_type": "code",
   "execution_count": 15,
   "metadata": {
    "collapsed": false
   },
   "outputs": [
    {
     "data": {
      "text/plain": [
       "array([ -2.25546663e+01,   3.46898430e+01,   6.18405206e+01,\n",
       "         8.96076892e-03,  -9.68244271e-02])"
      ]
     },
     "execution_count": 15,
     "metadata": {},
     "output_type": "execute_result"
    }
   ],
   "source": [
    "popt"
   ]
  },
  {
   "cell_type": "code",
   "execution_count": 16,
   "metadata": {
    "collapsed": false
   },
   "outputs": [
    {
     "ename": "NameError",
     "evalue": "name 'popt2' is not defined",
     "output_type": "error",
     "traceback": [
      "\u001b[0;31m---------------------------------------------------------------------------\u001b[0m",
      "\u001b[0;31mNameError\u001b[0m                                 Traceback (most recent call last)",
      "\u001b[0;32m<ipython-input-16-39ecb683ca63>\u001b[0m in \u001b[0;36m<module>\u001b[0;34m()\u001b[0m\n\u001b[0;32m----> 1\u001b[0;31m \u001b[0mpopt2\u001b[0m\u001b[0;34m\u001b[0m\u001b[0m\n\u001b[0m",
      "\u001b[0;31mNameError\u001b[0m: name 'popt2' is not defined"
     ]
    }
   ],
   "source": [
    "popt2"
   ]
  },
  {
   "cell_type": "code",
   "execution_count": null,
   "metadata": {
    "collapsed": false
   },
   "outputs": [],
   "source": [
    "popt2, pcov2 = optimize.curve_fit(interferom_sine, t, b.x,\n",
    "                                  p0=np.array([ -2.25544427e+01,   3.46875878e+01,   6.18405245e+01,\n",
    "         9.6e-3, -0.127, 0.0, 1.0]))\n",
    "resid2 = b.x - interferom_sine(t, *popt2)"
   ]
  },
  {
   "cell_type": "code",
   "execution_count": null,
   "metadata": {
    "collapsed": false
   },
   "outputs": [],
   "source": [
    "popt2"
   ]
  },
  {
   "cell_type": "code",
   "execution_count": null,
   "metadata": {
    "collapsed": false
   },
   "outputs": [],
   "source": [
    "plt.plot(b.li('t')*1e3, b.li('A'))\n",
    "plt.plot(b.li('t')*1e3, np.exp(-(b.li('t') - b.li('t')[0])*9.6e-3 * 1e3) * 41.35)"
   ]
  },
  {
   "cell_type": "code",
   "execution_count": null,
   "metadata": {
    "collapsed": false
   },
   "outputs": [],
   "source": [
    "phi0 / (2*np.pi) * 16.08"
   ]
  },
  {
   "cell_type": "code",
   "execution_count": null,
   "metadata": {
    "collapsed": false
   },
   "outputs": [],
   "source": [
    "plt.plot(t, resid, 'b.')\n",
    "plt.plot(t, resid2, 'g.')"
   ]
  },
  {
   "cell_type": "code",
   "execution_count": null,
   "metadata": {
    "collapsed": false
   },
   "outputs": [],
   "source": [
    "def harmonics(t, X2, Y2, X3, Y3, X4, Y4, X5, Y5):\n",
    "    f = popt[2]\n",
    "    return (X2 * np.cos(4*np.pi*f*t) + Y2 * np.sin(4*np.pi*f*t) + X3 * np.cos(6*np.pi*f*t) + Y3 * np.cos(6*np.pi*f*t) +\n",
    "            X4 * np.cos(10*np.pi*f*t) + Y4 * np.cos(10*np.pi*f*t) +\n",
    "            X5 * np.cos(10*np.pi*f*t) + Y5 * np.cos(10*np.pi*f*t))"
   ]
  },
  {
   "cell_type": "code",
   "execution_count": null,
   "metadata": {
    "collapsed": false
   },
   "outputs": [],
   "source": [
    "def harN(t, f, N, A=1):\n",
    "    cols = []\n",
    "    for i in xrange(2, N+1):\n",
    "        cols.extend([A*np.cos(t*2*np.pi*f*i), A*np.sin(t*2*np.pi*f*i)])\n",
    "    return np.c_[cols].T"
   ]
  },
  {
   "cell_type": "code",
   "execution_count": null,
   "metadata": {
    "collapsed": false
   },
   "outputs": [],
   "source": [
    "A = harN(t, popt[2], 5, np.exp(-t * popt[3]))"
   ]
  },
  {
   "cell_type": "code",
   "execution_count": null,
   "metadata": {
    "collapsed": false
   },
   "outputs": [],
   "source": [
    "x_har, __, ___, ____ = linalg.lstsq(A, resid)"
   ]
  },
  {
   "cell_type": "code",
   "execution_count": null,
   "metadata": {
    "collapsed": false
   },
   "outputs": [],
   "source": []
  },
  {
   "cell_type": "code",
   "execution_count": null,
   "metadata": {
    "collapsed": false
   },
   "outputs": [],
   "source": [
    "# plt.plot(t % (1.0/popt2[2]), resid2, '.')\n",
    "plt.plot(t % (1.0/popt[2]), resid, '.')\n",
    "plt.plot(t % (1.0/popt[2]), harmonics(t, *popt_har), '.')\n",
    "plt.plot(t % (1.0/popt[2]), np.dot(A, x_har), '.')"
   ]
  },
  {
   "cell_type": "code",
   "execution_count": null,
   "metadata": {
    "collapsed": false
   },
   "outputs": [],
   "source": [
    "x2 = b.x - np.dot(A, x_har)"
   ]
  },
  {
   "cell_type": "code",
   "execution_count": null,
   "metadata": {
    "collapsed": false
   },
   "outputs": [],
   "source": [
    "popt2, pcov2 = optimize.curve_fit(sineQ, t, x2, p0=popt)"
   ]
  },
  {
   "cell_type": "code",
   "execution_count": null,
   "metadata": {
    "collapsed": false
   },
   "outputs": [],
   "source": [
    "popt2"
   ]
  },
  {
   "cell_type": "code",
   "execution_count": null,
   "metadata": {
    "collapsed": false
   },
   "outputs": [],
   "source": [
    "popt"
   ]
  },
  {
   "cell_type": "code",
   "execution_count": null,
   "metadata": {
    "collapsed": false
   },
   "outputs": [],
   "source": [
    "b2 = td.signal_average_gr_parab(fh['data'], -1.5e-3, 1.4e-3, invert=False)"
   ]
  },
  {
   "cell_type": "code",
   "execution_count": null,
   "metadata": {
    "collapsed": false
   },
   "outputs": [],
   "source": [
    "t2 = (b2.t - b2.t[0])*1e3"
   ]
  },
  {
   "cell_type": "code",
   "execution_count": null,
   "metadata": {
    "collapsed": false
   },
   "outputs": [],
   "source": [
    "t2_0 = b2.t[0]*1e3"
   ]
  },
  {
   "cell_type": "code",
   "execution_count": null,
   "metadata": {
    "collapsed": false
   },
   "outputs": [],
   "source": [
    "Aall = harN(t2, popt2[2], 5, np.exp(-t2*popt[3]))\n",
    "x2all = b2.x - np.dot(Aall, x_har)"
   ]
  },
  {
   "cell_type": "code",
   "execution_count": null,
   "metadata": {
    "collapsed": true
   },
   "outputs": [],
   "source": [
    "resid_all = x2all - sineQ(t2, *popt2)"
   ]
  },
  {
   "cell_type": "code",
   "execution_count": null,
   "metadata": {
    "collapsed": false
   },
   "outputs": [],
   "source": [
    "plt.plot((t2 + t2_0)*1e3, resid_all, '-', linewidth=0.5, color='0.5')\n",
    "plt.plot(1e3*(t2 + t2_0), resid_all, '.',)\n",
    "plt.xlim(-20, 70)\n",
    "plt.ylim(-0.05, 0.9)"
   ]
  },
  {
   "cell_type": "code",
   "execution_count": null,
   "metadata": {
    "collapsed": false
   },
   "outputs": [],
   "source": [
    "plt.plot(t % (1.0/popt2[2]), x2 - sineQ(t, *popt2), '.')"
   ]
  },
  {
   "cell_type": "code",
   "execution_count": null,
   "metadata": {
    "collapsed": true
   },
   "outputs": [],
   "source": []
  },
  {
   "cell_type": "code",
   "execution_count": null,
   "metadata": {
    "collapsed": false
   },
   "outputs": [],
   "source": [
    "plt.plot(t, resid - np.dot(A, x_har), '.')"
   ]
  },
  {
   "cell_type": "code",
   "execution_count": null,
   "metadata": {
    "collapsed": false
   },
   "outputs": [],
   "source": [
    "plt.plot(t % (1.0/popt[2]), resid - np.dot(A, x_har), '.')"
   ]
  },
  {
   "cell_type": "code",
   "execution_count": null,
   "metadata": {
    "collapsed": false
   },
   "outputs": [],
   "source": [
    "psd = signal.periodogram(resid,  fs=1e3)\n",
    "psd2 =  signal.periodogram(resid2,  fs=1e3) "
   ]
  },
  {
   "cell_type": "code",
   "execution_count": null,
   "metadata": {
    "collapsed": false
   },
   "outputs": [],
   "source": [
    "plt.plot(*signal.periodogram(b.x, fs=1e3, window='blackman'))\n",
    "plt.loglog(*psd)\n",
    "plt.loglog(*psd2)\n",
    "plt.ylim(1e-8, 1)"
   ]
  },
  {
   "cell_type": "code",
   "execution_count": null,
   "metadata": {
    "collapsed": false
   },
   "outputs": [],
   "source": []
  },
  {
   "cell_type": "code",
   "execution_count": null,
   "metadata": {
    "collapsed": true
   },
   "outputs": [],
   "source": []
  }
 ],
 "metadata": {
  "kernelspec": {
   "display_name": "Python 2",
   "language": "python",
   "name": "python2"
  },
  "language_info": {
   "codemirror_mode": {
    "name": "ipython",
    "version": 2
   },
   "file_extension": ".py",
   "mimetype": "text/x-python",
   "name": "python",
   "nbconvert_exporter": "python",
   "pygments_lexer": "ipython2",
   "version": "2.7.11"
  }
 },
 "nbformat": 4,
 "nbformat_minor": 0
}
