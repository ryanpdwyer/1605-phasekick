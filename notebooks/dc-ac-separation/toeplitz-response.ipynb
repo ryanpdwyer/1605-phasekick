{
 "cells": [
  {
   "cell_type": "code",
   "execution_count": 6,
   "metadata": {
    "collapsed": false
   },
   "outputs": [
    {
     "name": "stderr",
     "output_type": "stream",
     "text": [
      "\u001b[1m\u001b[34mINFO: Recompiling stale cache file /Users/ryandwyer/.julia/lib/v0.5/PyCall.ji for module PyCall.\n",
      "\u001b[0mWARNING: Base.ASCIIString is deprecated, use String instead.\n",
      "  likely near /Users/ryandwyer/.julia/v0.5/PyPlot/src/PyPlot.jl:24\n",
      "WARNING: Base.ASCIIString is deprecated, use String instead.\n",
      "  likely near /Users/ryandwyer/.julia/v0.5/PyPlot/src/PyPlot.jl:24\n",
      "WARNING: Base.ASCIIString is deprecated, use String instead.\n",
      "  likely near /Users/ryandwyer/.julia/v0.5/PyPlot/src/PyPlot.jl:24\n",
      "WARNING: Base.ASCIIString is deprecated, use String instead.\n",
      "  likely near /Users/ryandwyer/.julia/v0.5/PyPlot/src/PyPlot.jl:24\n",
      "WARNING: Base.ASCIIString is deprecated, use String instead.\n",
      "  likely near /Users/ryandwyer/.julia/v0.5/PyPlot/src/PyPlot.jl:24\n",
      "WARNING: Base.writemime is deprecated.\n",
      "  likely near /Users/ryandwyer/.julia/v0.5/PyPlot/src/PyPlot.jl:32\n",
      "\u001b[1m\u001b[31mWARNING: `@linux` is deprecated, use `@static is_linux()` instead\u001b[0m\n",
      " in depwarn(::String, ::Symbol) at ./deprecated.jl:64\n",
      " in depwarn(::String, ::Symbol) at /Users/ryandwyer/julia/usr/lib/julia/sys.dylib:?\n",
      " in @linux(::Any, ::Any) at ./deprecated.jl:485\n",
      " in include_from_node1(::String) at ./loading.jl:488\n",
      " in include_from_node1(::String) at /Users/ryandwyer/julia/usr/lib/julia/sys.dylib:?\n",
      " in eval(::Module, ::Any) at ./boot.jl:234\n",
      " in eval(::Module, ::Any) at /Users/ryandwyer/julia/usr/lib/julia/sys.dylib:?\n",
      " in require(::Symbol) at ./loading.jl:415\n",
      " in require(::Symbol) at /Users/ryandwyer/julia/usr/lib/julia/sys.dylib:?\n",
      " in include_string(::String, ::String) at ./loading.jl:441\n",
      " in execute_request(::ZMQ.Socket, ::IJulia.Msg) at /Users/ryandwyer/.julia/v0.5/IJulia/src/execute_request.jl:157\n",
      " in eventloop(::ZMQ.Socket) at /Users/ryandwyer/.julia/v0.5/IJulia/src/eventloop.jl:8\n",
      " in (::IJulia.##13#19)() at ./task.jl:360\n",
      "while loading /Users/ryandwyer/.julia/v0.5/PyPlot/src/PyPlot.jl, in expression starting on line 131\n",
      "WARNING: Base.writemime is deprecated.\n",
      "  likely near /Users/ryandwyer/.julia/v0.5/PyPlot/src/PyPlot.jl:316\n",
      "\u001b[1m\u001b[31mWARNING: symbol is deprecated, use Symbol instead.\u001b[0m\n",
      " in depwarn(::String, ::Symbol) at ./deprecated.jl:64\n",
      " in symbol(::String, ::Vararg{String,N}) at ./deprecated.jl:30\n",
      " in macro expansion; at /Users/ryandwyer/.julia/v0.5/PyPlot/src/PyPlot.jl:317 [inlined]\n",
      " in anonymous at ./<missing>:?\n",
      " in include_from_node1(::String) at ./loading.jl:488\n",
      " in include_from_node1(::String) at /Users/ryandwyer/julia/usr/lib/julia/sys.dylib:?\n",
      " in eval(::Module, ::Any) at ./boot.jl:234\n",
      " in eval(::Module, ::Any) at /Users/ryandwyer/julia/usr/lib/julia/sys.dylib:?\n",
      " in require(::Symbol) at ./loading.jl:415\n",
      " in require(::Symbol) at /Users/ryandwyer/julia/usr/lib/julia/sys.dylib:?\n",
      " in include_string(::String, ::String) at ./loading.jl:441\n",
      " in execute_request(::ZMQ.Socket, ::IJulia.Msg) at /Users/ryandwyer/.julia/v0.5/IJulia/src/execute_request.jl:157\n",
      " in eventloop(::ZMQ.Socket) at /Users/ryandwyer/.julia/v0.5/IJulia/src/eventloop.jl:8\n",
      " in (::IJulia.##13#19)() at ./task.jl:360\n",
      "while loading /Users/ryandwyer/.julia/v0.5/PyPlot/src/PyPlot.jl, in expression starting on line 316\n",
      "WARNING: Base.writemime is deprecated.\n",
      "  likely near /Users/ryandwyer/.julia/v0.5/PyPlot/src/PyPlot.jl:316\n",
      "WARNING: Base.writemime is deprecated.\n",
      "  likely near /Users/ryandwyer/.julia/v0.5/PyPlot/src/PyPlot.jl:316\n",
      "WARNING: Base.writemime is deprecated.\n",
      "  likely near /Users/ryandwyer/.julia/v0.5/PyPlot/src/PyPlot.jl:316\n",
      "WARNING: Base.writemime is deprecated.\n",
      "  likely near /Users/ryandwyer/.julia/v0.5/PyPlot/src/PyPlot.jl:316\n",
      "WARNING: Base.writemime is deprecated.\n",
      "  likely near /Users/ryandwyer/.julia/v0.5/PyPlot/src/PyPlot.jl:316\n",
      "WARNING: Base.writemime is deprecated.\n",
      "  likely near /Users/ryandwyer/.julia/v0.5/PyPlot/src/PyPlot.jl:316\n",
      "WARNING: Base.writemime is deprecated.\n",
      "  likely near /Users/ryandwyer/.julia/v0.5/PyPlot/src/PyPlot.jl:316\n",
      "WARNING: Base.writemime is deprecated.\n",
      "  likely near /Users/ryandwyer/.julia/v0.5/PyPlot/src/PyPlot.jl:316\n",
      "WARNING: Base.writemime is deprecated.\n",
      "  likely near /Users/ryandwyer/.julia/v0.5/PyPlot/src/PyPlot.jl:316\n",
      "WARNING: Base.writemime is deprecated.\n",
      "  likely near /Users/ryandwyer/.julia/v0.5/PyPlot/src/PyPlot.jl:316\n",
      "WARNING: Base.writemime is deprecated.\n",
      "  likely near /Users/ryandwyer/.julia/v0.5/PyPlot/src/PyPlot.jl:316\n",
      "WARNING: Base.ASCIIString is deprecated, use String instead.\n",
      "  likely near /Users/ryandwyer/.julia/v0.5/PyPlot/src/PyPlot.jl:481\n",
      "WARNING: Base.ASCIIString is deprecated, use String instead.\n",
      "  likely near /Users/ryandwyer/.julia/v0.5/PyPlot/src/PyPlot.jl:481\n",
      "WARNING: Base.ASCIIString is deprecated, use String instead.\n",
      "  likely near /Users/ryandwyer/.julia/v0.5/PyPlot/src/PyPlot.jl:481\n",
      "WARNING: Base.ASCIIString is deprecated, use String instead.\n",
      "  likely near /Users/ryandwyer/.julia/v0.5/PyPlot/src/PyPlot.jl:481\n",
      "WARNING: Base.ASCIIString is deprecated, use String instead.\n",
      "  likely near /Users/ryandwyer/.julia/v0.5/PyPlot/src/PyPlot.jl:481\n",
      "WARNING: Base.ASCIIString is deprecated, use String instead.\n",
      "  likely near /Users/ryandwyer/.julia/v0.5/PyPlot/src/PyPlot.jl:481\n",
      "\u001b[1m\u001b[34mINFO: Recompiling stale cache file /Users/ryandwyer/.julia/lib/v0.5/FixedPointNumbers.ji for module FixedPointNumbers.\n",
      "\u001b[0m\u001b[1m\u001b[34mINFO: Recompiling stale cache file /Users/ryandwyer/.julia/lib/v0.5/Colors.ji for module Colors.\n",
      "\u001b[0mWARNING: Base.writemime is deprecated.\n",
      "  likely near /Users/ryandwyer/.julia/v0.5/PyPlot/src/colormaps.jl:157\n",
      "WARNING: Base.writemime is deprecated.\n",
      "  likely near /Users/ryandwyer/.julia/v0.5/PyPlot/src/colormaps.jl:157\n",
      "WARNING: Base.writemime is deprecated.\n",
      "  likely near /Users/ryandwyer/.julia/v0.5/PyPlot/src/colormaps.jl:188\n",
      "WARNING: Base.writemime is deprecated.\n",
      "  likely near /Users/ryandwyer/.julia/v0.5/PyPlot/src/colormaps.jl:188\n",
      "WARNING: Base.ASCIIString is deprecated, use String instead.\n",
      "  likely near /Users/ryandwyer/.julia/v0.5/PyPlot/src/PyPlot.jl:481\n",
      "WARNING: Base.ASCIIString is deprecated, use String instead.\n",
      "  likely near /Users/ryandwyer/.julia/v0.5/PyPlot/src/PyPlot.jl:481\n",
      "WARNING: Base.ASCIIString is deprecated, use String instead.\n",
      "  likely near /Users/ryandwyer/.julia/v0.5/PyPlot/src/PyPlot.jl:481\n",
      "\u001b[1m\u001b[34mINFO: Recompiling stale cache file /Users/ryandwyer/.julia/lib/v0.5/LaTeXStrings.ji for module LaTeXStrings.\n",
      "\u001b[0m"
     ]
    }
   ],
   "source": [
    "using PyPlot;\n",
    "using HDF5;\n",
    "include(\"omp.jl\");"
   ]
  },
  {
   "cell_type": "code",
   "execution_count": 7,
   "metadata": {
    "collapsed": false
   },
   "outputs": [
    {
     "ename": "LoadError",
     "evalue": "UndefVarError: resp not defined",
     "output_type": "error",
     "traceback": [
      "UndefVarError: resp not defined",
      ""
     ]
    }
   ],
   "source": [
    "A = toeplitz(reverse(resp), length(xn), length(xn) + length(resp) - 1)"
   ]
  },
  {
   "cell_type": "code",
   "execution_count": null,
   "metadata": {
    "collapsed": true
   },
   "outputs": [],
   "source": []
  }
 ],
 "metadata": {
  "kernelspec": {
   "display_name": "Julia 0.5.1-pre",
   "language": "julia",
   "name": "julia-0.5"
  },
  "language_info": {
   "file_extension": ".jl",
   "mimetype": "application/julia",
   "name": "julia",
   "version": "0.5.1"
  }
 },
 "nbformat": 4,
 "nbformat_minor": 0
}
