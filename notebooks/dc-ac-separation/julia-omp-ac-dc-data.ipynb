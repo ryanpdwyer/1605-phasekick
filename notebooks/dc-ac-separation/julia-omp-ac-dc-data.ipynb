{
 "cells": [
  {
   "cell_type": "code",
   "execution_count": 271,
   "metadata": {
    "collapsed": false
   },
   "outputs": [
    {
     "name": "stderr",
     "output_type": "stream",
     "text": [
      "WARNING: Method definition displayln(Any) in module Main at /Users/ryandwyer/Documents/Research/workups/1605-phasekick/notebooks/dc-ac-separation/omp.jl:5 overwritten at /Users/ryandwyer/Documents/Research/workups/1605-phasekick/notebooks/dc-ac-separation/omp.jl:5.\n",
      "WARNING: Method definition toeplitz(Any, Any, Any) in module Main at /Users/ryandwyer/Documents/Research/workups/1605-phasekick/notebooks/dc-ac-separation/omp.jl:10 overwritten at /Users/ryandwyer/Documents/Research/workups/1605-phasekick/notebooks/dc-ac-separation/omp.jl:10.\n",
      "WARNING: Method definition ctrans(ToeplitzMatrices.Toeplitz) in module Main at /Users/ryandwyer/Documents/Research/workups/1605-phasekick/notebooks/dc-ac-separation/omp.jl:21 overwritten at /Users/ryandwyer/Documents/Research/workups/1605-phasekick/notebooks/dc-ac-separation/omp.jl:21.\n",
      "WARNING: Method definition omp(ToeplitzMatrices.Toeplitz, Any, Any) in module Main at /Users/ryandwyer/Documents/Research/workups/1605-phasekick/notebooks/dc-ac-separation/omp.jl:52 overwritten at /Users/ryandwyer/Documents/Research/workups/1605-phasekick/notebooks/dc-ac-separation/omp.jl:52.\n",
      "WARNING: Method definition omp_sparse(ToeplitzMatrices.Toeplitz, Any, Any) in module Main at In[102]:6 overwritten at In[271]:6.\n"
     ]
    },
    {
     "data": {
      "text/plain": [
       "omp_sparse (generic function with 1 method)"
      ]
     },
     "execution_count": 271,
     "metadata": {},
     "output_type": "execute_result"
    }
   ],
   "source": [
    "using PyPlot;\n",
    "using HDF5;\n",
    "include(\"omp.jl\");\n",
    "\n",
    "function omp_sparse(A::Toeplitz, y, k)\n",
    "    inds = Vector{Int}()\n",
    "    r = copy(y)\n",
    "    A_ct = ctrans(A)\n",
    "    for j = 1:k\n",
    "        global xapprox\n",
    "        rX = squeeze(abs(A_ct * r''), 2)\n",
    "        sortedinds = sortperm(rX, rev=true)\n",
    "        for ind_ in sortedinds\n",
    "            if !(ind_ in inds)\n",
    "                push!(inds, ind_)\n",
    "                break\n",
    "            end\n",
    "        end\n",
    "        Aapprox = sparse(A[:, inds])\n",
    "        # Somehow I was writing the wrong number on top!\n",
    "        xapprox = inv(full(Aapprox' * Aapprox)) * (Aapprox' * y)\n",
    "        r[:] = y - Aapprox * xapprox\n",
    "    end\n",
    "    x = zeros(size(A)[2])\n",
    "    x[inds] = xapprox\n",
    "    return x\n",
    "end"
   ]
  },
  {
   "cell_type": "code",
   "execution_count": 335,
   "metadata": {
    "collapsed": false
   },
   "outputs": [
    {
     "name": "stderr",
     "output_type": "stream",
     "text": [
      "INFO: Recompiling stale cache file /Users/ryandwyer/.julia/lib/v0.5/DSP.ji for module DSP.\n",
      "WARNING: symbol is deprecated, use Symbol instead.\n",
      " in depwarn(::String, ::Symbol) at ./deprecated.jl:64\n",
      " in symbol(::String, ::Vararg{String,N}) at ./deprecated.jl:30\n",
      " in @julia_newer_than(::Any, ::Any, ::Any) at /Users/ryandwyer/.julia/v0.5/DSP/src/util.jl:29\n",
      " in include_from_node1(::String) at ./loading.jl:488\n",
      " in include_from_node1(::String) at /Users/ryandwyer/julia/usr/lib/julia/sys.dylib:?\n",
      " in include_from_node1(::String) at ./loading.jl:488\n",
      " in include_from_node1(::String) at /Users/ryandwyer/julia/usr/lib/julia/sys.dylib:?\n",
      " in macro expansion; at ./none:2 [inlined]\n",
      " in anonymous at ./<missing>:?\n",
      " in eval(::Module, ::Any) at ./boot.jl:234\n",
      " in eval(::Module, ::Any) at /Users/ryandwyer/julia/usr/lib/julia/sys.dylib:?\n",
      " in process_options(::Base.JLOptions) at ./client.jl:239\n",
      " in _start() at ./client.jl:318\n",
      " in _start() at /Users/ryandwyer/julia/usr/lib/julia/sys.dylib:?\n",
      "while loading /Users/ryandwyer/.julia/v0.5/DSP/src/util.jl, in expression starting on line 58\n",
      "WARNING: symbol is deprecated, use Symbol instead.\n",
      " in depwarn(::String, ::Symbol) at ./deprecated.jl:64\n",
      " in symbol(::String, ::Vararg{String,N}) at ./deprecated.jl:30\n",
      " in collect(::Base.Generator{UnitRange{Int64},DSP.Filters.##19#22}) at ./array.jl:307\n",
      " in macro expansion; at /Users/ryandwyer/.julia/v0.5/DSP/src/Filters/filt.jl:355 [inlined]\n",
      " in anonymous at ./<missing>:?\n",
      " in include_from_node1(::String) at ./loading.jl:488\n",
      " in include_from_node1(::String) at /Users/ryandwyer/julia/usr/lib/julia/sys.dylib:?\n",
      " in include_from_node1(::String) at ./loading.jl:488\n",
      " in include_from_node1(::String) at /Users/ryandwyer/julia/usr/lib/julia/sys.dylib:?\n",
      " in include_from_node1(::String) at ./loading.jl:488\n",
      " in include_from_node1(::String) at /Users/ryandwyer/julia/usr/lib/julia/sys.dylib:?\n",
      " in macro expansion; at ./none:2 [inlined]\n",
      " in anonymous at ./<missing>:?\n",
      " in eval(::Module, ::Any) at ./boot.jl:234\n",
      " in eval(::Module, ::Any) at /Users/ryandwyer/julia/usr/lib/julia/sys.dylib:?\n",
      " in process_options(::Base.JLOptions) at ./client.jl:239\n",
      " in _start() at ./client.jl:318\n",
      " in _start() at /Users/ryandwyer/julia/usr/lib/julia/sys.dylib:?\n",
      "while loading /Users/ryandwyer/.julia/v0.5/DSP/src/Filters/filt.jl, in expression starting on line 353\n",
      "WARNING: symbol is deprecated, use Symbol instead.\n",
      " in depwarn(::String, ::Symbol) at ./deprecated.jl:64\n",
      " in symbol(::String, ::Vararg{String,N}) at ./deprecated.jl:30\n",
      " in collect_to!(::Array{Symbol,1}, ::Base.Generator{UnitRange{Int64},DSP.Filters.##19#22}, ::Int64, ::Int64) at ./array.jl:340\n",
      " in collect(::Base.Generator{UnitRange{Int64},DSP.Filters.##19#22}) at ./array.jl:308\n",
      " in macro expansion; at /Users/ryandwyer/.julia/v0.5/DSP/src/Filters/filt.jl:355 [inlined]\n",
      " in anonymous at ./<missing>:?\n",
      " in include_from_node1(::String) at ./loading.jl:488\n",
      " in include_from_node1(::String) at /Users/ryandwyer/julia/usr/lib/julia/sys.dylib:?\n",
      " in include_from_node1(::String) at ./loading.jl:488\n",
      " in include_from_node1(::String) at /Users/ryandwyer/julia/usr/lib/julia/sys.dylib:?\n",
      " in include_from_node1(::String) at ./loading.jl:488\n",
      " in include_from_node1(::String) at /Users/ryandwyer/julia/usr/lib/julia/sys.dylib:?\n",
      " in macro expansion; at ./none:2 [inlined]\n",
      " in anonymous at ./<missing>:?\n",
      " in eval(::Module, ::Any) at ./boot.jl:234\n",
      " in eval(::Module, ::Any) at /Users/ryandwyer/julia/usr/lib/julia/sys.dylib:?\n",
      " in process_options(::Base.JLOptions) at ./client.jl:239\n",
      " in _start() at ./client.jl:318\n",
      " in _start() at /Users/ryandwyer/julia/usr/lib/julia/sys.dylib:?\n",
      "while loading /Users/ryandwyer/.julia/v0.5/DSP/src/Filters/filt.jl, in expression starting on line 353\n",
      "WARNING: Method definition digitalfilter(DSP.Filters.FilterType, DSP.Filters.FilterCoefficients) in module Filters at /Users/ryandwyer/.julia/v0.5/DSP/src/Filters/design.jl:387 overwritten at /Users/ryandwyer/.julia/v0.5/DSP/src/Filters/design.jl:389.\n"
     ]
    }
   ],
   "source": [
    "using DSP"
   ]
  },
  {
   "cell_type": "code",
   "execution_count": 272,
   "metadata": {
    "collapsed": false
   },
   "outputs": [
    {
     "data": {
      "text/plain": [
       "HDF5 data file: DC-data.h5"
      ]
     },
     "execution_count": 272,
     "metadata": {},
     "output_type": "execute_result"
    }
   ],
   "source": [
    "fh = h5open(\"DC-data.h5\", \"r\")"
   ]
  },
  {
   "cell_type": "code",
   "execution_count": 273,
   "metadata": {
    "collapsed": false
   },
   "outputs": [],
   "source": [
    "t = fh[\"20/t\"][:];\n",
    "x = fh[\"20/x\"][:];"
   ]
  },
  {
   "cell_type": "code",
   "execution_count": 274,
   "metadata": {
    "collapsed": false
   },
   "outputs": [
    {
     "data": {
      "text/plain": [
       "0.15915494309189535"
      ]
     },
     "execution_count": 274,
     "metadata": {},
     "output_type": "execute_result"
    }
   ],
   "source": [
    "tau = 1/(2*pi)"
   ]
  },
  {
   "cell_type": "code",
   "execution_count": 275,
   "metadata": {
    "collapsed": false
   },
   "outputs": [
    {
     "data": {
      "text/plain": [
       "1001"
      ]
     },
     "execution_count": 275,
     "metadata": {},
     "output_type": "execute_result"
    }
   ],
   "source": [
    "length(0:0.001:1)"
   ]
  },
  {
   "cell_type": "code",
   "execution_count": 339,
   "metadata": {
    "collapsed": false
   },
   "outputs": [
    {
     "name": "stderr",
     "output_type": "stream",
     "text": [
      "WARNING: Method definition f_LP(Any) in module Main at In[337]:2 overwritten at In[339]:2.\n"
     ]
    },
    {
     "data": {
      "text/plain": [
       "f_LP (generic function with 1 method)"
      ]
     },
     "execution_count": 339,
     "metadata": {},
     "output_type": "execute_result"
    }
   ],
   "source": [
    "function f_LP(t)\n",
    "    if t >= 0\n",
    "        return exp(-t/tau)\n",
    "    else\n",
    "        return 0.0\n",
    "    end\n",
    "end"
   ]
  },
  {
   "cell_type": "code",
   "execution_count": 343,
   "metadata": {
    "collapsed": false
   },
   "outputs": [
    {
     "data": {
      "text/plain": [
       "1102-element Array{Float64,1}:\n",
       " 0.0       \n",
       " 0.0       \n",
       " 0.0       \n",
       " 0.0       \n",
       " 0.0       \n",
       " 0.0       \n",
       " 0.0       \n",
       " 0.0       \n",
       " 0.0       \n",
       " 0.0       \n",
       " 0.0       \n",
       " 0.0       \n",
       " 0.0       \n",
       " ⋮         \n",
       " 0.00198854\n",
       " 0.00197609\n",
       " 0.00196371\n",
       " 0.00195141\n",
       " 0.00193919\n",
       " 0.00192704\n",
       " 0.00191497\n",
       " 0.00190298\n",
       " 0.00189106\n",
       " 0.00187921\n",
       " 0.00186744\n",
       " 0.00185575"
      ]
     },
     "execution_count": 343,
     "metadata": {},
     "output_type": "execute_result"
    }
   ],
   "source": [
    "_t1 = collect(-0.1:0.001:1.001)\n",
    "r1 = f_LP.(_t1)"
   ]
  },
  {
   "cell_type": "code",
   "execution_count": 344,
   "metadata": {
    "collapsed": false
   },
   "outputs": [
    {
     "data": {
      "image/png": "[encoded data removed]",
      "text/plain": [
       "PyPlot.Figure(PyObject <matplotlib.figure.Figure object at 0x34ebf3550>)"
      ]
     },
     "metadata": {},
     "output_type": "display_data"
    },
    {
     "data": {
      "text/plain": [
       "1-element Array{Any,1}:\n",
       " PyObject <matplotlib.lines.Line2D object at 0x34f9ca990>"
      ]
     },
     "execution_count": 344,
     "metadata": {},
     "output_type": "execute_result"
    }
   ],
   "source": [
    "plot(_t1, r1)"
   ]
  },
  {
   "cell_type": "code",
   "execution_count": 276,
   "metadata": {
    "collapsed": false
   },
   "outputs": [
    {
     "data": {
      "text/plain": [
       "1002-element Array{Float64,1}:\n",
       " 0.00627506\n",
       " 0.00623576\n",
       " 0.0061967 \n",
       " 0.00615789\n",
       " 0.00611932\n",
       " 0.00608099\n",
       " 0.0060429 \n",
       " 0.00600505\n",
       " 0.00596744\n",
       " 0.00593006\n",
       " 0.00589292\n",
       " 0.00585601\n",
       " 0.00581933\n",
       " ⋮         \n",
       " 1.24782e-5\n",
       " 1.24001e-5\n",
       " 1.23224e-5\n",
       " 1.22452e-5\n",
       " 1.21685e-5\n",
       " 1.20923e-5\n",
       " 1.20166e-5\n",
       " 1.19413e-5\n",
       " 1.18665e-5\n",
       " 1.17922e-5\n",
       " 1.17183e-5\n",
       " 1.16449e-5"
      ]
     },
     "execution_count": 276,
     "metadata": {},
     "output_type": "execute_result"
    }
   ],
   "source": [
    "resp = exp(- ./ tau)\n",
    "normalize!(resp, 1)"
   ]
  },
  {
   "cell_type": "code",
   "execution_count": 277,
   "metadata": {
    "collapsed": false
   },
   "outputs": [
    {
     "data": {
      "text/plain": [
       "60000-element Array{Float64,1}:\n",
       " 0.00340015\n",
       " 0.00328472\n",
       " 0.00316522\n",
       " 0.00304183\n",
       " 0.00291477\n",
       " 0.00278424\n",
       " 0.00265047\n",
       " 0.00251368\n",
       " 0.00237413\n",
       " 0.0022321 \n",
       " 0.00208787\n",
       " 0.00194173\n",
       " 0.00179393\n",
       " ⋮         \n",
       " 0.00682119\n",
       " 0.00661321\n",
       " 0.00641102\n",
       " 0.00621457\n",
       " 0.00602377\n",
       " 0.0058385 \n",
       " 0.00565862\n",
       " 0.00548394\n",
       " 0.00531429\n",
       " 0.00514943\n",
       " 0.00498916\n",
       " 0.00483322"
      ]
     },
     "execution_count": 277,
     "metadata": {},
     "output_type": "execute_result"
    }
   ],
   "source": [
    "xn = x - mean(x)"
   ]
  },
  {
   "cell_type": "code",
   "execution_count": 278,
   "metadata": {
    "collapsed": false
   },
   "outputs": [
    {
     "data": {
      "text/plain": [
       "60000-element Array{Float64,1}:\n",
       " 1.16449e-5\n",
       " 0.0       \n",
       " 0.0       \n",
       " 0.0       \n",
       " 0.0       \n",
       " 0.0       \n",
       " 0.0       \n",
       " 0.0       \n",
       " 0.0       \n",
       " 0.0       \n",
       " 0.0       \n",
       " 0.0       \n",
       " 0.0       \n",
       " ⋮         \n",
       " 0.0       \n",
       " 0.0       \n",
       " 0.0       \n",
       " 0.0       \n",
       " 0.0       \n",
       " 0.0       \n",
       " 0.0       \n",
       " 0.0       \n",
       " 0.0       \n",
       " 0.0       \n",
       " 0.0       \n",
       " 0.0       "
      ]
     },
     "metadata": {},
     "output_type": "display_data"
    },
    {
     "data": {
      "text/plain": [
       "61001-element Array{Float64,1}:\n",
       " 1.16449e-5\n",
       " 1.17183e-5\n",
       " 1.17922e-5\n",
       " 1.18665e-5\n",
       " 1.19413e-5\n",
       " 1.20166e-5\n",
       " 1.20923e-5\n",
       " 1.21685e-5\n",
       " 1.22452e-5\n",
       " 1.23224e-5\n",
       " 1.24001e-5\n",
       " 1.24782e-5\n",
       " 1.25569e-5\n",
       " ⋮         \n",
       " 0.0       \n",
       " 0.0       \n",
       " 0.0       \n",
       " 0.0       \n",
       " 0.0       \n",
       " 0.0       \n",
       " 0.0       \n",
       " 0.0       \n",
       " 0.0       \n",
       " 0.0       \n",
       " 0.0       \n",
       " 0.0       "
      ]
     },
     "metadata": {},
     "output_type": "display_data"
    },
    {
     "data": {
      "text/plain": [
       "60000×61001 ToeplitzMatrices.Toeplitz{Float64,Complex{Float64}}:\n",
       " 1.16449e-5  1.17183e-5  1.17922e-5  …  0.0         0.0         0.0       \n",
       " 0.0         1.16449e-5  1.17183e-5     0.0         0.0         0.0       \n",
       " 0.0         0.0         1.16449e-5     0.0         0.0         0.0       \n",
       " 0.0         0.0         0.0            0.0         0.0         0.0       \n",
       " 0.0         0.0         0.0            0.0         0.0         0.0       \n",
       " 0.0         0.0         0.0         …  0.0         0.0         0.0       \n",
       " 0.0         0.0         0.0            0.0         0.0         0.0       \n",
       " 0.0         0.0         0.0            0.0         0.0         0.0       \n",
       " 0.0         0.0         0.0            0.0         0.0         0.0       \n",
       " 0.0         0.0         0.0            0.0         0.0         0.0       \n",
       " 0.0         0.0         0.0         …  0.0         0.0         0.0       \n",
       " 0.0         0.0         0.0            0.0         0.0         0.0       \n",
       " 0.0         0.0         0.0            0.0         0.0         0.0       \n",
       " ⋮                                   ⋱                          ⋮         \n",
       " 0.0         0.0         0.0            0.0         0.0         0.0       \n",
       " 0.0         0.0         0.0            0.0         0.0         0.0       \n",
       " 0.0         0.0         0.0         …  0.0         0.0         0.0       \n",
       " 0.0         0.0         0.0            0.0         0.0         0.0       \n",
       " 0.0         0.0         0.0            0.0         0.0         0.0       \n",
       " 0.0         0.0         0.0            0.0         0.0         0.0       \n",
       " 0.0         0.0         0.0            0.0         0.0         0.0       \n",
       " 0.0         0.0         0.0         …  0.0         0.0         0.0       \n",
       " 0.0         0.0         0.0            0.0         0.0         0.0       \n",
       " 0.0         0.0         0.0            0.00627506  0.0         0.0       \n",
       " 0.0         0.0         0.0            0.00623576  0.00627506  0.0       \n",
       " 0.0         0.0         0.0            0.0061967   0.00623576  0.00627506"
      ]
     },
     "execution_count": 278,
     "metadata": {},
     "output_type": "execute_result"
    }
   ],
   "source": [
    "A = toeplitz(reverse(resp), length(xn), length(xn) + length(resp) - 1)"
   ]
  },
  {
   "cell_type": "code",
   "execution_count": 279,
   "metadata": {
    "collapsed": false
   },
   "outputs": [
    {
     "data": {
      "text/plain": [
       "61001×60000 ToeplitzMatrices.Toeplitz{Float64,Complex{Float64}}:\n",
       " 1.16449e-5  0.0         0.0         …  0.0         0.0         0.0       \n",
       " 1.17183e-5  1.16449e-5  0.0            0.0         0.0         0.0       \n",
       " 1.17922e-5  1.17183e-5  1.16449e-5     0.0         0.0         0.0       \n",
       " 1.18665e-5  1.17922e-5  1.17183e-5     0.0         0.0         0.0       \n",
       " 1.19413e-5  1.18665e-5  1.17922e-5     0.0         0.0         0.0       \n",
       " 1.20166e-5  1.19413e-5  1.18665e-5  …  0.0         0.0         0.0       \n",
       " 1.20923e-5  1.20166e-5  1.19413e-5     0.0         0.0         0.0       \n",
       " 1.21685e-5  1.20923e-5  1.20166e-5     0.0         0.0         0.0       \n",
       " 1.22452e-5  1.21685e-5  1.20923e-5     0.0         0.0         0.0       \n",
       " 1.23224e-5  1.22452e-5  1.21685e-5     0.0         0.0         0.0       \n",
       " 1.24001e-5  1.23224e-5  1.22452e-5  …  0.0         0.0         0.0       \n",
       " 1.24782e-5  1.24001e-5  1.23224e-5     0.0         0.0         0.0       \n",
       " 1.25569e-5  1.24782e-5  1.24001e-5     0.0         0.0         0.0       \n",
       " ⋮                                   ⋱                                    \n",
       " 0.0         0.0         0.0            0.00593006  0.00589292  0.00585601\n",
       " 0.0         0.0         0.0         …  0.00596744  0.00593006  0.00589292\n",
       " 0.0         0.0         0.0            0.00600505  0.00596744  0.00593006\n",
       " 0.0         0.0         0.0            0.0060429   0.00600505  0.00596744\n",
       " 0.0         0.0         0.0            0.00608099  0.0060429   0.00600505\n",
       " 0.0         0.0         0.0            0.00611932  0.00608099  0.0060429 \n",
       " 0.0         0.0         0.0         …  0.00615789  0.00611932  0.00608099\n",
       " 0.0         0.0         0.0            0.0061967   0.00615789  0.00611932\n",
       " 0.0         0.0         0.0            0.00623576  0.0061967   0.00615789\n",
       " 0.0         0.0         0.0            0.00627506  0.00623576  0.0061967 \n",
       " 0.0         0.0         0.0            0.0         0.00627506  0.00623576\n",
       " 0.0         0.0         0.0         …  0.0         0.0         0.00627506"
      ]
     },
     "execution_count": 279,
     "metadata": {},
     "output_type": "execute_result"
    }
   ],
   "source": [
    "Act = ctrans(A)"
   ]
  },
  {
   "cell_type": "code",
   "execution_count": 280,
   "metadata": {
    "collapsed": false
   },
   "outputs": [
    {
     "data": {
      "text/plain": [
       "61001-element Array{Int64,1}:\n",
       "  4881\n",
       "  4880\n",
       "  4882\n",
       "  4879\n",
       "  4883\n",
       "  4878\n",
       "  4884\n",
       "  4877\n",
       "  4885\n",
       "  4876\n",
       "  4886\n",
       "  4875\n",
       "  4887\n",
       "     ⋮\n",
       " 57999\n",
       " 58010\n",
       " 58000\n",
       " 58009\n",
       " 58001\n",
       " 58008\n",
       " 58002\n",
       " 58007\n",
       " 58003\n",
       " 58006\n",
       " 58004\n",
       " 58005"
      ]
     },
     "execution_count": 280,
     "metadata": {},
     "output_type": "execute_result"
    }
   ],
   "source": [
    "ind = sortperm(Act * x, rev=true)"
   ]
  },
  {
   "cell_type": "code",
   "execution_count": 281,
   "metadata": {
    "collapsed": false
   },
   "outputs": [
    {
     "ename": "LoadError",
     "evalue": "LoadError: MethodError: no method matching sparsevec()\nClosest candidates are:\n  sparsevec(!Matched::AbstractSparseArray{Tv,Ti,N}) at sparse/sparsevector.jl:259\n  sparsevec{Ti<:Integer}(!Matched::AbstractArray{Ti<:Integer,1}, !Matched::Union{AbstractArray{Bool,1},Bool}) at sparse/sparsevector.jl:129\n  sparsevec{Tv,Ti<:Integer}(!Matched::AbstractArray{Ti<:Integer,1}, !Matched::AbstractArray{Tv,1}, !Matched::Function) at sparse/sparsevector.jl:100\n  ...\nwhile loading In[281], in expression starting on line 1",
     "output_type": "error",
     "traceback": [
      "LoadError: MethodError: no method matching sparsevec()\nClosest candidates are:\n  sparsevec(!Matched::AbstractSparseArray{Tv,Ti,N}) at sparse/sparsevector.jl:259\n  sparsevec{Ti<:Integer}(!Matched::AbstractArray{Ti<:Integer,1}, !Matched::Union{AbstractArray{Bool,1},Bool}) at sparse/sparsevector.jl:129\n  sparsevec{Tv,Ti<:Integer}(!Matched::AbstractArray{Ti<:Integer,1}, !Matched::AbstractArray{Tv,1}, !Matched::Function) at sparse/sparsevector.jl:100\n  ...\nwhile loading In[281], in expression starting on line 1",
      ""
     ]
    }
   ],
   "source": [
    "sparsevec()"
   ]
  },
  {
   "cell_type": "code",
   "execution_count": 282,
   "metadata": {
    "collapsed": false
   },
   "outputs": [
    {
     "data": {
      "text/plain": [
       "60000×3 Array{Float64,2}:\n",
       " 0.0  0.0  0.0\n",
       " 0.0  0.0  0.0\n",
       " 0.0  0.0  0.0\n",
       " 0.0  0.0  0.0\n",
       " 0.0  0.0  0.0\n",
       " 0.0  0.0  0.0\n",
       " 0.0  0.0  0.0\n",
       " 0.0  0.0  0.0\n",
       " 0.0  0.0  0.0\n",
       " 0.0  0.0  0.0\n",
       " 0.0  0.0  0.0\n",
       " 0.0  0.0  0.0\n",
       " 0.0  0.0  0.0\n",
       " ⋮            \n",
       " 0.0  0.0  0.0\n",
       " 0.0  0.0  0.0\n",
       " 0.0  0.0  0.0\n",
       " 0.0  0.0  0.0\n",
       " 0.0  0.0  0.0\n",
       " 0.0  0.0  0.0\n",
       " 0.0  0.0  0.0\n",
       " 0.0  0.0  0.0\n",
       " 0.0  0.0  0.0\n",
       " 0.0  0.0  0.0\n",
       " 0.0  0.0  0.0\n",
       " 0.0  0.0  0.0"
      ]
     },
     "execution_count": 282,
     "metadata": {},
     "output_type": "execute_result"
    }
   ],
   "source": [
    "Aapprox_dense = A[:, [4042, ind[492], ind[1354]]]"
   ]
  },
  {
   "cell_type": "code",
   "execution_count": 283,
   "metadata": {
    "collapsed": false
   },
   "outputs": [
    {
     "data": {
      "text/plain": [
       "60000×3 sparse matrix with 3006 Float64 nonzero entries:\n",
       "\t[3041 ,     1]  =  0.00627506\n",
       "\t[3042 ,     1]  =  0.00623576\n",
       "\t[3043 ,     1]  =  0.0061967\n",
       "\t[3044 ,     1]  =  0.00615789\n",
       "\t[3045 ,     1]  =  0.00611932\n",
       "\t[3046 ,     1]  =  0.00608099\n",
       "\t[3047 ,     1]  =  0.0060429\n",
       "\t[3048 ,     1]  =  0.00600505\n",
       "\t[3049 ,     1]  =  0.00596744\n",
       "\t[3050 ,     1]  =  0.00593006\n",
       "\t⋮\n",
       "\t[55560,     3]  =  1.24001e-5\n",
       "\t[55561,     3]  =  1.23224e-5\n",
       "\t[55562,     3]  =  1.22452e-5\n",
       "\t[55563,     3]  =  1.21685e-5\n",
       "\t[55564,     3]  =  1.20923e-5\n",
       "\t[55565,     3]  =  1.20166e-5\n",
       "\t[55566,     3]  =  1.19413e-5\n",
       "\t[55567,     3]  =  1.18665e-5\n",
       "\t[55568,     3]  =  1.17922e-5\n",
       "\t[55569,     3]  =  1.17183e-5\n",
       "\t[55570,     3]  =  1.16449e-5"
      ]
     },
     "execution_count": 283,
     "metadata": {},
     "output_type": "execute_result"
    }
   ],
   "source": [
    "Aapprox_sparse = sparse(Aapprox_dense)"
   ]
  },
  {
   "cell_type": "code",
   "execution_count": 284,
   "metadata": {
    "collapsed": true
   },
   "outputs": [],
   "source": [
    "using BenchmarkTools"
   ]
  },
  {
   "cell_type": "code",
   "execution_count": 285,
   "metadata": {
    "collapsed": false
   },
   "outputs": [
    {
     "data": {
      "text/plain": [
       "BenchmarkTools.Trial: \n",
       "  samples:          10000\n",
       "  evals/sample:     1\n",
       "  time tolerance:   5.00%\n",
       "  memory tolerance: 1.00%\n",
       "  memory estimate:  192.00 bytes\n",
       "  allocs estimate:  2\n",
       "  minimum time:     382.55 μs (0.00% GC)\n",
       "  median time:      408.98 μs (0.00% GC)\n",
       "  mean time:        426.43 μs (0.00% GC)\n",
       "  maximum time:     912.50 μs (0.00% GC)"
      ]
     },
     "execution_count": 285,
     "metadata": {},
     "output_type": "execute_result"
    }
   ],
   "source": [
    "@benchmark Aapprox_dense' * Aapprox_dense"
   ]
  },
  {
   "cell_type": "code",
   "execution_count": 286,
   "metadata": {
    "collapsed": false
   },
   "outputs": [
    {
     "data": {
      "text/plain": [
       "BenchmarkTools.Trial: \n",
       "  samples:          7288\n",
       "  evals/sample:     1\n",
       "  time tolerance:   5.00%\n",
       "  memory tolerance: 1.00%\n",
       "  memory estimate:  2.77 kb\n",
       "  allocs estimate:  17\n",
       "  minimum time:     479.16 μs (0.00% GC)\n",
       "  median time:      517.73 μs (0.00% GC)\n",
       "  mean time:        684.34 μs (0.00% GC)\n",
       "  maximum time:     928.36 ms (0.00% GC)"
      ]
     },
     "execution_count": 286,
     "metadata": {},
     "output_type": "execute_result"
    }
   ],
   "source": [
    "@benchmark inv(Aapprox_dense' * Aapprox_dense)  * (Aapprox_dense' * x)"
   ]
  },
  {
   "cell_type": "code",
   "execution_count": 287,
   "metadata": {
    "collapsed": false
   },
   "outputs": [
    {
     "ename": "LoadError",
     "evalue": "LoadError: DimensionMismatch(\"\")\nwhile loading In[287], in expression starting on line 1",
     "output_type": "error",
     "traceback": [
      "LoadError: DimensionMismatch(\"\")\nwhile loading In[287], in expression starting on line 1",
      "",
      " in A_mul_B!(::Float64, ::SparseMatrixCSC{Float64,Int64}, ::Array{Float64,1}, ::Float64, ::Array{Float64,1}) at ./sparse/linalg.jl:55",
      " in *(::SparseMatrixCSC{Float64,Int64}, ::Array{Float64,1}) at ./linalg/matmul.jl:84"
     ]
    }
   ],
   "source": [
    "y - Aapprox_sparse * xapprox"
   ]
  },
  {
   "cell_type": "code",
   "execution_count": 288,
   "metadata": {
    "collapsed": false
   },
   "outputs": [
    {
     "data": {
      "text/plain": [
       "3-element Array{Float64,1}:\n",
       " -11.0929\n",
       "  68.1188\n",
       "  18.0225"
      ]
     },
     "execution_count": 288,
     "metadata": {},
     "output_type": "execute_result"
    }
   ],
   "source": [
    "x_approx = inv(full(Aapprox_sparse' * Aapprox_sparse))  * (Aapprox_sparse' * x)"
   ]
  },
  {
   "cell_type": "code",
   "execution_count": 289,
   "metadata": {
    "collapsed": false
   },
   "outputs": [
    {
     "data": {
      "text/plain": [
       "60000-element Array{Float64,1}:\n",
       " -0.0348287\n",
       " -0.0349441\n",
       " -0.0350636\n",
       " -0.035187 \n",
       " -0.035314 \n",
       " -0.0354446\n",
       " -0.0355783\n",
       " -0.0357151\n",
       " -0.0358547\n",
       " -0.0359967\n",
       " -0.0361409\n",
       " -0.0362871\n",
       " -0.0364349\n",
       "  ⋮        \n",
       " -0.0314076\n",
       " -0.0316156\n",
       " -0.0318178\n",
       " -0.0320142\n",
       " -0.032205 \n",
       " -0.0323903\n",
       " -0.0325702\n",
       " -0.0327449\n",
       " -0.0329145\n",
       " -0.0330794\n",
       " -0.0332397\n",
       " -0.0333956"
      ]
     },
     "execution_count": 289,
     "metadata": {},
     "output_type": "execute_result"
    }
   ],
   "source": [
    "x - Aapprox_sparse * x_approx"
   ]
  },
  {
   "cell_type": "code",
   "execution_count": 290,
   "metadata": {
    "collapsed": false
   },
   "outputs": [
    {
     "data": {
      "text/plain": [
       "Sparse vector of length 61001 with 0 Float64 nonzero entries:\n"
      ]
     },
     "execution_count": 290,
     "metadata": {},
     "output_type": "execute_result"
    }
   ],
   "source": [
    "sx = sparsevec(zeros(61001))"
   ]
  },
  {
   "cell_type": "code",
   "execution_count": 291,
   "metadata": {
    "collapsed": false
   },
   "outputs": [
    {
     "data": {
      "text/plain": [
       "61001×60000 ToeplitzMatrices.Toeplitz{Float64,Complex{Float64}}:\n",
       " 1.16449e-5  0.0         0.0         …  0.0         0.0         0.0       \n",
       " 1.17183e-5  1.16449e-5  0.0            0.0         0.0         0.0       \n",
       " 1.17922e-5  1.17183e-5  1.16449e-5     0.0         0.0         0.0       \n",
       " 1.18665e-5  1.17922e-5  1.17183e-5     0.0         0.0         0.0       \n",
       " 1.19413e-5  1.18665e-5  1.17922e-5     0.0         0.0         0.0       \n",
       " 1.20166e-5  1.19413e-5  1.18665e-5  …  0.0         0.0         0.0       \n",
       " 1.20923e-5  1.20166e-5  1.19413e-5     0.0         0.0         0.0       \n",
       " 1.21685e-5  1.20923e-5  1.20166e-5     0.0         0.0         0.0       \n",
       " 1.22452e-5  1.21685e-5  1.20923e-5     0.0         0.0         0.0       \n",
       " 1.23224e-5  1.22452e-5  1.21685e-5     0.0         0.0         0.0       \n",
       " 1.24001e-5  1.23224e-5  1.22452e-5  …  0.0         0.0         0.0       \n",
       " 1.24782e-5  1.24001e-5  1.23224e-5     0.0         0.0         0.0       \n",
       " 1.25569e-5  1.24782e-5  1.24001e-5     0.0         0.0         0.0       \n",
       " ⋮                                   ⋱                                    \n",
       " 0.0         0.0         0.0            0.00593006  0.00589292  0.00585601\n",
       " 0.0         0.0         0.0         …  0.00596744  0.00593006  0.00589292\n",
       " 0.0         0.0         0.0            0.00600505  0.00596744  0.00593006\n",
       " 0.0         0.0         0.0            0.0060429   0.00600505  0.00596744\n",
       " 0.0         0.0         0.0            0.00608099  0.0060429   0.00600505\n",
       " 0.0         0.0         0.0            0.00611932  0.00608099  0.0060429 \n",
       " 0.0         0.0         0.0         …  0.00615789  0.00611932  0.00608099\n",
       " 0.0         0.0         0.0            0.0061967   0.00615789  0.00611932\n",
       " 0.0         0.0         0.0            0.00623576  0.0061967   0.00615789\n",
       " 0.0         0.0         0.0            0.00627506  0.00623576  0.0061967 \n",
       " 0.0         0.0         0.0            0.0         0.00627506  0.00623576\n",
       " 0.0         0.0         0.0         …  0.0         0.0         0.00627506"
      ]
     },
     "execution_count": 291,
     "metadata": {},
     "output_type": "execute_result"
    }
   ],
   "source": [
    "y = xn\n",
    "k = 1\n",
    "inds = Vector{Int}()\n",
    "r = copy(y)\n",
    "A_ct = ctrans(A)"
   ]
  },
  {
   "cell_type": "code",
   "execution_count": 292,
   "metadata": {
    "collapsed": false
   },
   "outputs": [
    {
     "data": {
      "text/plain": [
       "61001-element Array{Float64,1}:\n",
       " 3.95945e-8 \n",
       " 7.80943e-8 \n",
       " 1.15445e-7 \n",
       " 1.51595e-7 \n",
       " 1.86493e-7 \n",
       " 2.2009e-7  \n",
       " 2.52342e-7 \n",
       " 2.83204e-7 \n",
       " 3.12636e-7 \n",
       " 3.40599e-7 \n",
       " 3.67059e-7 \n",
       " 3.91984e-7 \n",
       " 4.15344e-7 \n",
       " ⋮          \n",
       " 0.000421482\n",
       " 0.000381065\n",
       " 0.000341707\n",
       " 0.000303378\n",
       " 0.000266047\n",
       " 0.000229686\n",
       " 0.000194266\n",
       " 0.000159759\n",
       " 0.000126137\n",
       " 9.33742e-5 \n",
       " 6.14461e-5 \n",
       " 3.03287e-5 "
      ]
     },
     "execution_count": 292,
     "metadata": {},
     "output_type": "execute_result"
    }
   ],
   "source": [
    "A_ct * r"
   ]
  },
  {
   "cell_type": "code",
   "execution_count": 293,
   "metadata": {
    "collapsed": false
   },
   "outputs": [
    {
     "data": {
      "text/html": [
       "2 methods for generic function <b>Type</b>:<ul><li> (::<b>Type{SparseVector}</b>)<i>{Tv,Ti}</i>(n::<b>Integer</b>, nzind::<b>Array{Ti,1}</b>, nzval::<b>Array{Tv,1}</b>) at <a href=\"https://github.com/JuliaLang/julia/tree/f0d40ecdb4087db7c266f2a014bc8bade30ca296/base/sparse/sparsevector.jl#L24\" target=\"_blank\">sparse/sparsevector.jl:24</a></li> <li> (::<b>Type{T}</b>)<i>{T}</i>(arg) at <a href=\"https://github.com/JuliaLang/julia/tree/f0d40ecdb4087db7c266f2a014bc8bade30ca296/base/sysimg.jl#L53\" target=\"_blank\">sysimg.jl:53</a></li> </ul>"
      ],
      "text/plain": [
       "# 2 methods for generic function \"(::Type)\":\n",
       "(::Type{SparseVector}){Tv,Ti}(n::Integer, nzind::Array{Ti,1}, nzval::Array{Tv,1}) at sparse/sparsevector.jl:24\n",
       "(::Type{T}){T}(arg) at sysimg.jl:53"
      ]
     },
     "execution_count": 293,
     "metadata": {},
     "output_type": "execute_result"
    }
   ],
   "source": [
    "methods(SparseVector)"
   ]
  },
  {
   "cell_type": "code",
   "execution_count": 294,
   "metadata": {
    "collapsed": false
   },
   "outputs": [
    {
     "data": {
      "text/plain": [
       "(60000,61001)"
      ]
     },
     "execution_count": 294,
     "metadata": {},
     "output_type": "execute_result"
    }
   ],
   "source": [
    "size(A)"
   ]
  },
  {
   "cell_type": "code",
   "execution_count": 295,
   "metadata": {
    "collapsed": false
   },
   "outputs": [
    {
     "data": {
      "text/plain": [
       "Sparse vector of length 61001 with 0 Float64 nonzero entries:\n"
      ]
     },
     "execution_count": 295,
     "metadata": {},
     "output_type": "execute_result"
    }
   ],
   "source": [
    "x = sparsevec(Vector{Int}(),Vector{Float64}(), size(A)[2])"
   ]
  },
  {
   "cell_type": "code",
   "execution_count": 296,
   "metadata": {
    "collapsed": false
   },
   "outputs": [
    {
     "data": {
      "text/plain": [
       "2.0"
      ]
     },
     "execution_count": 296,
     "metadata": {},
     "output_type": "execute_result"
    }
   ],
   "source": [
    "x[3] = 2.0"
   ]
  },
  {
   "cell_type": "code",
   "execution_count": 297,
   "metadata": {
    "collapsed": false
   },
   "outputs": [
    {
     "name": "stdout",
     "output_type": "stream",
     "text": [
      "search: sortperm! sortperm\n",
      "\n"
     ]
    },
    {
     "data": {
      "text/markdown": [
       "```\n",
       "sortperm!(ix, v, [alg=<algorithm>,] [by=<transform>,] [lt=<comparison>,] [rev=false,] [initialized=false])\n",
       "```\n",
       "\n",
       "Like `sortperm`, but accepts a preallocated index vector `ix`.  If `initialized` is `false` (the default), ix is initialized to contain the values `1:length(v)`.\n",
       "\n",
       "See also [`sortperm`](:func:`sortperm`).\n"
      ],
      "text/plain": [
       "```\n",
       "sortperm!(ix, v, [alg=<algorithm>,] [by=<transform>,] [lt=<comparison>,] [rev=false,] [initialized=false])\n",
       "```\n",
       "\n",
       "Like `sortperm`, but accepts a preallocated index vector `ix`.  If `initialized` is `false` (the default), ix is initialized to contain the values `1:length(v)`.\n",
       "\n",
       "See also [`sortperm`](:func:`sortperm`).\n"
      ]
     },
     "execution_count": 297,
     "metadata": {},
     "output_type": "execute_result"
    }
   ],
   "source": [
    "?sortperm!"
   ]
  },
  {
   "cell_type": "code",
   "execution_count": 298,
   "metadata": {
    "collapsed": false
   },
   "outputs": [
    {
     "name": "stdout",
     "output_type": "stream",
     "text": [
      "58005\n",
      "4881\n",
      "55118\n",
      "58379\n",
      "55333\n",
      "58611\n",
      "57974\n",
      "55027\n",
      "58034\n",
      "4916\n",
      "4848\n",
      "55581\n",
      "55215\n",
      "58877\n",
      "58293\n",
      "58493\n",
      "55827\n",
      "56323\n",
      "55443\n",
      "58730\n",
      "56824\n",
      "57991\n",
      "4897\n",
      "4866\n",
      "57316\n",
      "58018\n",
      "55071\n",
      "59162\n",
      "56064\n",
      "5180\n",
      "11825\n",
      "56560\n",
      "28319\n",
      "55697\n",
      "47199\n",
      "48312\n",
      "58115\n",
      "55166\n",
      "47606\n",
      "57649\n",
      "55273\n",
      "28794\n",
      "20790\n",
      "27907\n",
      "58433\n",
      "57043\n",
      "30800\n",
      "48922\n",
      "58335\n",
      "5578\n"
     ]
    }
   ],
   "source": [
    "y = xn\n",
    "k = 50\n",
    "x = sparsevec(Vector{Int}(),Vector{Float64}(), size(A)[2])\n",
    "r = copy(y)\n",
    "A_ct = ctrans(A)\n",
    "for j = 1:k\n",
    "    rX = abs(A_ct * r)\n",
    "    sortedinds = sortperm(rX, rev=true)\n",
    "    for ind_ in sortedinds\n",
    "        if !(ind_ in x.nzind)\n",
    "            println(ind_)\n",
    "            x[ind_] = 1.0\n",
    "            break\n",
    "        end\n",
    "    end\n",
    "    Aapprox = sparse(A[:, x.nzind])\n",
    "    # Somehow I was writing the wrong number on top!\n",
    "    x.nzval[:] = inv(full(Aapprox' * Aapprox)) * (Aapprox' * y)\n",
    "    r[:] = y - Aapprox * x.nzval\n",
    "end"
   ]
  },
  {
   "cell_type": "code",
   "execution_count": 334,
   "metadata": {
    "collapsed": false
   },
   "outputs": [
    {
     "data": {
      "image/png": "[encoded data removed]",
      "text/plain": [
       "PyPlot.Figure(PyObject <matplotlib.figure.Figure object at 0x34f087dd0>)"
      ]
     },
     "metadata": {},
     "output_type": "display_data"
    },
    {
     "data": {
      "text/plain": [
       "(-50.5,-49.5)"
      ]
     },
     "execution_count": 334,
     "metadata": {},
     "output_type": "execute_result"
    }
   ],
   "source": [
    "plot(t, xn)\n",
    "plot(t, A * full(x))\n",
    "xlim(-50.5, -49.5)"
   ]
  },
  {
   "cell_type": "code",
   "execution_count": 332,
   "metadata": {
    "collapsed": false
   },
   "outputs": [
    {
     "data": {
      "text/plain": [
       "60000-element Array{Float64,1}:\n",
       " -53.9995\n",
       " -53.9985\n",
       " -53.9975\n",
       " -53.9965\n",
       " -53.9955\n",
       " -53.9945\n",
       " -53.9935\n",
       " -53.9925\n",
       " -53.9915\n",
       " -53.9905\n",
       " -53.9895\n",
       " -53.9885\n",
       " -53.9875\n",
       "   ⋮     \n",
       "   5.9885\n",
       "   5.9895\n",
       "   5.9905\n",
       "   5.9915\n",
       "   5.9925\n",
       "   5.9935\n",
       "   5.9945\n",
       "   5.9955\n",
       "   5.9965\n",
       "   5.9975\n",
       "   5.9985\n",
       "   5.9995"
      ]
     },
     "execution_count": 332,
     "metadata": {},
     "output_type": "execute_result"
    }
   ],
   "source": [
    "t"
   ]
  },
  {
   "cell_type": "code",
   "execution_count": 330,
   "metadata": {
    "collapsed": false
   },
   "outputs": [
    {
     "data": {
      "image/png": "[encoded data removed]",
      "text/plain": [
       "PyPlot.Figure(PyObject <matplotlib.figure.Figure object at 0x34ebb5b10>)"
      ]
     },
     "metadata": {},
     "output_type": "display_data"
    },
    {
     "data": {
      "text/plain": [
       "(-49175,-49075)"
      ]
     },
     "execution_count": 330,
     "metadata": {},
     "output_type": "execute_result"
    }
   ],
   "source": [
    "plot(t[x.nzind]*1e3, x.nzval, )\n",
    "xlim(-49175, -49075)"
   ]
  },
  {
   "cell_type": "code",
   "execution_count": 198,
   "metadata": {
    "collapsed": false
   },
   "outputs": [
    {
     "data": {
      "image/png": "[encoded data removed]",
      "text/plain": [
       "PyPlot.Figure(PyObject <matplotlib.figure.Figure object at 0x33fc72bd0>)"
      ]
     },
     "metadata": {},
     "output_type": "display_data"
    },
    {
     "data": {
      "text/plain": [
       "1-element Array{Any,1}:\n",
       " PyObject <matplotlib.lines.Line2D object at 0x33e145750>"
      ]
     },
     "execution_count": 198,
     "metadata": {},
     "output_type": "execute_result"
    }
   ],
   "source": [
    "plot(x)"
   ]
  },
  {
   "cell_type": "code",
   "execution_count": 181,
   "metadata": {
    "collapsed": false
   },
   "outputs": [
    {
     "data": {
      "text/plain": [
       "60000×61001 ToeplitzMatrices.Toeplitz{Float64,Complex{Float64}}:\n",
       " 0.00627506  0.00623576  0.0061967   …  0.0         0.0         0.0       \n",
       " 0.0         0.00627506  0.00623576     0.0         0.0         0.0       \n",
       " 0.0         0.0         0.00627506     0.0         0.0         0.0       \n",
       " 0.0         0.0         0.0            0.0         0.0         0.0       \n",
       " 0.0         0.0         0.0            0.0         0.0         0.0       \n",
       " 0.0         0.0         0.0         …  0.0         0.0         0.0       \n",
       " 0.0         0.0         0.0            0.0         0.0         0.0       \n",
       " 0.0         0.0         0.0            0.0         0.0         0.0       \n",
       " 0.0         0.0         0.0            0.0         0.0         0.0       \n",
       " 0.0         0.0         0.0            0.0         0.0         0.0       \n",
       " 0.0         0.0         0.0         …  0.0         0.0         0.0       \n",
       " 0.0         0.0         0.0            0.0         0.0         0.0       \n",
       " 0.0         0.0         0.0            0.0         0.0         0.0       \n",
       " ⋮                                   ⋱                          ⋮         \n",
       " 0.0         0.0         0.0            0.0         0.0         0.0       \n",
       " 0.0         0.0         0.0            0.0         0.0         0.0       \n",
       " 0.0         0.0         0.0         …  0.0         0.0         0.0       \n",
       " 0.0         0.0         0.0            0.0         0.0         0.0       \n",
       " 0.0         0.0         0.0            0.0         0.0         0.0       \n",
       " 0.0         0.0         0.0            0.0         0.0         0.0       \n",
       " 0.0         0.0         0.0            0.0         0.0         0.0       \n",
       " 0.0         0.0         0.0         …  0.0         0.0         0.0       \n",
       " 0.0         0.0         0.0            0.0         0.0         0.0       \n",
       " 0.0         0.0         0.0            1.16449e-5  0.0         0.0       \n",
       " 0.0         0.0         0.0            1.17183e-5  1.16449e-5  0.0       \n",
       " 0.0         0.0         0.0            1.17922e-5  1.17183e-5  1.16449e-5"
      ]
     },
     "execution_count": 181,
     "metadata": {},
     "output_type": "execute_result"
    }
   ],
   "source": [
    "A"
   ]
  },
  {
   "cell_type": "code",
   "execution_count": 180,
   "metadata": {
    "collapsed": false
   },
   "outputs": [
    {
     "data": {
      "image/png": "[encoded data removed]",
      "text/plain": [
       "PyPlot.Figure(PyObject <matplotlib.figure.Figure object at 0x33c06bdd0>)"
      ]
     },
     "metadata": {},
     "output_type": "display_data"
    },
    {
     "data": {
      "text/plain": [
       "1-element Array{Any,1}:\n",
       " PyObject <matplotlib.lines.Line2D object at 0x342a624d0>"
      ]
     },
     "execution_count": 180,
     "metadata": {},
     "output_type": "execute_result"
    }
   ],
   "source": [
    "plot(A * full(x))"
   ]
  },
  {
   "cell_type": "code",
   "execution_count": 311,
   "metadata": {
    "collapsed": false
   },
   "outputs": [
    {
     "data": {
      "image/png": "[encoded data removed]",
      "text/plain": [
       "PyPlot.Figure(PyObject <matplotlib.figure.Figure object at 0x349116d90>)"
      ]
     },
     "metadata": {},
     "output_type": "display_data"
    },
    {
     "data": {
      "text/plain": [
       "(2000,8000)"
      ]
     },
     "execution_count": 311,
     "metadata": {},
     "output_type": "execute_result"
    }
   ],
   "source": [
    "plot(xn-r)\n",
    "plot(xn)\n",
    "xlim(2000, 8000)"
   ]
  },
  {
   "cell_type": "code",
   "execution_count": 526,
   "metadata": {
    "collapsed": false
   },
   "outputs": [
    {
     "data": {
      "text/plain": [
       "sparse_sum (generic function with 1 method)"
      ]
     },
     "execution_count": 526,
     "metadata": {},
     "output_type": "execute_result"
    }
   ],
   "source": [
    "function sparse_sum(x)\n",
    "    vals = cumsum(x.nzval)\n",
    "    inds = x.nzind\n",
    "    return inds, vals\n",
    "end"
   ]
  },
  {
   "cell_type": "code",
   "execution_count": 528,
   "metadata": {
    "collapsed": false
   },
   "outputs": [
    {
     "data": {
      "text/plain": [
       "([5248,5461,12194,21150,28687,29160,47567,47972,48677,55384  …  57983,58372,58481,58661,58764,58888,59026,59132,59268,59538],[279.013,287.173,280.6,275.891,269.974,264.896,270.559,276.023,281.707,317.279  …  496.751,157.653,170.128,140.624,111.287,88.0086,73.1263,62.8194,52.3658,45.487])"
      ]
     },
     "execution_count": 528,
     "metadata": {},
     "output_type": "execute_result"
    }
   ],
   "source": [
    "xi, xsum = sparse_sum(x)"
   ]
  },
  {
   "cell_type": "code",
   "execution_count": 531,
   "metadata": {
    "collapsed": false
   },
   "outputs": [
    {
     "data": {
      "image/png": "[encoded data removed]",
      "text/plain": [
       "PyPlot.Figure(PyObject <matplotlib.figure.Figure object at 0x343780b50>)"
      ]
     },
     "metadata": {},
     "output_type": "display_data"
    },
    {
     "data": {
      "text/plain": [
       "(0,525)"
      ]
     },
     "execution_count": 531,
     "metadata": {},
     "output_type": "execute_result"
    }
   ],
   "source": [
    "plot(xi, xsum, \"o\")\n",
    "ylim(0, 525)"
   ]
  },
  {
   "cell_type": "code",
   "execution_count": 163,
   "metadata": {
    "collapsed": false
   },
   "outputs": [
    {
     "data": {
      "text/plain": [
       "2-element Array{Float64,1}:\n",
       "  203.751\n",
       " -239.242"
      ]
     },
     "execution_count": 163,
     "metadata": {},
     "output_type": "execute_result"
    }
   ],
   "source": [
    "x.nzval[:] = "
   ]
  },
  {
   "cell_type": "code",
   "execution_count": 103,
   "metadata": {
    "collapsed": false
   },
   "outputs": [
    {
     "ename": "LoadError",
     "evalue": "LoadError: InterruptException:\nwhile loading In[103], in expression starting on line 1",
     "output_type": "error",
     "traceback": [
      "LoadError: InterruptException:\nwhile loading In[103], in expression starting on line 1",
      "",
      " in omp_sparse(::ToeplitzMatrices.Toeplitz{Float64,Complex{Float64}}, ::Array{Float64,1}, ::Int64) at ./In[102]:11"
     ]
    }
   ],
   "source": [
    "xr = omp_sparse(A, xn, 2)"
   ]
  },
  {
   "cell_type": "code",
   "execution_count": 310,
   "metadata": {
    "collapsed": false
   },
   "outputs": [
    {
     "ename": "LoadError",
     "evalue": "LoadError: PyError (:PyObject_Call) <type 'exceptions.ValueError'>\nValueError(u'x and y must have same first dimension, but have shapes (60000,) and (61001,)',)\n  File \"/Users/ryandwyer/anaconda/lib/python2.7/site-packages/matplotlib/pyplot.py\", line 3158, in plot\n    ret = ax.plot(*args, **kwargs)\n  File \"/Users/ryandwyer/anaconda/lib/python2.7/site-packages/matplotlib/__init__.py\", line 1857, in inner\n    return func(ax, *args, **kwargs)\n  File \"/Users/ryandwyer/anaconda/lib/python2.7/site-packages/matplotlib/axes/_axes.py\", line 1383, in plot\n    for line in self._get_lines(*args, **kwargs):\n  File \"/Users/ryandwyer/anaconda/lib/python2.7/site-packages/matplotlib/axes/_base.py\", line 403, in _grab_next_args\n    for seg in self._plot_args(remaining, kwargs):\n  File \"/Users/ryandwyer/anaconda/lib/python2.7/site-packages/matplotlib/axes/_base.py\", line 381, in _plot_args\n    x, y = self._xy_from_xy(x, y)\n  File \"/Users/ryandwyer/anaconda/lib/python2.7/site-packages/matplotlib/axes/_base.py\", line 240, in _xy_from_xy\n    \"have shapes {} and {}\".format(x.shape, y.shape))\n\nwhile loading In[310], in expression starting on line 1",
     "output_type": "error",
     "traceback": [
      "LoadError: PyError (:PyObject_Call) <type 'exceptions.ValueError'>\nValueError(u'x and y must have same first dimension, but have shapes (60000,) and (61001,)',)\n  File \"/Users/ryandwyer/anaconda/lib/python2.7/site-packages/matplotlib/pyplot.py\", line 3158, in plot\n    ret = ax.plot(*args, **kwargs)\n  File \"/Users/ryandwyer/anaconda/lib/python2.7/site-packages/matplotlib/__init__.py\", line 1857, in inner\n    return func(ax, *args, **kwargs)\n  File \"/Users/ryandwyer/anaconda/lib/python2.7/site-packages/matplotlib/axes/_axes.py\", line 1383, in plot\n    for line in self._get_lines(*args, **kwargs):\n  File \"/Users/ryandwyer/anaconda/lib/python2.7/site-packages/matplotlib/axes/_base.py\", line 403, in _grab_next_args\n    for seg in self._plot_args(remaining, kwargs):\n  File \"/Users/ryandwyer/anaconda/lib/python2.7/site-packages/matplotlib/axes/_base.py\", line 381, in _plot_args\n    x, y = self._xy_from_xy(x, y)\n  File \"/Users/ryandwyer/anaconda/lib/python2.7/site-packages/matplotlib/axes/_base.py\", line 240, in _xy_from_xy\n    \"have shapes {} and {}\".format(x.shape, y.shape))\n\nwhile loading In[310], in expression starting on line 1",
      "",
      " in pyerr_check at /Users/ryandwyer/.julia/v0.5/PyCall/src/exception.jl:56 [inlined]",
      " in pyerr_check at /Users/ryandwyer/.julia/v0.5/PyCall/src/exception.jl:61 [inlined]",
      " in macro expansion at /Users/ryandwyer/.julia/v0.5/PyCall/src/exception.jl:81 [inlined]",
      " in #_pycall#62(::Array{Any,1}, ::Function, ::PyCall.PyObject, ::Array{Float64,1}, ::Vararg{Any,N}) at /Users/ryandwyer/.julia/v0.5/PyCall/src/PyCall.jl:546",
      " in _pycall(::PyCall.PyObject, ::Array{Float64,1}, ::Vararg{Any,N}) at /Users/ryandwyer/.julia/v0.5/PyCall/src/PyCall.jl:534",
      " in #pycall#66(::Array{Any,1}, ::Function, ::PyCall.PyObject, ::Type{PyCall.PyAny}, ::Array{Float64,1}, ::Vararg{Any,N}) at /Users/ryandwyer/.julia/v0.5/PyCall/src/PyCall.jl:568",
      " in pycall(::PyCall.PyObject, ::Type{PyCall.PyAny}, ::Array{Float64,1}, ::Vararg{Any,N}) at /Users/ryandwyer/.julia/v0.5/PyCall/src/PyCall.jl:568",
      " in #plot#84(::Array{Any,1}, ::Function, ::Array{Float64,1}, ::Vararg{Any,N}) at /Users/ryandwyer/.julia/v0.5/PyPlot/src/PyPlot.jl:460",
      " in plot(::Array{Float64,1}, ::Vararg{Any,N}) at /Users/ryandwyer/.julia/v0.5/PyPlot/src/PyPlot.jl:457"
     ]
    }
   ],
   "source": [
    "plot(t, x)\n",
    "plot(t, xr[501:end-501]/150)"
   ]
  }
 ],
 "metadata": {
  "kernelspec": {
   "display_name": "Julia 0.5.1-pre",
   "language": "julia",
   "name": "julia-0.5"
  },
  "language_info": {
   "file_extension": ".jl",
   "mimetype": "application/julia",
   "name": "julia",
   "version": "0.5.1"
  }
 },
 "nbformat": 4,
 "nbformat_minor": 0
}
