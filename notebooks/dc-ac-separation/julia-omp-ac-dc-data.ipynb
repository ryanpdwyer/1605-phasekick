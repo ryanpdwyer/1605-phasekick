{
 "cells": [
  {
   "cell_type": "code",
   "execution_count": 1,
   "metadata": {
    "collapsed": false
   },
   "outputs": [
    {
     "name": "stderr",
     "output_type": "stream",
     "text": [
      "WARNING: Base.ASCIIString is deprecated, use String instead.\n",
      "  likely near /Users/ryandwyer/.julia/v0.5/PyPlot/src/PyPlot.jl:24\n",
      "WARNING: Base.ASCIIString is deprecated, use String instead.\n",
      "  likely near /Users/ryandwyer/.julia/v0.5/PyPlot/src/PyPlot.jl:24\n",
      "WARNING: Base.ASCIIString is deprecated, use String instead.\n",
      "  likely near /Users/ryandwyer/.julia/v0.5/PyPlot/src/PyPlot.jl:24\n",
      "WARNING: Base.ASCIIString is deprecated, use String instead.\n",
      "  likely near /Users/ryandwyer/.julia/v0.5/PyPlot/src/PyPlot.jl:24\n",
      "WARNING: Base.ASCIIString is deprecated, use String instead.\n",
      "  likely near /Users/ryandwyer/.julia/v0.5/PyPlot/src/PyPlot.jl:24\n",
      "WARNING: Base.writemime is deprecated.\n",
      "  likely near /Users/ryandwyer/.julia/v0.5/PyPlot/src/PyPlot.jl:32\n",
      "\u001b[1m\u001b[31mWARNING: `@linux` is deprecated, use `@static is_linux()` instead\u001b[0m\n",
      " in depwarn(::String, ::Symbol) at ./deprecated.jl:64\n",
      " in depwarn(::String, ::Symbol) at /Users/ryandwyer/julia/usr/lib/julia/sys.dylib:?\n",
      " in @linux(::Any, ::Any) at ./deprecated.jl:485\n",
      " in include_from_node1(::String) at ./loading.jl:488\n",
      " in include_from_node1(::String) at /Users/ryandwyer/julia/usr/lib/julia/sys.dylib:?\n",
      " in eval(::Module, ::Any) at ./boot.jl:234\n",
      " in eval(::Module, ::Any) at /Users/ryandwyer/julia/usr/lib/julia/sys.dylib:?\n",
      " in require(::Symbol) at ./loading.jl:415\n",
      " in require(::Symbol) at /Users/ryandwyer/julia/usr/lib/julia/sys.dylib:?\n",
      " in include_string(::String, ::String) at ./loading.jl:441\n",
      " in execute_request(::ZMQ.Socket, ::IJulia.Msg) at /Users/ryandwyer/.julia/v0.5/IJulia/src/execute_request.jl:157\n",
      " in eventloop(::ZMQ.Socket) at /Users/ryandwyer/.julia/v0.5/IJulia/src/eventloop.jl:8\n",
      " in (::IJulia.##13#19)() at ./task.jl:360\n",
      "while loading /Users/ryandwyer/.julia/v0.5/PyPlot/src/PyPlot.jl, in expression starting on line 131\n",
      "WARNING: Base.writemime is deprecated.\n",
      "  likely near /Users/ryandwyer/.julia/v0.5/PyPlot/src/PyPlot.jl:316\n",
      "\u001b[1m\u001b[31mWARNING: symbol is deprecated, use Symbol instead.\u001b[0m\n",
      " in depwarn(::String, ::Symbol) at ./deprecated.jl:64\n",
      " in symbol(::String, ::Vararg{String,N}) at ./deprecated.jl:30\n",
      " in macro expansion; at /Users/ryandwyer/.julia/v0.5/PyPlot/src/PyPlot.jl:317 [inlined]\n",
      " in anonymous at ./<missing>:?\n",
      " in include_from_node1(::String) at ./loading.jl:488\n",
      " in include_from_node1(::String) at /Users/ryandwyer/julia/usr/lib/julia/sys.dylib:?\n",
      " in eval(::Module, ::Any) at ./boot.jl:234\n",
      " in eval(::Module, ::Any) at /Users/ryandwyer/julia/usr/lib/julia/sys.dylib:?\n",
      " in require(::Symbol) at ./loading.jl:415\n",
      " in require(::Symbol) at /Users/ryandwyer/julia/usr/lib/julia/sys.dylib:?\n",
      " in include_string(::String, ::String) at ./loading.jl:441\n",
      " in execute_request(::ZMQ.Socket, ::IJulia.Msg) at /Users/ryandwyer/.julia/v0.5/IJulia/src/execute_request.jl:157\n",
      " in eventloop(::ZMQ.Socket) at /Users/ryandwyer/.julia/v0.5/IJulia/src/eventloop.jl:8\n",
      " in (::IJulia.##13#19)() at ./task.jl:360\n",
      "while loading /Users/ryandwyer/.julia/v0.5/PyPlot/src/PyPlot.jl, in expression starting on line 316\n",
      "WARNING: Base.writemime is deprecated.\n",
      "  likely near /Users/ryandwyer/.julia/v0.5/PyPlot/src/PyPlot.jl:316\n",
      "WARNING: Base.writemime is deprecated.\n",
      "  likely near /Users/ryandwyer/.julia/v0.5/PyPlot/src/PyPlot.jl:316\n",
      "WARNING: Base.writemime is deprecated.\n",
      "  likely near /Users/ryandwyer/.julia/v0.5/PyPlot/src/PyPlot.jl:316\n",
      "WARNING: Base.writemime is deprecated.\n",
      "  likely near /Users/ryandwyer/.julia/v0.5/PyPlot/src/PyPlot.jl:316\n",
      "WARNING: Base.writemime is deprecated.\n",
      "  likely near /Users/ryandwyer/.julia/v0.5/PyPlot/src/PyPlot.jl:316\n",
      "WARNING: Base.writemime is deprecated.\n",
      "  likely near /Users/ryandwyer/.julia/v0.5/PyPlot/src/PyPlot.jl:316\n",
      "WARNING: Base.writemime is deprecated.\n",
      "  likely near /Users/ryandwyer/.julia/v0.5/PyPlot/src/PyPlot.jl:316\n",
      "WARNING: Base.writemime is deprecated.\n",
      "  likely near /Users/ryandwyer/.julia/v0.5/PyPlot/src/PyPlot.jl:316\n",
      "WARNING: Base.writemime is deprecated.\n",
      "  likely near /Users/ryandwyer/.julia/v0.5/PyPlot/src/PyPlot.jl:316\n",
      "WARNING: Base.writemime is deprecated.\n",
      "  likely near /Users/ryandwyer/.julia/v0.5/PyPlot/src/PyPlot.jl:316\n",
      "WARNING: Base.writemime is deprecated.\n",
      "  likely near /Users/ryandwyer/.julia/v0.5/PyPlot/src/PyPlot.jl:316\n",
      "WARNING: Base.ASCIIString is deprecated, use String instead.\n",
      "  likely near /Users/ryandwyer/.julia/v0.5/PyPlot/src/PyPlot.jl:481\n",
      "WARNING: Base.ASCIIString is deprecated, use String instead.\n",
      "  likely near /Users/ryandwyer/.julia/v0.5/PyPlot/src/PyPlot.jl:481\n",
      "WARNING: Base.ASCIIString is deprecated, use String instead.\n",
      "  likely near /Users/ryandwyer/.julia/v0.5/PyPlot/src/PyPlot.jl:481\n",
      "WARNING: Base.ASCIIString is deprecated, use String instead.\n",
      "  likely near /Users/ryandwyer/.julia/v0.5/PyPlot/src/PyPlot.jl:481\n",
      "WARNING: Base.ASCIIString is deprecated, use String instead.\n",
      "  likely near /Users/ryandwyer/.julia/v0.5/PyPlot/src/PyPlot.jl:481\n",
      "WARNING: Base.ASCIIString is deprecated, use String instead.\n",
      "  likely near /Users/ryandwyer/.julia/v0.5/PyPlot/src/PyPlot.jl:481\n",
      "WARNING: Base.writemime is deprecated.\n",
      "  likely near /Users/ryandwyer/.julia/v0.5/PyPlot/src/colormaps.jl:157\n",
      "WARNING: Base.writemime is deprecated.\n",
      "  likely near /Users/ryandwyer/.julia/v0.5/PyPlot/src/colormaps.jl:157\n",
      "WARNING: Base.writemime is deprecated.\n",
      "  likely near /Users/ryandwyer/.julia/v0.5/PyPlot/src/colormaps.jl:188\n",
      "WARNING: Base.writemime is deprecated.\n",
      "  likely near /Users/ryandwyer/.julia/v0.5/PyPlot/src/colormaps.jl:188\n",
      "WARNING: Base.ASCIIString is deprecated, use String instead.\n",
      "  likely near /Users/ryandwyer/.julia/v0.5/PyPlot/src/PyPlot.jl:481\n",
      "WARNING: Base.ASCIIString is deprecated, use String instead.\n",
      "  likely near /Users/ryandwyer/.julia/v0.5/PyPlot/src/PyPlot.jl:481\n",
      "WARNING: Base.ASCIIString is deprecated, use String instead.\n",
      "  likely near /Users/ryandwyer/.julia/v0.5/PyPlot/src/PyPlot.jl:481\n"
     ]
    },
    {
     "data": {
      "text/plain": [
       "omp_sparse (generic function with 1 method)"
      ]
     },
     "execution_count": 1,
     "metadata": {},
     "output_type": "execute_result"
    }
   ],
   "source": [
    "using PyPlot;\n",
    "using HDF5;\n",
    "include(\"omp.jl\");\n",
    "\n",
    "function omp_sparse(A::Toeplitz, y, k)\n",
    "    inds = Vector{Int}()\n",
    "    r = copy(y)\n",
    "    A_ct = ctrans(A)\n",
    "    for j = 1:k\n",
    "        global xapprox\n",
    "        rX = squeeze(abs(A_ct * r''), 2)\n",
    "        sortedinds = sortperm(rX, rev=true)\n",
    "        for ind_ in sortedinds\n",
    "            if !(ind_ in inds)\n",
    "                push!(inds, ind_)\n",
    "                break\n",
    "            end\n",
    "        end\n",
    "        Aapprox = sparse(A[:, inds])\n",
    "        # Somehow I was writing the wrong number on top!\n",
    "        xapprox = inv(full(Aapprox' * Aapprox)) * (Aapprox' * y)\n",
    "        r[:] = y - Aapprox * xapprox\n",
    "    end\n",
    "    x = zeros(size(A)[2])\n",
    "    x[inds] = xapprox\n",
    "    return x\n",
    "end"
   ]
  },
  {
   "cell_type": "code",
   "execution_count": 2,
   "metadata": {
    "collapsed": false
   },
   "outputs": [],
   "source": [
    "using DSP"
   ]
  },
  {
   "cell_type": "code",
   "execution_count": 3,
   "metadata": {
    "collapsed": false
   },
   "outputs": [
    {
     "data": {
      "text/plain": [
       "HDF5 data file: DC-data.h5"
      ]
     },
     "execution_count": 3,
     "metadata": {},
     "output_type": "execute_result"
    }
   ],
   "source": [
    "fh = h5open(\"DC-data.h5\", \"r\")"
   ]
  },
  {
   "cell_type": "code",
   "execution_count": 4,
   "metadata": {
    "collapsed": false
   },
   "outputs": [],
   "source": [
    "t = fh[\"20/t\"][:];\n",
    "x = fh[\"20/x\"][:];"
   ]
  },
  {
   "cell_type": "code",
   "execution_count": 5,
   "metadata": {
    "collapsed": false
   },
   "outputs": [
    {
     "data": {
      "text/html": [
       "0.15915494309189535"
      ],
      "text/plain": [
       "0.15915494309189535"
      ]
     },
     "execution_count": 5,
     "metadata": {},
     "output_type": "execute_result"
    }
   ],
   "source": [
    "tau = 1/(2*pi)"
   ]
  },
  {
   "cell_type": "code",
   "execution_count": 6,
   "metadata": {
    "collapsed": false
   },
   "outputs": [
    {
     "data": {
      "text/html": [
       "1001"
      ],
      "text/plain": [
       "1001"
      ]
     },
     "execution_count": 6,
     "metadata": {},
     "output_type": "execute_result"
    }
   ],
   "source": [
    "length(0:0.001:1)"
   ]
  },
  {
   "cell_type": "code",
   "execution_count": 7,
   "metadata": {
    "collapsed": false
   },
   "outputs": [
    {
     "data": {
      "text/plain": [
       "f_LP (generic function with 1 method)"
      ]
     },
     "execution_count": 7,
     "metadata": {},
     "output_type": "execute_result"
    }
   ],
   "source": [
    "function f_LP(t)\n",
    "    if t >= 0\n",
    "        return exp(-t/tau)\n",
    "    else\n",
    "        return 0.0\n",
    "    end\n",
    "end"
   ]
  },
  {
   "cell_type": "code",
   "execution_count": 8,
   "metadata": {
    "collapsed": false
   },
   "outputs": [
    {
     "data": {
      "text/plain": [
       "1102-element Array{Float64,1}:\n",
       " 0.0       \n",
       " 0.0       \n",
       " 0.0       \n",
       " 0.0       \n",
       " 0.0       \n",
       " 0.0       \n",
       " 0.0       \n",
       " 0.0       \n",
       " 0.0       \n",
       " 0.0       \n",
       " 0.0       \n",
       " 0.0       \n",
       " 0.0       \n",
       " ⋮         \n",
       " 0.00198854\n",
       " 0.00197609\n",
       " 0.00196371\n",
       " 0.00195141\n",
       " 0.00193919\n",
       " 0.00192704\n",
       " 0.00191497\n",
       " 0.00190298\n",
       " 0.00189106\n",
       " 0.00187921\n",
       " 0.00186744\n",
       " 0.00185575"
      ]
     },
     "execution_count": 8,
     "metadata": {},
     "output_type": "execute_result"
    }
   ],
   "source": [
    "_t1 = collect(-0.1:0.001:1.001)\n",
    "r1 = f_LP.(_t1)"
   ]
  },
  {
   "cell_type": "code",
   "execution_count": 9,
   "metadata": {
    "collapsed": false
   },
   "outputs": [
    {
     "name": "stderr",
     "output_type": "stream",
     "text": [
      "WARNING: Base.writemime is deprecated.\n",
      "  likely near In[9]:1\n",
      "WARNING: Base.writemime is deprecated.\n",
      "  likely near In[9]:1\n",
      "WARNING: Base.writemime is deprecated.\n",
      "  likely near In[9]:1\n",
      "WARNING: Base.writemime is deprecated.\n",
      "  likely near In[9]:1\n",
      "WARNING: Base.writemime is deprecated.\n",
      "  likely near In[9]:1\n",
      "WARNING: Base.writemime is deprecated.\n",
      "  likely near In[9]:1\n",
      "WARNING: Base.writemime is deprecated.\n",
      "  likely near In[9]:1\n",
      "WARNING: Base.writemime is deprecated.\n",
      "  likely near In[9]:1\n",
      "WARNING: Base.writemime is deprecated.\n",
      "  likely near In[9]:1\n",
      "WARNING: Base.writemime is deprecated.\n",
      "  likely near In[9]:1\n",
      "WARNING: Base.writemime is deprecated.\n",
      "  likely near In[9]:1\n",
      "WARNING: Base.writemime is deprecated.\n",
      "  likely near In[9]:1\n",
      "WARNING: Base.writemime is deprecated.\n",
      "  likely near In[9]:1\n",
      "WARNING: Base.writemime is deprecated.\n",
      "  likely near In[9]:1\n",
      "WARNING: Base.writemime is deprecated.\n",
      "  likely near In[9]:1\n",
      "WARNING: Base.writemime is deprecated.\n",
      "  likely near In[9]:1\n"
     ]
    },
    {
     "data": {
      "image/png": "[encoded data removed]",
      "text/plain": [
       "PyPlot.Figure(PyObject <matplotlib.figure.Figure object at 0x32adb5710>)"
      ]
     },
     "metadata": {},
     "output_type": "display_data"
    },
    {
     "data": {
      "text/plain": [
       "1-element Array{Any,1}:\n",
       " PyObject <matplotlib.lines.Line2D object at 0x32ae52ed0>"
      ]
     },
     "execution_count": 9,
     "metadata": {},
     "output_type": "execute_result"
    }
   ],
   "source": [
    "plot(_t1, r1)"
   ]
  },
  {
   "cell_type": "code",
   "execution_count": 21,
   "metadata": {
    "collapsed": false
   },
   "outputs": [
    {
     "data": {
      "text/plain": [
       "60000-element Array{Float64,1}:\n",
       " 0.00626349  \n",
       " 0.00622426  \n",
       " 0.00618527  \n",
       " 0.00614653  \n",
       " 0.00610803  \n",
       " 0.00606977  \n",
       " 0.00603175  \n",
       " 0.00599398  \n",
       " 0.00595643  \n",
       " 0.00591912  \n",
       " 0.00588205  \n",
       " 0.00584521  \n",
       " 0.0058086   \n",
       " ⋮           \n",
       " 1.27174e-166\n",
       " 1.26378e-166\n",
       " 1.25586e-166\n",
       " 1.24799e-166\n",
       " 1.24018e-166\n",
       " 1.23241e-166\n",
       " 1.22469e-166\n",
       " 1.21702e-166\n",
       " 1.2094e-166 \n",
       " 1.20182e-166\n",
       " 1.19429e-166\n",
       " 1.18681e-166"
      ]
     },
     "execution_count": 21,
     "metadata": {},
     "output_type": "execute_result"
    }
   ],
   "source": [
    "resp = exp(- t ./ tau)\n",
    "normalize!(resp, 1)"
   ]
  },
  {
   "cell_type": "code",
   "execution_count": 22,
   "metadata": {
    "collapsed": false
   },
   "outputs": [
    {
     "data": {
      "text/plain": [
       "60000-element Array{Float64,1}:\n",
       " 0.00340015\n",
       " 0.00328472\n",
       " 0.00316522\n",
       " 0.00304183\n",
       " 0.00291477\n",
       " 0.00278424\n",
       " 0.00265047\n",
       " 0.00251368\n",
       " 0.00237413\n",
       " 0.0022321 \n",
       " 0.00208787\n",
       " 0.00194173\n",
       " 0.00179393\n",
       " ⋮         \n",
       " 0.00682119\n",
       " 0.00661321\n",
       " 0.00641102\n",
       " 0.00621457\n",
       " 0.00602377\n",
       " 0.0058385 \n",
       " 0.00565862\n",
       " 0.00548394\n",
       " 0.00531429\n",
       " 0.00514943\n",
       " 0.00498916\n",
       " 0.00483322"
      ]
     },
     "execution_count": 22,
     "metadata": {},
     "output_type": "execute_result"
    }
   ],
   "source": [
    "xn = x - mean(x)"
   ]
  },
  {
   "cell_type": "code",
   "execution_count": 23,
   "metadata": {
    "collapsed": false
   },
   "outputs": [
    {
     "data": {
      "text/plain": [
       "60000-element Array{Float64,1}:\n",
       " 1.18681e-166\n",
       " 0.0         \n",
       " 0.0         \n",
       " 0.0         \n",
       " 0.0         \n",
       " 0.0         \n",
       " 0.0         \n",
       " 0.0         \n",
       " 0.0         \n",
       " 0.0         \n",
       " 0.0         \n",
       " 0.0         \n",
       " 0.0         \n",
       " ⋮           \n",
       " 0.0         \n",
       " 0.0         \n",
       " 0.0         \n",
       " 0.0         \n",
       " 0.0         \n",
       " 0.0         \n",
       " 0.0         \n",
       " 0.0         \n",
       " 0.0         \n",
       " 0.0         \n",
       " 0.0         \n",
       " 0.0         "
      ]
     },
     "metadata": {},
     "output_type": "display_data"
    },
    {
     "data": {
      "text/plain": [
       "119999-element Array{Float64,1}:\n",
       " 1.18681e-166\n",
       " 1.19429e-166\n",
       " 1.20182e-166\n",
       " 1.2094e-166 \n",
       " 1.21702e-166\n",
       " 1.22469e-166\n",
       " 1.23241e-166\n",
       " 1.24018e-166\n",
       " 1.24799e-166\n",
       " 1.25586e-166\n",
       " 1.26378e-166\n",
       " 1.27174e-166\n",
       " 1.27976e-166\n",
       " ⋮           \n",
       " 0.0         \n",
       " 0.0         \n",
       " 0.0         \n",
       " 0.0         \n",
       " 0.0         \n",
       " 0.0         \n",
       " 0.0         \n",
       " 0.0         \n",
       " 0.0         \n",
       " 0.0         \n",
       " 0.0         \n",
       " 0.0         "
      ]
     },
     "metadata": {},
     "output_type": "display_data"
    },
    {
     "data": {
      "text/plain": [
       "60000×119999 ToeplitzMatrices.Toeplitz{Float64,Complex{Float64}}:\n",
       " 1.18681e-166  1.19429e-166  …  0.0         0.0         0.0       \n",
       " 0.0           1.18681e-166     0.0         0.0         0.0       \n",
       " 0.0           0.0              0.0         0.0         0.0       \n",
       " 0.0           0.0              0.0         0.0         0.0       \n",
       " 0.0           0.0              0.0         0.0         0.0       \n",
       " 0.0           0.0           …  0.0         0.0         0.0       \n",
       " 0.0           0.0              0.0         0.0         0.0       \n",
       " 0.0           0.0              0.0         0.0         0.0       \n",
       " 0.0           0.0              0.0         0.0         0.0       \n",
       " 0.0           0.0              0.0         0.0         0.0       \n",
       " 0.0           0.0           …  0.0         0.0         0.0       \n",
       " 0.0           0.0              0.0         0.0         0.0       \n",
       " 0.0           0.0              0.0         0.0         0.0       \n",
       " ⋮                           ⋱                                    \n",
       " 0.0           0.0              0.0         0.0         0.0       \n",
       " 0.0           0.0              0.0         0.0         0.0       \n",
       " 0.0           0.0           …  0.0         0.0         0.0       \n",
       " 0.0           0.0              0.0         0.0         0.0       \n",
       " 0.0           0.0              0.0         0.0         0.0       \n",
       " 0.0           0.0              0.0         0.0         0.0       \n",
       " 0.0           0.0              0.0         0.0         0.0       \n",
       " 0.0           0.0           …  0.0         0.0         0.0       \n",
       " 0.0           0.0              0.0         0.0         0.0       \n",
       " 0.0           0.0              0.00626349  0.0         0.0       \n",
       " 0.0           0.0              0.00622426  0.00626349  0.0       \n",
       " 0.0           0.0              0.00618527  0.00622426  0.00626349"
      ]
     },
     "execution_count": 23,
     "metadata": {},
     "output_type": "execute_result"
    }
   ],
   "source": [
    "A = toeplitz(reverse(resp), length(xn), length(xn) + length(resp) - 1)"
   ]
  },
  {
   "cell_type": "code",
   "execution_count": 24,
   "metadata": {
    "collapsed": false
   },
   "outputs": [
    {
     "data": {
      "text/plain": [
       "119999×60000 ToeplitzMatrices.Toeplitz{Float64,Complex{Float64}}:\n",
       " 1.18681e-166  0.0           …  0.0         0.0         0.0       \n",
       " 1.19429e-166  1.18681e-166     0.0         0.0         0.0       \n",
       " 1.20182e-166  1.19429e-166     0.0         0.0         0.0       \n",
       " 1.2094e-166   1.20182e-166     0.0         0.0         0.0       \n",
       " 1.21702e-166  1.2094e-166      0.0         0.0         0.0       \n",
       " 1.22469e-166  1.21702e-166  …  0.0         0.0         0.0       \n",
       " 1.23241e-166  1.22469e-166     0.0         0.0         0.0       \n",
       " 1.24018e-166  1.23241e-166     0.0         0.0         0.0       \n",
       " 1.24799e-166  1.24018e-166     0.0         0.0         0.0       \n",
       " 1.25586e-166  1.24799e-166     0.0         0.0         0.0       \n",
       " 1.26378e-166  1.25586e-166  …  0.0         0.0         0.0       \n",
       " 1.27174e-166  1.26378e-166     0.0         0.0         0.0       \n",
       " 1.27976e-166  1.27174e-166     0.0         0.0         0.0       \n",
       " ⋮                           ⋱                                    \n",
       " 0.0           0.0              0.00591912  0.00588205  0.00584521\n",
       " 0.0           0.0              0.00595643  0.00591912  0.00588205\n",
       " 0.0           0.0              0.00599398  0.00595643  0.00591912\n",
       " 0.0           0.0           …  0.00603175  0.00599398  0.00595643\n",
       " 0.0           0.0              0.00606977  0.00603175  0.00599398\n",
       " 0.0           0.0              0.00610803  0.00606977  0.00603175\n",
       " 0.0           0.0              0.00614653  0.00610803  0.00606977\n",
       " 0.0           0.0              0.00618527  0.00614653  0.00610803\n",
       " 0.0           0.0           …  0.00622426  0.00618527  0.00614653\n",
       " 0.0           0.0              0.00626349  0.00622426  0.00618527\n",
       " 0.0           0.0              0.0         0.00626349  0.00622426\n",
       " 0.0           0.0              0.0         0.0         0.00626349"
      ]
     },
     "execution_count": 24,
     "metadata": {},
     "output_type": "execute_result"
    }
   ],
   "source": [
    "Act = ctrans(A)"
   ]
  },
  {
   "cell_type": "code",
   "execution_count": 25,
   "metadata": {
    "collapsed": false
   },
   "outputs": [
    {
     "data": {
      "text/plain": [
       "119999-element Array{Int64,1}:\n",
       "  63879\n",
       "  63878\n",
       "  63880\n",
       "  63877\n",
       "  63881\n",
       "  63876\n",
       "  63882\n",
       "  63875\n",
       "  63883\n",
       "  63874\n",
       "  63884\n",
       "  63873\n",
       "  63885\n",
       "      ⋮\n",
       " 116997\n",
       " 117008\n",
       " 116998\n",
       " 117007\n",
       " 116999\n",
       " 117006\n",
       " 117000\n",
       " 117005\n",
       " 117001\n",
       " 117004\n",
       " 117002\n",
       " 117003"
      ]
     },
     "execution_count": 25,
     "metadata": {},
     "output_type": "execute_result"
    }
   ],
   "source": [
    "ind = sortperm(Act * x, rev=true)"
   ]
  },
  {
   "cell_type": "code",
   "execution_count": 28,
   "metadata": {
    "collapsed": false
   },
   "outputs": [
    {
     "data": {
      "text/plain": [
       "60000×3 Array{Float64,2}:\n",
       " 1.26262e-155  0.0          0.0        \n",
       " 1.25471e-155  0.0          0.0        \n",
       " 1.24685e-155  0.0          0.0        \n",
       " 1.23904e-155  0.0          0.0        \n",
       " 1.23128e-155  0.0          0.0        \n",
       " 1.22357e-155  0.0          0.0        \n",
       " 1.21591e-155  0.0          0.0        \n",
       " 1.20829e-155  0.0          0.0        \n",
       " 1.20072e-155  0.0          0.0        \n",
       " 1.1932e-155   0.0          0.0        \n",
       " 1.18573e-155  0.0          0.0        \n",
       " 1.1783e-155   0.0          0.0        \n",
       " 1.17092e-155  0.0          0.0        \n",
       " ⋮                                     \n",
       " 0.0           7.92689e-19  1.01619e-17\n",
       " 0.0           7.87724e-19  1.00983e-17\n",
       " 0.0           7.8279e-19   1.0035e-17 \n",
       " 0.0           7.77887e-19  9.97218e-18\n",
       " 0.0           7.73015e-19  9.90972e-18\n",
       " 0.0           7.68173e-19  9.84765e-18\n",
       " 0.0           7.63362e-19  9.78597e-18\n",
       " 0.0           7.5858e-19   9.72468e-18\n",
       " 0.0           7.53829e-19  9.66377e-18\n",
       " 0.0           7.49108e-19  9.60324e-18\n",
       " 0.0           7.44415e-19  9.54309e-18\n",
       " 0.0           7.39753e-19  9.48332e-18"
      ]
     },
     "execution_count": 28,
     "metadata": {},
     "output_type": "execute_result"
    }
   ],
   "source": [
    "Aapprox_dense = A[:, [4042, ind[492], ind[1354]]]"
   ]
  },
  {
   "cell_type": "code",
   "execution_count": 29,
   "metadata": {
    "collapsed": false
   },
   "outputs": [
    {
     "data": {
      "text/plain": [
       "60000×3 sparse matrix with 15312 Float64 nonzero entries:\n",
       "\t[1    ,     1]  =  1.26262e-155\n",
       "\t[2    ,     1]  =  1.25471e-155\n",
       "\t[3    ,     1]  =  1.24685e-155\n",
       "\t[4    ,     1]  =  1.23904e-155\n",
       "\t[5    ,     1]  =  1.23128e-155\n",
       "\t[6    ,     1]  =  1.22357e-155\n",
       "\t[7    ,     1]  =  1.21591e-155\n",
       "\t[8    ,     1]  =  1.20829e-155\n",
       "\t[9    ,     1]  =  1.20072e-155\n",
       "\t[10   ,     1]  =  1.1932e-155\n",
       "\t⋮\n",
       "\t[59990,     3]  =  1.00983e-17\n",
       "\t[59991,     3]  =  1.0035e-17\n",
       "\t[59992,     3]  =  9.97218e-18\n",
       "\t[59993,     3]  =  9.90972e-18\n",
       "\t[59994,     3]  =  9.84765e-18\n",
       "\t[59995,     3]  =  9.78597e-18\n",
       "\t[59996,     3]  =  9.72468e-18\n",
       "\t[59997,     3]  =  9.66377e-18\n",
       "\t[59998,     3]  =  9.60324e-18\n",
       "\t[59999,     3]  =  9.54309e-18\n",
       "\t[60000,     3]  =  9.48332e-18"
      ]
     },
     "execution_count": 29,
     "metadata": {},
     "output_type": "execute_result"
    }
   ],
   "source": [
    "Aapprox_sparse = sparse(Aapprox_dense)"
   ]
  },
  {
   "cell_type": "code",
   "execution_count": 30,
   "metadata": {
    "collapsed": true
   },
   "outputs": [],
   "source": [
    "using BenchmarkTools"
   ]
  },
  {
   "cell_type": "code",
   "execution_count": 31,
   "metadata": {
    "collapsed": false
   },
   "outputs": [
    {
     "data": {
      "text/plain": [
       "BenchmarkTools.Trial: \n",
       "  memory estimate:  192.00 bytes\n",
       "  allocs estimate:  2\n",
       "  --------------\n",
       "  minimum time:     536.292 μs (0.00% GC)\n",
       "  median time:      554.154 μs (0.00% GC)\n",
       "  mean time:        574.150 μs (0.00% GC)\n",
       "  maximum time:     983.157 μs (0.00% GC)\n",
       "  --------------\n",
       "  samples:          8698\n",
       "  evals/sample:     1\n",
       "  time tolerance:   5.00%\n",
       "  memory tolerance: 1.00%"
      ]
     },
     "execution_count": 31,
     "metadata": {},
     "output_type": "execute_result"
    }
   ],
   "source": [
    "@benchmark Aapprox_dense' * Aapprox_dense"
   ]
  },
  {
   "cell_type": "code",
   "execution_count": 32,
   "metadata": {
    "collapsed": false
   },
   "outputs": [
    {
     "data": {
      "text/plain": [
       "BenchmarkTools.Trial: \n",
       "  memory estimate:  2.77 kb\n",
       "  allocs estimate:  17\n",
       "  --------------\n",
       "  minimum time:     632.915 μs (0.00% GC)\n",
       "  median time:      663.765 μs (0.00% GC)\n",
       "  mean time:        683.615 μs (0.00% GC)\n",
       "  maximum time:     1.121 ms (0.00% GC)\n",
       "  --------------\n",
       "  samples:          7301\n",
       "  evals/sample:     1\n",
       "  time tolerance:   5.00%\n",
       "  memory tolerance: 1.00%"
      ]
     },
     "execution_count": 32,
     "metadata": {},
     "output_type": "execute_result"
    }
   ],
   "source": [
    "@benchmark inv(Aapprox_dense' * Aapprox_dense)  * (Aapprox_dense' * x)"
   ]
  },
  {
   "cell_type": "code",
   "execution_count": 36,
   "metadata": {
    "collapsed": false
   },
   "outputs": [
    {
     "data": {
      "text/plain": [
       "3-element Array{Float64,1}:\n",
       " -5.92219e153\n",
       " 68.2443     \n",
       " 18.0479     "
      ]
     },
     "execution_count": 36,
     "metadata": {},
     "output_type": "execute_result"
    }
   ],
   "source": [
    "x_approx = inv(full(Aapprox_sparse' * Aapprox_sparse))  * (Aapprox_sparse' * x)"
   ]
  },
  {
   "cell_type": "code",
   "execution_count": 37,
   "metadata": {
    "collapsed": false
   },
   "outputs": [
    {
     "data": {
      "text/plain": [
       "60000-element Array{Float64,1}:\n",
       "  0.039946 \n",
       "  0.0393623\n",
       "  0.0387773\n",
       "  0.0381914\n",
       "  0.0376048\n",
       "  0.0370175\n",
       "  0.0364299\n",
       "  0.0358421\n",
       "  0.0352543\n",
       "  0.0346669\n",
       "  0.0340801\n",
       "  0.0334941\n",
       "  0.0329092\n",
       "  ⋮        \n",
       " -0.0314076\n",
       " -0.0316156\n",
       " -0.0318178\n",
       " -0.0320142\n",
       " -0.032205 \n",
       " -0.0323903\n",
       " -0.0325702\n",
       " -0.0327449\n",
       " -0.0329145\n",
       " -0.0330794\n",
       " -0.0332397\n",
       " -0.0333956"
      ]
     },
     "execution_count": 37,
     "metadata": {},
     "output_type": "execute_result"
    }
   ],
   "source": [
    "x - Aapprox_sparse * x_approx"
   ]
  },
  {
   "cell_type": "code",
   "execution_count": 38,
   "metadata": {
    "collapsed": false
   },
   "outputs": [
    {
     "data": {
      "text/plain": [
       "Sparse vector of length 61001 with 0 Float64 nonzero entries:\n"
      ]
     },
     "execution_count": 38,
     "metadata": {},
     "output_type": "execute_result"
    }
   ],
   "source": [
    "sx = sparsevec(zeros(61001))"
   ]
  },
  {
   "cell_type": "code",
   "execution_count": 39,
   "metadata": {
    "collapsed": false
   },
   "outputs": [
    {
     "data": {
      "text/plain": [
       "119999×60000 ToeplitzMatrices.Toeplitz{Float64,Complex{Float64}}:\n",
       " 1.18681e-166  0.0           …  0.0         0.0         0.0       \n",
       " 1.19429e-166  1.18681e-166     0.0         0.0         0.0       \n",
       " 1.20182e-166  1.19429e-166     0.0         0.0         0.0       \n",
       " 1.2094e-166   1.20182e-166     0.0         0.0         0.0       \n",
       " 1.21702e-166  1.2094e-166      0.0         0.0         0.0       \n",
       " 1.22469e-166  1.21702e-166  …  0.0         0.0         0.0       \n",
       " 1.23241e-166  1.22469e-166     0.0         0.0         0.0       \n",
       " 1.24018e-166  1.23241e-166     0.0         0.0         0.0       \n",
       " 1.24799e-166  1.24018e-166     0.0         0.0         0.0       \n",
       " 1.25586e-166  1.24799e-166     0.0         0.0         0.0       \n",
       " 1.26378e-166  1.25586e-166  …  0.0         0.0         0.0       \n",
       " 1.27174e-166  1.26378e-166     0.0         0.0         0.0       \n",
       " 1.27976e-166  1.27174e-166     0.0         0.0         0.0       \n",
       " ⋮                           ⋱                                    \n",
       " 0.0           0.0              0.00591912  0.00588205  0.00584521\n",
       " 0.0           0.0              0.00595643  0.00591912  0.00588205\n",
       " 0.0           0.0              0.00599398  0.00595643  0.00591912\n",
       " 0.0           0.0           …  0.00603175  0.00599398  0.00595643\n",
       " 0.0           0.0              0.00606977  0.00603175  0.00599398\n",
       " 0.0           0.0              0.00610803  0.00606977  0.00603175\n",
       " 0.0           0.0              0.00614653  0.00610803  0.00606977\n",
       " 0.0           0.0              0.00618527  0.00614653  0.00610803\n",
       " 0.0           0.0           …  0.00622426  0.00618527  0.00614653\n",
       " 0.0           0.0              0.00626349  0.00622426  0.00618527\n",
       " 0.0           0.0              0.0         0.00626349  0.00622426\n",
       " 0.0           0.0              0.0         0.0         0.00626349"
      ]
     },
     "execution_count": 39,
     "metadata": {},
     "output_type": "execute_result"
    }
   ],
   "source": [
    "y = xn\n",
    "k = 1\n",
    "inds = Vector{Int}()\n",
    "r = copy(y)\n",
    "A_ct = ctrans(A)"
   ]
  },
  {
   "cell_type": "code",
   "execution_count": 40,
   "metadata": {
    "collapsed": false
   },
   "outputs": [
    {
     "data": {
      "text/plain": [
       "119999-element Array{Float64,1}:\n",
       " -5.68441e-18\n",
       " -3.158e-18  \n",
       "  7.57921e-18\n",
       "  9.78981e-18\n",
       "  1.92638e-17\n",
       "  6.00021e-18\n",
       " -1.7369e-17 \n",
       " -1.2632e-18 \n",
       "  1.95796e-17\n",
       " -1.8948e-18 \n",
       "  4.737e-18  \n",
       "  3.158e-19  \n",
       " -5.68441e-18\n",
       "  ⋮          \n",
       "  0.000420704\n",
       "  0.000380362\n",
       "  0.000341077\n",
       "  0.000302818\n",
       "  0.000265557\n",
       "  0.000229263\n",
       "  0.000193908\n",
       "  0.000159464\n",
       "  0.000125904\n",
       "  9.3202e-5  \n",
       "  6.13327e-5 \n",
       "  3.02728e-5 "
      ]
     },
     "execution_count": 40,
     "metadata": {},
     "output_type": "execute_result"
    }
   ],
   "source": [
    "A_ct * r"
   ]
  },
  {
   "cell_type": "code",
   "execution_count": 41,
   "metadata": {
    "collapsed": false
   },
   "outputs": [
    {
     "data": {
      "text/plain": [
       "Sparse vector of length 119999 with 0 Float64 nonzero entries:\n"
      ]
     },
     "execution_count": 41,
     "metadata": {},
     "output_type": "execute_result"
    }
   ],
   "source": [
    "x = sparsevec(Vector{Int}(),Vector{Float64}(), size(A)[2])"
   ]
  },
  {
   "cell_type": "code",
   "execution_count": 42,
   "metadata": {
    "collapsed": false
   },
   "outputs": [
    {
     "data": {
      "text/html": [
       "2.0"
      ],
      "text/plain": [
       "2.0"
      ]
     },
     "execution_count": 42,
     "metadata": {},
     "output_type": "execute_result"
    }
   ],
   "source": [
    "x[3] = 2.0"
   ]
  },
  {
   "cell_type": "code",
   "execution_count": 43,
   "metadata": {
    "collapsed": false
   },
   "outputs": [
    {
     "name": "stdout",
     "output_type": "stream",
     "text": [
      "117003\n",
      "63879\n",
      "114116\n",
      "117377\n",
      "114331\n",
      "117608\n",
      "116972\n",
      "114025\n",
      "117032\n",
      "63914\n",
      "63846\n",
      "114579\n",
      "114213\n",
      "117870\n",
      "117291\n",
      "117491\n",
      "114824\n",
      "115321\n",
      "114441\n",
      "117727\n",
      "115821\n",
      "116989\n",
      "63895\n",
      "63864\n",
      "116313\n",
      "117016\n",
      "114069\n",
      "118161\n",
      "115059\n",
      "64178\n",
      "70823\n",
      "115557\n",
      "87317\n",
      "114695\n",
      "106197\n",
      "107310\n",
      "117113\n",
      "114164\n",
      "106604\n",
      "116646\n",
      "114271\n",
      "87792\n",
      "79788\n",
      "86905\n",
      "117431\n",
      "89798\n",
      "116041\n",
      "107920\n",
      "117333\n",
      "78561\n"
     ]
    }
   ],
   "source": [
    "y = xn\n",
    "k = 50\n",
    "x = sparsevec(Vector{Int}(),Vector{Float64}(), size(A)[2])\n",
    "r = copy(y)\n",
    "A_ct = ctrans(A)\n",
    "for j = 1:k\n",
    "    rX = abs(A_ct * r)\n",
    "    sortedinds = sortperm(rX, rev=true)\n",
    "    for ind_ in sortedinds\n",
    "        if !(ind_ in x.nzind)\n",
    "            println(ind_)\n",
    "            x[ind_] = 1.0\n",
    "            break\n",
    "        end\n",
    "    end\n",
    "    Aapprox = sparse(A[:, x.nzind])\n",
    "    # Somehow I was writing the wrong number on top!\n",
    "    x.nzval[:] = inv(full(Aapprox' * Aapprox)) * (Aapprox' * y)\n",
    "    r[:] = y - Aapprox * x.nzval\n",
    "end"
   ]
  },
  {
   "cell_type": "code",
   "execution_count": 44,
   "metadata": {
    "collapsed": false
   },
   "outputs": [
    {
     "data": {
      "image/png": "[encoded data removed]",
      "text/plain": [
       "PyPlot.Figure(PyObject <matplotlib.figure.Figure object at 0x32add9750>)"
      ]
     },
     "metadata": {},
     "output_type": "display_data"
    },
    {
     "data": {
      "text/plain": [
       "(-50.5,-49.5)"
      ]
     },
     "execution_count": 44,
     "metadata": {},
     "output_type": "execute_result"
    }
   ],
   "source": [
    "plot(t, xn)\n",
    "plot(t, A * full(x))\n",
    "xlim(-50.5, -49.5)"
   ]
  },
  {
   "cell_type": "code",
   "execution_count": 45,
   "metadata": {
    "collapsed": false
   },
   "outputs": [
    {
     "data": {
      "text/plain": [
       "60000-element Array{Float64,1}:\n",
       " -53.9995\n",
       " -53.9985\n",
       " -53.9975\n",
       " -53.9965\n",
       " -53.9955\n",
       " -53.9945\n",
       " -53.9935\n",
       " -53.9925\n",
       " -53.9915\n",
       " -53.9905\n",
       " -53.9895\n",
       " -53.9885\n",
       " -53.9875\n",
       "   ⋮     \n",
       "   5.9885\n",
       "   5.9895\n",
       "   5.9905\n",
       "   5.9915\n",
       "   5.9925\n",
       "   5.9935\n",
       "   5.9945\n",
       "   5.9955\n",
       "   5.9965\n",
       "   5.9975\n",
       "   5.9985\n",
       "   5.9995"
      ]
     },
     "execution_count": 45,
     "metadata": {},
     "output_type": "execute_result"
    }
   ],
   "source": [
    "t"
   ]
  },
  {
   "cell_type": "code",
   "execution_count": 47,
   "metadata": {
    "collapsed": false
   },
   "outputs": [],
   "source": [
    "# plot(t[x.nzind]*1e3, x.nzval, )\n",
    "# xlim(-49175, -49075)"
   ]
  },
  {
   "cell_type": "code",
   "execution_count": 48,
   "metadata": {
    "collapsed": false
   },
   "outputs": [
    {
     "data": {
      "image/png": "[encoded data removed]",
      "text/plain": [
       "PyPlot.Figure(PyObject <matplotlib.figure.Figure object at 0x32ae7b750>)"
      ]
     },
     "metadata": {},
     "output_type": "display_data"
    },
    {
     "data": {
      "text/plain": [
       "1-element Array{Any,1}:\n",
       " PyObject <matplotlib.lines.Line2D object at 0x32fa98490>"
      ]
     },
     "execution_count": 48,
     "metadata": {},
     "output_type": "execute_result"
    }
   ],
   "source": [
    "plot(x)"
   ]
  },
  {
   "cell_type": "code",
   "execution_count": 53,
   "metadata": {
    "collapsed": false
   },
   "outputs": [
    {
     "data": {
      "image/png": "[encoded data removed]",
      "text/plain": [
       "PyPlot.Figure(PyObject <matplotlib.figure.Figure object at 0x33294dfd0>)"
      ]
     },
     "metadata": {},
     "output_type": "display_data"
    },
    {
     "data": {
      "text/plain": [
       "(-0.1,5)"
      ]
     },
     "execution_count": 53,
     "metadata": {},
     "output_type": "execute_result"
    }
   ],
   "source": [
    "plot(t, A * full(x))\n",
    "xlim(-0.1, 5)"
   ]
  },
  {
   "cell_type": "code",
   "execution_count": 54,
   "metadata": {
    "collapsed": false
   },
   "outputs": [
    {
     "data": {
      "image/png": "[encoded data removed]",
      "text/plain": [
       "PyPlot.Figure(PyObject <matplotlib.figure.Figure object at 0x334f12890>)"
      ]
     },
     "metadata": {},
     "output_type": "display_data"
    },
    {
     "data": {
      "text/plain": [
       "(2000,8000)"
      ]
     },
     "execution_count": 54,
     "metadata": {},
     "output_type": "execute_result"
    }
   ],
   "source": [
    "plot(xn-r)\n",
    "plot(xn)\n",
    "xlim(2000, 8000)"
   ]
  },
  {
   "cell_type": "code",
   "execution_count": 55,
   "metadata": {
    "collapsed": false
   },
   "outputs": [
    {
     "data": {
      "text/plain": [
       "sparse_sum (generic function with 1 method)"
      ]
     },
     "execution_count": 55,
     "metadata": {},
     "output_type": "execute_result"
    }
   ],
   "source": [
    "function sparse_sum(x)\n",
    "    vals = cumsum(x.nzval)\n",
    "    inds = x.nzind\n",
    "    return inds, vals\n",
    "end"
   ]
  },
  {
   "cell_type": "code",
   "execution_count": 56,
   "metadata": {
    "collapsed": false
   },
   "outputs": [
    {
     "data": {
      "text/plain": [
       "([63846,63864,63879,63895,63914,64178,70823,78561,79788,86905  …  117113,117291,117333,117377,117431,117491,117608,117727,117870,118161],[35.0437,102.816,182.075,249.476,280.382,286.665,280.829,277.062,272.87,268.754  …  167.757,150.933,136.178,122.72,110.89,94.6368,79.4218,66.5237,55.7497,49.0896])"
      ]
     },
     "execution_count": 56,
     "metadata": {},
     "output_type": "execute_result"
    }
   ],
   "source": [
    "xi, xsum = sparse_sum(x)"
   ]
  },
  {
   "cell_type": "code",
   "execution_count": null,
   "metadata": {
    "collapsed": true
   },
   "outputs": [],
   "source": []
  },
  {
   "cell_type": "code",
   "execution_count": 65,
   "metadata": {
    "collapsed": false
   },
   "outputs": [
    {
     "data": {
      "image/png": "[encoded data removed]",
      "text/plain": [
       "PyPlot.Figure(PyObject <matplotlib.figure.Figure object at 0x32af7dc90>)"
      ]
     },
     "metadata": {},
     "output_type": "display_data"
    },
    {
     "data": {
      "text/plain": [
       "(-0.1,5)"
      ]
     },
     "execution_count": 65,
     "metadata": {},
     "output_type": "execute_result"
    }
   ],
   "source": [
    "ti = [t[i-length(resp)] for i in xi]\n",
    "plot(ti, xsum, \"o\")\n",
    "ylim(0, 525)\n",
    "xlim(-0.1, 5)"
   ]
  },
  {
   "cell_type": "code",
   "execution_count": 163,
   "metadata": {
    "collapsed": false
   },
   "outputs": [
    {
     "data": {
      "text/plain": [
       "2-element Array{Float64,1}:\n",
       "  203.751\n",
       " -239.242"
      ]
     },
     "execution_count": 163,
     "metadata": {},
     "output_type": "execute_result"
    }
   ],
   "source": [
    "x.nzval[:] = "
   ]
  },
  {
   "cell_type": "code",
   "execution_count": 103,
   "metadata": {
    "collapsed": false
   },
   "outputs": [
    {
     "ename": "LoadError",
     "evalue": "LoadError: InterruptException:\nwhile loading In[103], in expression starting on line 1",
     "output_type": "error",
     "traceback": [
      "LoadError: InterruptException:\nwhile loading In[103], in expression starting on line 1",
      "",
      " in omp_sparse(::ToeplitzMatrices.Toeplitz{Float64,Complex{Float64}}, ::Array{Float64,1}, ::Int64) at ./In[102]:11"
     ]
    }
   ],
   "source": [
    "xr = omp_sparse(A, xn, 2)"
   ]
  },
  {
   "cell_type": "code",
   "execution_count": 310,
   "metadata": {
    "collapsed": false
   },
   "outputs": [
    {
     "ename": "LoadError",
     "evalue": "LoadError: PyError (:PyObject_Call) <type 'exceptions.ValueError'>\nValueError(u'x and y must have same first dimension, but have shapes (60000,) and (61001,)',)\n  File \"/Users/ryandwyer/anaconda/lib/python2.7/site-packages/matplotlib/pyplot.py\", line 3158, in plot\n    ret = ax.plot(*args, **kwargs)\n  File \"/Users/ryandwyer/anaconda/lib/python2.7/site-packages/matplotlib/__init__.py\", line 1857, in inner\n    return func(ax, *args, **kwargs)\n  File \"/Users/ryandwyer/anaconda/lib/python2.7/site-packages/matplotlib/axes/_axes.py\", line 1383, in plot\n    for line in self._get_lines(*args, **kwargs):\n  File \"/Users/ryandwyer/anaconda/lib/python2.7/site-packages/matplotlib/axes/_base.py\", line 403, in _grab_next_args\n    for seg in self._plot_args(remaining, kwargs):\n  File \"/Users/ryandwyer/anaconda/lib/python2.7/site-packages/matplotlib/axes/_base.py\", line 381, in _plot_args\n    x, y = self._xy_from_xy(x, y)\n  File \"/Users/ryandwyer/anaconda/lib/python2.7/site-packages/matplotlib/axes/_base.py\", line 240, in _xy_from_xy\n    \"have shapes {} and {}\".format(x.shape, y.shape))\n\nwhile loading In[310], in expression starting on line 1",
     "output_type": "error",
     "traceback": [
      "LoadError: PyError (:PyObject_Call) <type 'exceptions.ValueError'>\nValueError(u'x and y must have same first dimension, but have shapes (60000,) and (61001,)',)\n  File \"/Users/ryandwyer/anaconda/lib/python2.7/site-packages/matplotlib/pyplot.py\", line 3158, in plot\n    ret = ax.plot(*args, **kwargs)\n  File \"/Users/ryandwyer/anaconda/lib/python2.7/site-packages/matplotlib/__init__.py\", line 1857, in inner\n    return func(ax, *args, **kwargs)\n  File \"/Users/ryandwyer/anaconda/lib/python2.7/site-packages/matplotlib/axes/_axes.py\", line 1383, in plot\n    for line in self._get_lines(*args, **kwargs):\n  File \"/Users/ryandwyer/anaconda/lib/python2.7/site-packages/matplotlib/axes/_base.py\", line 403, in _grab_next_args\n    for seg in self._plot_args(remaining, kwargs):\n  File \"/Users/ryandwyer/anaconda/lib/python2.7/site-packages/matplotlib/axes/_base.py\", line 381, in _plot_args\n    x, y = self._xy_from_xy(x, y)\n  File \"/Users/ryandwyer/anaconda/lib/python2.7/site-packages/matplotlib/axes/_base.py\", line 240, in _xy_from_xy\n    \"have shapes {} and {}\".format(x.shape, y.shape))\n\nwhile loading In[310], in expression starting on line 1",
      "",
      " in pyerr_check at /Users/ryandwyer/.julia/v0.5/PyCall/src/exception.jl:56 [inlined]",
      " in pyerr_check at /Users/ryandwyer/.julia/v0.5/PyCall/src/exception.jl:61 [inlined]",
      " in macro expansion at /Users/ryandwyer/.julia/v0.5/PyCall/src/exception.jl:81 [inlined]",
      " in #_pycall#62(::Array{Any,1}, ::Function, ::PyCall.PyObject, ::Array{Float64,1}, ::Vararg{Any,N}) at /Users/ryandwyer/.julia/v0.5/PyCall/src/PyCall.jl:546",
      " in _pycall(::PyCall.PyObject, ::Array{Float64,1}, ::Vararg{Any,N}) at /Users/ryandwyer/.julia/v0.5/PyCall/src/PyCall.jl:534",
      " in #pycall#66(::Array{Any,1}, ::Function, ::PyCall.PyObject, ::Type{PyCall.PyAny}, ::Array{Float64,1}, ::Vararg{Any,N}) at /Users/ryandwyer/.julia/v0.5/PyCall/src/PyCall.jl:568",
      " in pycall(::PyCall.PyObject, ::Type{PyCall.PyAny}, ::Array{Float64,1}, ::Vararg{Any,N}) at /Users/ryandwyer/.julia/v0.5/PyCall/src/PyCall.jl:568",
      " in #plot#84(::Array{Any,1}, ::Function, ::Array{Float64,1}, ::Vararg{Any,N}) at /Users/ryandwyer/.julia/v0.5/PyPlot/src/PyPlot.jl:460",
      " in plot(::Array{Float64,1}, ::Vararg{Any,N}) at /Users/ryandwyer/.julia/v0.5/PyPlot/src/PyPlot.jl:457"
     ]
    }
   ],
   "source": [
    "plot(t, x)\n",
    "plot(t, xr[501:end-501]/150)"
   ]
  }
 ],
 "metadata": {
  "kernelspec": {
   "display_name": "Julia 0.5.1-pre",
   "language": "julia",
   "name": "julia-0.5"
  },
  "language_info": {
   "file_extension": ".jl",
   "mimetype": "application/julia",
   "name": "julia",
   "version": "0.5.1"
  }
 },
 "nbformat": 4,
 "nbformat_minor": 0
}
